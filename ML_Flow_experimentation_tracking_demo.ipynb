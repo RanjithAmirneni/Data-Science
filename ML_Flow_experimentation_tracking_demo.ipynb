{
  "nbformat": 4,
  "nbformat_minor": 0,
  "metadata": {
    "colab": {
      "provenance": [],
      "authorship_tag": "ABX9TyOG5Td8gLYRMeaL1sAJH2wj",
      "include_colab_link": true
    },
    "kernelspec": {
      "name": "python3",
      "display_name": "Python 3"
    },
    "language_info": {
      "name": "python"
    }
  },
  "cells": [
    {
      "cell_type": "markdown",
      "metadata": {
        "id": "view-in-github",
        "colab_type": "text"
      },
      "source": [
        "<a href=\"https://colab.research.google.com/github/RanjithAmirneni/Data-Science-Exercises/blob/main/ML_Flow_experimentation_tracking_demo.ipynb\" target=\"_parent\"><img src=\"https://colab.research.google.com/assets/colab-badge.svg\" alt=\"Open In Colab\"/></a>"
      ]
    },
    {
      "cell_type": "markdown",
      "source": [
        "Reference :\n",
        "https://www.youtube.com/watch?v=OWJHHAtnAwY"
      ],
      "metadata": {
        "id": "jyMIZe4vPE9B"
      }
    },
    {
      "cell_type": "code",
      "source": [
        "!pip install mlflow"
      ],
      "metadata": {
        "colab": {
          "base_uri": "https://localhost:8080/"
        },
        "id": "6CDFEL32y3_I",
        "outputId": "243572b2-b04d-4e9c-d3b5-f6b129b42068"
      },
      "execution_count": null,
      "outputs": [
        {
          "output_type": "stream",
          "name": "stdout",
          "text": [
            "Looking in indexes: https://pypi.org/simple, https://us-python.pkg.dev/colab-wheels/public/simple/\n",
            "Requirement already satisfied: mlflow in /usr/local/lib/python3.8/dist-packages (2.1.1)\n",
            "Requirement already satisfied: gitpython<4,>=2.1.0 in /usr/local/lib/python3.8/dist-packages (from mlflow) (3.1.30)\n",
            "Requirement already satisfied: Jinja2<4,>=2.11 in /usr/local/lib/python3.8/dist-packages (from mlflow) (2.11.3)\n",
            "Requirement already satisfied: pytz<2023 in /usr/local/lib/python3.8/dist-packages (from mlflow) (2022.7)\n",
            "Requirement already satisfied: markdown<4,>=3.3 in /usr/local/lib/python3.8/dist-packages (from mlflow) (3.4.1)\n",
            "Requirement already satisfied: Flask<3 in /usr/local/lib/python3.8/dist-packages (from mlflow) (1.1.4)\n",
            "Requirement already satisfied: click<9,>=7.0 in /usr/local/lib/python3.8/dist-packages (from mlflow) (7.1.2)\n",
            "Requirement already satisfied: requests<3,>=2.17.3 in /usr/local/lib/python3.8/dist-packages (from mlflow) (2.28.2)\n",
            "Requirement already satisfied: pyyaml<7,>=5.1 in /usr/local/lib/python3.8/dist-packages (from mlflow) (6.0)\n",
            "Requirement already satisfied: docker<7,>=4.0.0 in /usr/local/lib/python3.8/dist-packages (from mlflow) (6.0.1)\n",
            "Requirement already satisfied: sqlalchemy<2,>=1.4.0 in /usr/local/lib/python3.8/dist-packages (from mlflow) (1.4.46)\n",
            "Requirement already satisfied: querystring-parser<2 in /usr/local/lib/python3.8/dist-packages (from mlflow) (1.2.4)\n",
            "Requirement already satisfied: importlib-metadata!=4.7.0,<6,>=3.7.0 in /usr/local/lib/python3.8/dist-packages (from mlflow) (5.2.0)\n",
            "Requirement already satisfied: sqlparse<1,>=0.4.0 in /usr/local/lib/python3.8/dist-packages (from mlflow) (0.4.3)\n",
            "Requirement already satisfied: shap<1,>=0.40 in /usr/local/lib/python3.8/dist-packages (from mlflow) (0.41.0)\n",
            "Requirement already satisfied: databricks-cli<1,>=0.8.7 in /usr/local/lib/python3.8/dist-packages (from mlflow) (0.17.4)\n",
            "Requirement already satisfied: scipy<2 in /usr/local/lib/python3.8/dist-packages (from mlflow) (1.7.3)\n",
            "Requirement already satisfied: protobuf<5,>=3.12.0 in /usr/local/lib/python3.8/dist-packages (from mlflow) (3.19.6)\n",
            "Requirement already satisfied: matplotlib<4 in /usr/local/lib/python3.8/dist-packages (from mlflow) (3.6.3)\n",
            "Requirement already satisfied: alembic<2 in /usr/local/lib/python3.8/dist-packages (from mlflow) (1.9.2)\n",
            "Requirement already satisfied: cloudpickle<3 in /usr/local/lib/python3.8/dist-packages (from mlflow) (2.2.0)\n",
            "Requirement already satisfied: scikit-learn<2 in /usr/local/lib/python3.8/dist-packages (from mlflow) (1.0.2)\n",
            "Requirement already satisfied: numpy<2 in /usr/local/lib/python3.8/dist-packages (from mlflow) (1.21.6)\n",
            "Requirement already satisfied: packaging<23 in /usr/local/lib/python3.8/dist-packages (from mlflow) (21.3)\n",
            "Requirement already satisfied: gunicorn<21 in /usr/local/lib/python3.8/dist-packages (from mlflow) (20.1.0)\n",
            "Requirement already satisfied: pyarrow<11,>=4.0.0 in /usr/local/lib/python3.8/dist-packages (from mlflow) (9.0.0)\n",
            "Requirement already satisfied: pandas<2 in /usr/local/lib/python3.8/dist-packages (from mlflow) (1.3.5)\n",
            "Requirement already satisfied: entrypoints<1 in /usr/local/lib/python3.8/dist-packages (from mlflow) (0.4)\n",
            "Requirement already satisfied: importlib-resources in /usr/local/lib/python3.8/dist-packages (from alembic<2->mlflow) (5.10.2)\n",
            "Requirement already satisfied: Mako in /usr/local/lib/python3.8/dist-packages (from alembic<2->mlflow) (1.2.4)\n",
            "Requirement already satisfied: pyjwt>=1.7.0 in /usr/local/lib/python3.8/dist-packages (from databricks-cli<1,>=0.8.7->mlflow) (2.6.0)\n",
            "Requirement already satisfied: six>=1.10.0 in /usr/local/lib/python3.8/dist-packages (from databricks-cli<1,>=0.8.7->mlflow) (1.15.0)\n",
            "Requirement already satisfied: tabulate>=0.7.7 in /usr/local/lib/python3.8/dist-packages (from databricks-cli<1,>=0.8.7->mlflow) (0.8.10)\n",
            "Requirement already satisfied: oauthlib>=3.1.0 in /usr/local/lib/python3.8/dist-packages (from databricks-cli<1,>=0.8.7->mlflow) (3.2.2)\n",
            "Requirement already satisfied: websocket-client>=0.32.0 in /usr/local/lib/python3.8/dist-packages (from docker<7,>=4.0.0->mlflow) (1.4.2)\n",
            "Requirement already satisfied: urllib3>=1.26.0 in /usr/local/lib/python3.8/dist-packages (from docker<7,>=4.0.0->mlflow) (1.26.14)\n",
            "Requirement already satisfied: itsdangerous<2.0,>=0.24 in /usr/local/lib/python3.8/dist-packages (from Flask<3->mlflow) (1.1.0)\n",
            "Requirement already satisfied: Werkzeug<2.0,>=0.15 in /usr/local/lib/python3.8/dist-packages (from Flask<3->mlflow) (1.0.1)\n",
            "Requirement already satisfied: gitdb<5,>=4.0.1 in /usr/local/lib/python3.8/dist-packages (from gitpython<4,>=2.1.0->mlflow) (4.0.10)\n",
            "Requirement already satisfied: setuptools>=3.0 in /usr/local/lib/python3.8/dist-packages (from gunicorn<21->mlflow) (57.4.0)\n",
            "Requirement already satisfied: zipp>=0.5 in /usr/local/lib/python3.8/dist-packages (from importlib-metadata!=4.7.0,<6,>=3.7.0->mlflow) (3.11.0)\n",
            "Requirement already satisfied: MarkupSafe>=0.23 in /usr/local/lib/python3.8/dist-packages (from Jinja2<4,>=2.11->mlflow) (2.0.1)\n",
            "Requirement already satisfied: fonttools>=4.22.0 in /usr/local/lib/python3.8/dist-packages (from matplotlib<4->mlflow) (4.38.0)\n",
            "Requirement already satisfied: python-dateutil>=2.7 in /usr/local/lib/python3.8/dist-packages (from matplotlib<4->mlflow) (2.8.2)\n",
            "Requirement already satisfied: kiwisolver>=1.0.1 in /usr/local/lib/python3.8/dist-packages (from matplotlib<4->mlflow) (1.4.4)\n",
            "Requirement already satisfied: contourpy>=1.0.1 in /usr/local/lib/python3.8/dist-packages (from matplotlib<4->mlflow) (1.0.7)\n",
            "Requirement already satisfied: cycler>=0.10 in /usr/local/lib/python3.8/dist-packages (from matplotlib<4->mlflow) (0.11.0)\n",
            "Requirement already satisfied: pillow>=6.2.0 in /usr/local/lib/python3.8/dist-packages (from matplotlib<4->mlflow) (7.1.2)\n",
            "Requirement already satisfied: pyparsing>=2.2.1 in /usr/local/lib/python3.8/dist-packages (from matplotlib<4->mlflow) (3.0.9)\n",
            "Requirement already satisfied: charset-normalizer<4,>=2 in /usr/local/lib/python3.8/dist-packages (from requests<3,>=2.17.3->mlflow) (2.1.1)\n",
            "Requirement already satisfied: certifi>=2017.4.17 in /usr/local/lib/python3.8/dist-packages (from requests<3,>=2.17.3->mlflow) (2022.12.7)\n",
            "Requirement already satisfied: idna<4,>=2.5 in /usr/local/lib/python3.8/dist-packages (from requests<3,>=2.17.3->mlflow) (2.10)\n",
            "Requirement already satisfied: threadpoolctl>=2.0.0 in /usr/local/lib/python3.8/dist-packages (from scikit-learn<2->mlflow) (3.1.0)\n",
            "Requirement already satisfied: joblib>=0.11 in /usr/local/lib/python3.8/dist-packages (from scikit-learn<2->mlflow) (1.2.0)\n",
            "Requirement already satisfied: tqdm>4.25.0 in /usr/local/lib/python3.8/dist-packages (from shap<1,>=0.40->mlflow) (4.64.1)\n",
            "Requirement already satisfied: slicer==0.0.7 in /usr/local/lib/python3.8/dist-packages (from shap<1,>=0.40->mlflow) (0.0.7)\n",
            "Requirement already satisfied: numba in /usr/local/lib/python3.8/dist-packages (from shap<1,>=0.40->mlflow) (0.56.4)\n",
            "Requirement already satisfied: greenlet!=0.4.17 in /usr/local/lib/python3.8/dist-packages (from sqlalchemy<2,>=1.4.0->mlflow) (2.0.1)\n",
            "Requirement already satisfied: smmap<6,>=3.0.1 in /usr/local/lib/python3.8/dist-packages (from gitdb<5,>=4.0.1->gitpython<4,>=2.1.0->mlflow) (5.0.0)\n",
            "Requirement already satisfied: llvmlite<0.40,>=0.39.0dev0 in /usr/local/lib/python3.8/dist-packages (from numba->shap<1,>=0.40->mlflow) (0.39.1)\n"
          ]
        }
      ]
    },
    {
      "cell_type": "code",
      "execution_count": null,
      "metadata": {
        "id": "BMzUvqGexyQc"
      },
      "outputs": [],
      "source": [
        "from sklearn.datasets import  load_iris\n",
        "from sklearn.tree import  DecisionTreeClassifier\n",
        "from sklearn.neighbors import  KNeighborsClassifier\n",
        "from sklearn.model_selection import  train_test_split\n",
        "from sklearn import  metrics\n",
        "import mlflow\n",
        "import mlflow.sklearn"
      ]
    },
    {
      "cell_type": "code",
      "source": [
        "data = load_iris()"
      ],
      "metadata": {
        "id": "1sZLz6o0x7tU"
      },
      "execution_count": null,
      "outputs": []
    },
    {
      "cell_type": "code",
      "source": [
        "data"
      ],
      "metadata": {
        "colab": {
          "base_uri": "https://localhost:8080/"
        },
        "id": "HBMEprgxx9Kw",
        "outputId": "a5c08292-a187-4566-d46e-11901ebfdd0a"
      },
      "execution_count": null,
      "outputs": [
        {
          "output_type": "execute_result",
          "data": {
            "text/plain": [
              "{'data': array([[5.1, 3.5, 1.4, 0.2],\n",
              "        [4.9, 3. , 1.4, 0.2],\n",
              "        [4.7, 3.2, 1.3, 0.2],\n",
              "        [4.6, 3.1, 1.5, 0.2],\n",
              "        [5. , 3.6, 1.4, 0.2],\n",
              "        [5.4, 3.9, 1.7, 0.4],\n",
              "        [4.6, 3.4, 1.4, 0.3],\n",
              "        [5. , 3.4, 1.5, 0.2],\n",
              "        [4.4, 2.9, 1.4, 0.2],\n",
              "        [4.9, 3.1, 1.5, 0.1],\n",
              "        [5.4, 3.7, 1.5, 0.2],\n",
              "        [4.8, 3.4, 1.6, 0.2],\n",
              "        [4.8, 3. , 1.4, 0.1],\n",
              "        [4.3, 3. , 1.1, 0.1],\n",
              "        [5.8, 4. , 1.2, 0.2],\n",
              "        [5.7, 4.4, 1.5, 0.4],\n",
              "        [5.4, 3.9, 1.3, 0.4],\n",
              "        [5.1, 3.5, 1.4, 0.3],\n",
              "        [5.7, 3.8, 1.7, 0.3],\n",
              "        [5.1, 3.8, 1.5, 0.3],\n",
              "        [5.4, 3.4, 1.7, 0.2],\n",
              "        [5.1, 3.7, 1.5, 0.4],\n",
              "        [4.6, 3.6, 1. , 0.2],\n",
              "        [5.1, 3.3, 1.7, 0.5],\n",
              "        [4.8, 3.4, 1.9, 0.2],\n",
              "        [5. , 3. , 1.6, 0.2],\n",
              "        [5. , 3.4, 1.6, 0.4],\n",
              "        [5.2, 3.5, 1.5, 0.2],\n",
              "        [5.2, 3.4, 1.4, 0.2],\n",
              "        [4.7, 3.2, 1.6, 0.2],\n",
              "        [4.8, 3.1, 1.6, 0.2],\n",
              "        [5.4, 3.4, 1.5, 0.4],\n",
              "        [5.2, 4.1, 1.5, 0.1],\n",
              "        [5.5, 4.2, 1.4, 0.2],\n",
              "        [4.9, 3.1, 1.5, 0.2],\n",
              "        [5. , 3.2, 1.2, 0.2],\n",
              "        [5.5, 3.5, 1.3, 0.2],\n",
              "        [4.9, 3.6, 1.4, 0.1],\n",
              "        [4.4, 3. , 1.3, 0.2],\n",
              "        [5.1, 3.4, 1.5, 0.2],\n",
              "        [5. , 3.5, 1.3, 0.3],\n",
              "        [4.5, 2.3, 1.3, 0.3],\n",
              "        [4.4, 3.2, 1.3, 0.2],\n",
              "        [5. , 3.5, 1.6, 0.6],\n",
              "        [5.1, 3.8, 1.9, 0.4],\n",
              "        [4.8, 3. , 1.4, 0.3],\n",
              "        [5.1, 3.8, 1.6, 0.2],\n",
              "        [4.6, 3.2, 1.4, 0.2],\n",
              "        [5.3, 3.7, 1.5, 0.2],\n",
              "        [5. , 3.3, 1.4, 0.2],\n",
              "        [7. , 3.2, 4.7, 1.4],\n",
              "        [6.4, 3.2, 4.5, 1.5],\n",
              "        [6.9, 3.1, 4.9, 1.5],\n",
              "        [5.5, 2.3, 4. , 1.3],\n",
              "        [6.5, 2.8, 4.6, 1.5],\n",
              "        [5.7, 2.8, 4.5, 1.3],\n",
              "        [6.3, 3.3, 4.7, 1.6],\n",
              "        [4.9, 2.4, 3.3, 1. ],\n",
              "        [6.6, 2.9, 4.6, 1.3],\n",
              "        [5.2, 2.7, 3.9, 1.4],\n",
              "        [5. , 2. , 3.5, 1. ],\n",
              "        [5.9, 3. , 4.2, 1.5],\n",
              "        [6. , 2.2, 4. , 1. ],\n",
              "        [6.1, 2.9, 4.7, 1.4],\n",
              "        [5.6, 2.9, 3.6, 1.3],\n",
              "        [6.7, 3.1, 4.4, 1.4],\n",
              "        [5.6, 3. , 4.5, 1.5],\n",
              "        [5.8, 2.7, 4.1, 1. ],\n",
              "        [6.2, 2.2, 4.5, 1.5],\n",
              "        [5.6, 2.5, 3.9, 1.1],\n",
              "        [5.9, 3.2, 4.8, 1.8],\n",
              "        [6.1, 2.8, 4. , 1.3],\n",
              "        [6.3, 2.5, 4.9, 1.5],\n",
              "        [6.1, 2.8, 4.7, 1.2],\n",
              "        [6.4, 2.9, 4.3, 1.3],\n",
              "        [6.6, 3. , 4.4, 1.4],\n",
              "        [6.8, 2.8, 4.8, 1.4],\n",
              "        [6.7, 3. , 5. , 1.7],\n",
              "        [6. , 2.9, 4.5, 1.5],\n",
              "        [5.7, 2.6, 3.5, 1. ],\n",
              "        [5.5, 2.4, 3.8, 1.1],\n",
              "        [5.5, 2.4, 3.7, 1. ],\n",
              "        [5.8, 2.7, 3.9, 1.2],\n",
              "        [6. , 2.7, 5.1, 1.6],\n",
              "        [5.4, 3. , 4.5, 1.5],\n",
              "        [6. , 3.4, 4.5, 1.6],\n",
              "        [6.7, 3.1, 4.7, 1.5],\n",
              "        [6.3, 2.3, 4.4, 1.3],\n",
              "        [5.6, 3. , 4.1, 1.3],\n",
              "        [5.5, 2.5, 4. , 1.3],\n",
              "        [5.5, 2.6, 4.4, 1.2],\n",
              "        [6.1, 3. , 4.6, 1.4],\n",
              "        [5.8, 2.6, 4. , 1.2],\n",
              "        [5. , 2.3, 3.3, 1. ],\n",
              "        [5.6, 2.7, 4.2, 1.3],\n",
              "        [5.7, 3. , 4.2, 1.2],\n",
              "        [5.7, 2.9, 4.2, 1.3],\n",
              "        [6.2, 2.9, 4.3, 1.3],\n",
              "        [5.1, 2.5, 3. , 1.1],\n",
              "        [5.7, 2.8, 4.1, 1.3],\n",
              "        [6.3, 3.3, 6. , 2.5],\n",
              "        [5.8, 2.7, 5.1, 1.9],\n",
              "        [7.1, 3. , 5.9, 2.1],\n",
              "        [6.3, 2.9, 5.6, 1.8],\n",
              "        [6.5, 3. , 5.8, 2.2],\n",
              "        [7.6, 3. , 6.6, 2.1],\n",
              "        [4.9, 2.5, 4.5, 1.7],\n",
              "        [7.3, 2.9, 6.3, 1.8],\n",
              "        [6.7, 2.5, 5.8, 1.8],\n",
              "        [7.2, 3.6, 6.1, 2.5],\n",
              "        [6.5, 3.2, 5.1, 2. ],\n",
              "        [6.4, 2.7, 5.3, 1.9],\n",
              "        [6.8, 3. , 5.5, 2.1],\n",
              "        [5.7, 2.5, 5. , 2. ],\n",
              "        [5.8, 2.8, 5.1, 2.4],\n",
              "        [6.4, 3.2, 5.3, 2.3],\n",
              "        [6.5, 3. , 5.5, 1.8],\n",
              "        [7.7, 3.8, 6.7, 2.2],\n",
              "        [7.7, 2.6, 6.9, 2.3],\n",
              "        [6. , 2.2, 5. , 1.5],\n",
              "        [6.9, 3.2, 5.7, 2.3],\n",
              "        [5.6, 2.8, 4.9, 2. ],\n",
              "        [7.7, 2.8, 6.7, 2. ],\n",
              "        [6.3, 2.7, 4.9, 1.8],\n",
              "        [6.7, 3.3, 5.7, 2.1],\n",
              "        [7.2, 3.2, 6. , 1.8],\n",
              "        [6.2, 2.8, 4.8, 1.8],\n",
              "        [6.1, 3. , 4.9, 1.8],\n",
              "        [6.4, 2.8, 5.6, 2.1],\n",
              "        [7.2, 3. , 5.8, 1.6],\n",
              "        [7.4, 2.8, 6.1, 1.9],\n",
              "        [7.9, 3.8, 6.4, 2. ],\n",
              "        [6.4, 2.8, 5.6, 2.2],\n",
              "        [6.3, 2.8, 5.1, 1.5],\n",
              "        [6.1, 2.6, 5.6, 1.4],\n",
              "        [7.7, 3. , 6.1, 2.3],\n",
              "        [6.3, 3.4, 5.6, 2.4],\n",
              "        [6.4, 3.1, 5.5, 1.8],\n",
              "        [6. , 3. , 4.8, 1.8],\n",
              "        [6.9, 3.1, 5.4, 2.1],\n",
              "        [6.7, 3.1, 5.6, 2.4],\n",
              "        [6.9, 3.1, 5.1, 2.3],\n",
              "        [5.8, 2.7, 5.1, 1.9],\n",
              "        [6.8, 3.2, 5.9, 2.3],\n",
              "        [6.7, 3.3, 5.7, 2.5],\n",
              "        [6.7, 3. , 5.2, 2.3],\n",
              "        [6.3, 2.5, 5. , 1.9],\n",
              "        [6.5, 3. , 5.2, 2. ],\n",
              "        [6.2, 3.4, 5.4, 2.3],\n",
              "        [5.9, 3. , 5.1, 1.8]]),\n",
              " 'target': array([0, 0, 0, 0, 0, 0, 0, 0, 0, 0, 0, 0, 0, 0, 0, 0, 0, 0, 0, 0, 0, 0,\n",
              "        0, 0, 0, 0, 0, 0, 0, 0, 0, 0, 0, 0, 0, 0, 0, 0, 0, 0, 0, 0, 0, 0,\n",
              "        0, 0, 0, 0, 0, 0, 1, 1, 1, 1, 1, 1, 1, 1, 1, 1, 1, 1, 1, 1, 1, 1,\n",
              "        1, 1, 1, 1, 1, 1, 1, 1, 1, 1, 1, 1, 1, 1, 1, 1, 1, 1, 1, 1, 1, 1,\n",
              "        1, 1, 1, 1, 1, 1, 1, 1, 1, 1, 1, 1, 2, 2, 2, 2, 2, 2, 2, 2, 2, 2,\n",
              "        2, 2, 2, 2, 2, 2, 2, 2, 2, 2, 2, 2, 2, 2, 2, 2, 2, 2, 2, 2, 2, 2,\n",
              "        2, 2, 2, 2, 2, 2, 2, 2, 2, 2, 2, 2, 2, 2, 2, 2, 2, 2]),\n",
              " 'frame': None,\n",
              " 'target_names': array(['setosa', 'versicolor', 'virginica'], dtype='<U10'),\n",
              " 'DESCR': '.. _iris_dataset:\\n\\nIris plants dataset\\n--------------------\\n\\n**Data Set Characteristics:**\\n\\n    :Number of Instances: 150 (50 in each of three classes)\\n    :Number of Attributes: 4 numeric, predictive attributes and the class\\n    :Attribute Information:\\n        - sepal length in cm\\n        - sepal width in cm\\n        - petal length in cm\\n        - petal width in cm\\n        - class:\\n                - Iris-Setosa\\n                - Iris-Versicolour\\n                - Iris-Virginica\\n                \\n    :Summary Statistics:\\n\\n    ============== ==== ==== ======= ===== ====================\\n                    Min  Max   Mean    SD   Class Correlation\\n    ============== ==== ==== ======= ===== ====================\\n    sepal length:   4.3  7.9   5.84   0.83    0.7826\\n    sepal width:    2.0  4.4   3.05   0.43   -0.4194\\n    petal length:   1.0  6.9   3.76   1.76    0.9490  (high!)\\n    petal width:    0.1  2.5   1.20   0.76    0.9565  (high!)\\n    ============== ==== ==== ======= ===== ====================\\n\\n    :Missing Attribute Values: None\\n    :Class Distribution: 33.3% for each of 3 classes.\\n    :Creator: R.A. Fisher\\n    :Donor: Michael Marshall (MARSHALL%PLU@io.arc.nasa.gov)\\n    :Date: July, 1988\\n\\nThe famous Iris database, first used by Sir R.A. Fisher. The dataset is taken\\nfrom Fisher\\'s paper. Note that it\\'s the same as in R, but not as in the UCI\\nMachine Learning Repository, which has two wrong data points.\\n\\nThis is perhaps the best known database to be found in the\\npattern recognition literature.  Fisher\\'s paper is a classic in the field and\\nis referenced frequently to this day.  (See Duda & Hart, for example.)  The\\ndata set contains 3 classes of 50 instances each, where each class refers to a\\ntype of iris plant.  One class is linearly separable from the other 2; the\\nlatter are NOT linearly separable from each other.\\n\\n.. topic:: References\\n\\n   - Fisher, R.A. \"The use of multiple measurements in taxonomic problems\"\\n     Annual Eugenics, 7, Part II, 179-188 (1936); also in \"Contributions to\\n     Mathematical Statistics\" (John Wiley, NY, 1950).\\n   - Duda, R.O., & Hart, P.E. (1973) Pattern Classification and Scene Analysis.\\n     (Q327.D83) John Wiley & Sons.  ISBN 0-471-22361-1.  See page 218.\\n   - Dasarathy, B.V. (1980) \"Nosing Around the Neighborhood: A New System\\n     Structure and Classification Rule for Recognition in Partially Exposed\\n     Environments\".  IEEE Transactions on Pattern Analysis and Machine\\n     Intelligence, Vol. PAMI-2, No. 1, 67-71.\\n   - Gates, G.W. (1972) \"The Reduced Nearest Neighbor Rule\".  IEEE Transactions\\n     on Information Theory, May 1972, 431-433.\\n   - See also: 1988 MLC Proceedings, 54-64.  Cheeseman et al\"s AUTOCLASS II\\n     conceptual clustering system finds 3 classes in the data.\\n   - Many, many more ...',\n",
              " 'feature_names': ['sepal length (cm)',\n",
              "  'sepal width (cm)',\n",
              "  'petal length (cm)',\n",
              "  'petal width (cm)'],\n",
              " 'filename': 'iris.csv',\n",
              " 'data_module': 'sklearn.datasets.data'}"
            ]
          },
          "metadata": {},
          "execution_count": 4
        }
      ]
    },
    {
      "cell_type": "code",
      "source": [
        "data.target"
      ],
      "metadata": {
        "colab": {
          "base_uri": "https://localhost:8080/"
        },
        "id": "vKsb4ZXkx9H0",
        "outputId": "b64874da-0e57-4c91-e558-1ea102e58256"
      },
      "execution_count": null,
      "outputs": [
        {
          "output_type": "execute_result",
          "data": {
            "text/plain": [
              "array([0, 0, 0, 0, 0, 0, 0, 0, 0, 0, 0, 0, 0, 0, 0, 0, 0, 0, 0, 0, 0, 0,\n",
              "       0, 0, 0, 0, 0, 0, 0, 0, 0, 0, 0, 0, 0, 0, 0, 0, 0, 0, 0, 0, 0, 0,\n",
              "       0, 0, 0, 0, 0, 0, 1, 1, 1, 1, 1, 1, 1, 1, 1, 1, 1, 1, 1, 1, 1, 1,\n",
              "       1, 1, 1, 1, 1, 1, 1, 1, 1, 1, 1, 1, 1, 1, 1, 1, 1, 1, 1, 1, 1, 1,\n",
              "       1, 1, 1, 1, 1, 1, 1, 1, 1, 1, 1, 1, 2, 2, 2, 2, 2, 2, 2, 2, 2, 2,\n",
              "       2, 2, 2, 2, 2, 2, 2, 2, 2, 2, 2, 2, 2, 2, 2, 2, 2, 2, 2, 2, 2, 2,\n",
              "       2, 2, 2, 2, 2, 2, 2, 2, 2, 2, 2, 2, 2, 2, 2, 2, 2, 2])"
            ]
          },
          "metadata": {},
          "execution_count": 5
        }
      ]
    },
    {
      "cell_type": "code",
      "source": [
        "data.target_names"
      ],
      "metadata": {
        "colab": {
          "base_uri": "https://localhost:8080/"
        },
        "id": "8Gs0QdP6x9D6",
        "outputId": "affd6c67-917e-4b44-e0e4-7d1ebab57b96"
      },
      "execution_count": null,
      "outputs": [
        {
          "output_type": "execute_result",
          "data": {
            "text/plain": [
              "array(['setosa', 'versicolor', 'virginica'], dtype='<U10')"
            ]
          },
          "metadata": {},
          "execution_count": 6
        }
      ]
    },
    {
      "cell_type": "code",
      "source": [
        "data.feature_names"
      ],
      "metadata": {
        "colab": {
          "base_uri": "https://localhost:8080/"
        },
        "id": "ojv5njkNx9BC",
        "outputId": "37f2a92b-728e-4818-f4eb-20f7ce75617a"
      },
      "execution_count": null,
      "outputs": [
        {
          "output_type": "execute_result",
          "data": {
            "text/plain": [
              "['sepal length (cm)',\n",
              " 'sepal width (cm)',\n",
              " 'petal length (cm)',\n",
              " 'petal width (cm)']"
            ]
          },
          "metadata": {},
          "execution_count": 7
        }
      ]
    },
    {
      "cell_type": "code",
      "source": [
        "X = data.data\n",
        "y = data.target"
      ],
      "metadata": {
        "id": "qhs-Ek4qx88O"
      },
      "execution_count": null,
      "outputs": []
    },
    {
      "cell_type": "code",
      "source": [
        "X_train, X_test, y_train, y_test = train_test_split(X, y, test_size = 0.25, random_state = 10)"
      ],
      "metadata": {
        "id": "KBjUE17Ix85n"
      },
      "execution_count": null,
      "outputs": []
    },
    {
      "cell_type": "code",
      "source": [
        "pip install --upgrade matplotlib"
      ],
      "metadata": {
        "colab": {
          "base_uri": "https://localhost:8080/"
        },
        "id": "vZsxepaZ8IDF",
        "outputId": "0fc3f597-e323-4d14-e314-fb12a20ce698"
      },
      "execution_count": null,
      "outputs": [
        {
          "output_type": "stream",
          "name": "stdout",
          "text": [
            "Looking in indexes: https://pypi.org/simple, https://us-python.pkg.dev/colab-wheels/public/simple/\n",
            "Requirement already satisfied: matplotlib in /usr/local/lib/python3.8/dist-packages (3.6.3)\n",
            "Requirement already satisfied: numpy>=1.19 in /usr/local/lib/python3.8/dist-packages (from matplotlib) (1.21.6)\n",
            "Requirement already satisfied: python-dateutil>=2.7 in /usr/local/lib/python3.8/dist-packages (from matplotlib) (2.8.2)\n",
            "Requirement already satisfied: pyparsing>=2.2.1 in /usr/local/lib/python3.8/dist-packages (from matplotlib) (3.0.9)\n",
            "Requirement already satisfied: packaging>=20.0 in /usr/local/lib/python3.8/dist-packages (from matplotlib) (21.3)\n",
            "Requirement already satisfied: pillow>=6.2.0 in /usr/local/lib/python3.8/dist-packages (from matplotlib) (7.1.2)\n",
            "Requirement already satisfied: kiwisolver>=1.0.1 in /usr/local/lib/python3.8/dist-packages (from matplotlib) (1.4.4)\n",
            "Requirement already satisfied: contourpy>=1.0.1 in /usr/local/lib/python3.8/dist-packages (from matplotlib) (1.0.7)\n",
            "Requirement already satisfied: cycler>=0.10 in /usr/local/lib/python3.8/dist-packages (from matplotlib) (0.11.0)\n",
            "Requirement already satisfied: fonttools>=4.22.0 in /usr/local/lib/python3.8/dist-packages (from matplotlib) (4.38.0)\n",
            "Requirement already satisfied: six>=1.5 in /usr/local/lib/python3.8/dist-packages (from python-dateutil>=2.7->matplotlib) (1.15.0)\n"
          ]
        }
      ]
    },
    {
      "cell_type": "code",
      "source": [
        "# import matplotlib.pyplot as plt\n",
        "# from mpl_toolkits.mplot3d import Axes3D\n",
        "# from sklearn.decomposition import PCA\n",
        "\n",
        "# X = data.data[:, :2]\n",
        "# y = data.target\n",
        "\n",
        "# x_min, x_max = X[:,0].min() - .5, X[:,0].max()  + .5,\n",
        "# y_min, y_max = X[:,1].min() - .5, X[:,1].max()  + .5,\n",
        "\n",
        "\n",
        "# plt.figure(2, figsize=(8,6))\n",
        "# plt.clf()\n",
        "\n",
        "\n",
        "# # plot the traning points\n",
        "\n",
        "# plt.scatter(X[:,0], X[:,1], c=y,cm = plt.cm.Set1, edgecolor ='k')\n",
        "\n",
        "# plt.xlabel('sepal length')\n",
        "# plt.ylabel('sepal width')\n",
        "\n",
        "\n",
        "# plt.xlim(x_min, x_max)\n",
        "# plt.ylim(y_min,y_max)\n",
        "# plt.xtricks(())\n",
        "# plt.ytricks(())\n",
        "\n",
        "\n",
        "# fig  = plt.figure(1, figsize=(8,6))\n",
        "# ax = Axes3D(fig, elev =-150, azim= 110)\n",
        "# X_reduced = PCA(n_components =3).fit_trasform(data.data)\n",
        "\n",
        "# ax.scatter(X_reduced[:,0], X_reduced[:,1], X_reduced[:,2], c=y, cmap =plt.cm.Set1, edgecolor ='k', s=40)\n",
        "# ax.set_title(\"First 3 PCA directions\")\n",
        "# ax.set_xlabel(\"1st eigen vector\")\n",
        "# ax.w_xaxis.set_ticklabels([])\n",
        "# fig.savefig('iris1.png')\n",
        "# plt.close(fig)\n",
        "# display()\n",
        "\n"
      ],
      "metadata": {
        "id": "wTbrEIpMx82f"
      },
      "execution_count": null,
      "outputs": []
    },
    {
      "cell_type": "code",
      "source": [
        "with mlflow.start_run():\n",
        "  dtc = DecisionTreeClassifier(random_state=10)\n",
        "  dtc.fit(X_train, y_train)\n",
        "  y_pred_class = dtc.predict(X_test)\n",
        "  accuracy= metrics.accuracy_score(y_test, y_pred_class)\n",
        "\n",
        "  print(accuracy)\n",
        "\n",
        "  mlflow.log_param(\"random_state\", 10) #logging the parameters\n",
        "  mlflow.log_metric(\"accuracy\", accuracy)# logging the metrics\n",
        "  mlflow.sklearn.log_model(dtc, \"model\")# logging the model itself\n",
        "  modelpath = \"/content/mlflow/iris/model-%s-%f\" % (\"decision_tree\", 1)# saving the model\n",
        "  mlflow.sklearn.save_model(dtc, modelpath)# saving the model(it saves pickle file)\n",
        "\n",
        "  #mlflow.log_artifact(\"iris1.png\")"
      ],
      "metadata": {
        "id": "tQN7wFTz6nQ6"
      },
      "execution_count": null,
      "outputs": []
    },
    {
      "cell_type": "code",
      "source": [
        "with mlflow.start_run():\n",
        "  dtc = DecisionTreeClassifier(max_depth=1, random_state=10)\n",
        "  dtc.fit(X_train, y_train)\n",
        "  y_pred_class = dtc.predict(X_test)\n",
        "  accuracy= metrics.accuracy_score(y_test, y_pred_class)\n",
        "\n",
        "  print(accuracy)\n",
        "\n",
        "  mlflow.log_param(\"random_state\", 10)#logging the parameters\n",
        "  mlflow.log_param(\"max_depth\", 1)# logging the metrics\n",
        "  mlflow.log_metric(\"accuracy\", accuracy)# logging the metrics\n",
        "  mlflow.sklearn.log_model(dtc, \"model\")# logging the model itself\n",
        "  modelpath = \"/dbfs/mlflow/iris/model-%s-%f\" % (\"decision_tree\", 2)\n",
        "  mlflow.sklearn.save_model(dtc, modelpath)#saving the model"
      ],
      "metadata": {
        "colab": {
          "base_uri": "https://localhost:8080/"
        },
        "id": "Nom05Payx8gd",
        "outputId": "839c095b-c047-41a4-c291-84772341047d"
      },
      "execution_count": null,
      "outputs": [
        {
          "output_type": "stream",
          "name": "stdout",
          "text": [
            "0.6052631578947368\n"
          ]
        }
      ]
    },
    {
      "cell_type": "code",
      "source": [
        "with mlflow.start_run():\n",
        "  dtc = DecisionTreeClassifier(max_depth=1, min_samples_split=5, random_state=10)\n",
        "  dtc.fit(X_train, y_train)\n",
        "  y_pred_class = dtc.predict(X_test)\n",
        "  accuracy= metrics.accuracy_score(y_test, y_pred_class)\n",
        "\n",
        "  print(accuracy)\n",
        "\n",
        "  mlflow.log_param(\"random_state\", 10)\n",
        "  mlflow.log_param(\"max_depth\", 1)\n",
        "  mlflow.log_param(\"min_samples_split\", 5)\n",
        "  mlflow.log_metric(\"accuracy\", accuracy)\n",
        "  mlflow.sklearn.log_model(dtc, \"model\")\n",
        "  modelpath = \"/dbfs/mlflow/iris/model-%s-%f\" % (\"decision_tree\", 3)\n",
        "  mlflow.sklearn.save_model(dtc, modelpath)\n"
      ],
      "metadata": {
        "colab": {
          "base_uri": "https://localhost:8080/"
        },
        "id": "1PCh7WF8x8eP",
        "outputId": "8d482499-0d34-4d22-d5c2-a0e30a9a8636"
      },
      "execution_count": null,
      "outputs": [
        {
          "output_type": "stream",
          "name": "stdout",
          "text": [
            "0.6052631578947368\n"
          ]
        }
      ]
    },
    {
      "cell_type": "code",
      "source": [
        "with mlflow.start_run():\n",
        "  knn = KNeighborsClassifier(n_neighbors=5)\n",
        "  knn.fit(X_train, y_train)\n",
        "  y_pred = knn.predict(X_test)\n",
        "  accuracy=metrics.accuracy_score(y_test, y_pred)\n",
        "  print(accuracy)\n",
        "\n",
        "  mlflow.log_param(\"n_neighbors\", 5)\n",
        "  mlflow.log_metric(\"accuracy\", accuracy)\n",
        "  mlflow.sklearn.log_model(knn, \"model\")\n",
        "  modelpath = \"/dbfs/mlflow/iris/model-%s-%f\" % (\"KNN\", 4)\n",
        "  mlflow.sklearn.save_model(knn, modelpath)"
      ],
      "metadata": {
        "colab": {
          "base_uri": "https://localhost:8080/"
        },
        "id": "Wvp1Das4x8bn",
        "outputId": "a8152f4d-6b99-462d-eeda-a45ab4398242"
      },
      "execution_count": null,
      "outputs": [
        {
          "output_type": "stream",
          "name": "stdout",
          "text": [
            "0.9736842105263158\n"
          ]
        }
      ]
    },
    {
      "cell_type": "code",
      "source": [
        "with mlflow.start_run():\n",
        "  knn = KNeighborsClassifier(n_neighbors=2)\n",
        "  knn.fit(X_train, y_train)\n",
        "  y_pred = knn.predict(X_test)\n",
        "  accuracy=metrics.accuracy_score(y_test, y_pred)\n",
        "  print(accuracy)\n",
        "\n",
        "  mlflow.log_param(\"n_neighbors\", 2)\n",
        "  mlflow.log_metric(\"accuracy\", accuracy)\n",
        "  mlflow.sklearn.log_model(knn, \"model\")\n",
        "  modelpath = \"/dbfs/mlflow/iris/model-%s-%f\" % (\"KNN\", 5)\n",
        "  mlflow.sklearn.save_model(knn, modelpath)"
      ],
      "metadata": {
        "colab": {
          "base_uri": "https://localhost:8080/"
        },
        "id": "tbSVXJ_Xx8Wd",
        "outputId": "1055db54-9f58-4333-a3f1-3e6d244d0605"
      },
      "execution_count": null,
      "outputs": [
        {
          "output_type": "stream",
          "name": "stdout",
          "text": [
            "0.9473684210526315\n"
          ]
        }
      ]
    },
    {
      "cell_type": "code",
      "source": [
        "mlflow.search_runs()"
      ],
      "metadata": {
        "colab": {
          "base_uri": "https://localhost:8080/",
          "height": 503
        },
        "id": "py3iKQgdx8UZ",
        "outputId": "81f325f5-c8d7-4182-95e4-1f81253dbc4c"
      },
      "execution_count": null,
      "outputs": [
        {
          "output_type": "execute_result",
          "data": {
            "text/plain": [
              "                             run_id experiment_id    status  \\\n",
              "0  17c380169be9402193faeabad750a3e9             0  FINISHED   \n",
              "1  86b8733247be46528b5435b2fc93ad99             0  FINISHED   \n",
              "2  8e990a0708f4420c85654c9fce009884             0  FINISHED   \n",
              "3  1bc8d51d1eb5459797e238146b415c20             0  FINISHED   \n",
              "4  8786d662846247738ea77097b6ac3532             0    FAILED   \n",
              "5  1c801e54ffea4835bb1d83bcf373a1e5             0  FINISHED   \n",
              "6  19fd7326ce5c48b3af1178847d9f6a66             0    FAILED   \n",
              "7  3eb9a978ff064389babd60f24ae25014             0    FAILED   \n",
              "\n",
              "                                        artifact_uri  \\\n",
              "0  file:///content/mlruns/0/17c380169be9402193fae...   \n",
              "1  file:///content/mlruns/0/86b8733247be46528b543...   \n",
              "2  file:///content/mlruns/0/8e990a0708f4420c85654...   \n",
              "3  file:///content/mlruns/0/1bc8d51d1eb5459797e23...   \n",
              "4  file:///content/mlruns/0/8786d662846247738ea77...   \n",
              "5  file:///content/mlruns/0/1c801e54ffea4835bb1d8...   \n",
              "6  file:///content/mlruns/0/19fd7326ce5c48b3af117...   \n",
              "7  file:///content/mlruns/0/3eb9a978ff064389babd6...   \n",
              "\n",
              "                        start_time                         end_time  \\\n",
              "0 2023-01-25 08:43:00.480000+00:00 2023-01-25 08:43:03.604000+00:00   \n",
              "1 2023-01-25 08:42:45.932000+00:00 2023-01-25 08:42:49.135000+00:00   \n",
              "2 2023-01-25 08:38:54.582000+00:00 2023-01-25 08:38:57.705000+00:00   \n",
              "3 2023-01-25 08:38:36.787000+00:00 2023-01-25 08:38:40.923000+00:00   \n",
              "4 2023-01-25 08:37:28.114000+00:00 2023-01-25 08:37:29.708000+00:00   \n",
              "5 2023-01-25 08:37:15.016000+00:00 2023-01-25 08:37:19.719000+00:00   \n",
              "6 2023-01-25 08:35:13.433000+00:00 2023-01-25 08:35:15.074000+00:00   \n",
              "7 2023-01-25 08:33:54.057000+00:00 2023-01-25 08:33:58.814000+00:00   \n",
              "\n",
              "   metrics.accuracy params.n_neighbors params.max_depth  \\\n",
              "0          0.947368                  2             None   \n",
              "1          0.973684                  5             None   \n",
              "2          0.605263               None                1   \n",
              "3          0.605263               None                1   \n",
              "4          0.973684               None             None   \n",
              "5          0.973684               None             None   \n",
              "6          0.973684               None             None   \n",
              "7          0.973684               None             None   \n",
              "\n",
              "  params.min_samples_split params.random_state  tags.mlflow.runName  \\\n",
              "0                     None                None    overjoyed-sow-297   \n",
              "1                     None                None    sassy-penguin-569   \n",
              "2                        5                  10     unique-chimp-289   \n",
              "3                     None                  10   ambitious-slug-709   \n",
              "4                     None                  10   rumbling-sheep-276   \n",
              "5                     None                  10  welcoming-chimp-273   \n",
              "6                     None                  10   efficient-tern-964   \n",
              "7                     None                  10   peaceful-squid-317   \n",
              "\n",
              "  tags.mlflow.source.type                      tags.mlflow.log-model.history  \\\n",
              "0                   LOCAL  [{\"run_id\": \"17c380169be9402193faeabad750a3e9\"...   \n",
              "1                   LOCAL  [{\"run_id\": \"86b8733247be46528b5435b2fc93ad99\"...   \n",
              "2                   LOCAL  [{\"run_id\": \"8e990a0708f4420c85654c9fce009884\"...   \n",
              "3                   LOCAL  [{\"run_id\": \"1bc8d51d1eb5459797e238146b415c20\"...   \n",
              "4                   LOCAL  [{\"run_id\": \"8786d662846247738ea77097b6ac3532\"...   \n",
              "5                   LOCAL  [{\"run_id\": \"1c801e54ffea4835bb1d83bcf373a1e5\"...   \n",
              "6                   LOCAL  [{\"run_id\": \"19fd7326ce5c48b3af1178847d9f6a66\"...   \n",
              "7                   LOCAL  [{\"run_id\": \"3eb9a978ff064389babd60f24ae25014\"...   \n",
              "\n",
              "                             tags.mlflow.source.name tags.mlflow.user  \n",
              "0  /usr/local/lib/python3.8/dist-packages/ipykern...             root  \n",
              "1  /usr/local/lib/python3.8/dist-packages/ipykern...             root  \n",
              "2  /usr/local/lib/python3.8/dist-packages/ipykern...             root  \n",
              "3  /usr/local/lib/python3.8/dist-packages/ipykern...             root  \n",
              "4  /usr/local/lib/python3.8/dist-packages/ipykern...             root  \n",
              "5  /usr/local/lib/python3.8/dist-packages/ipykern...             root  \n",
              "6  /usr/local/lib/python3.8/dist-packages/ipykern...             root  \n",
              "7  /usr/local/lib/python3.8/dist-packages/ipykern...             root  "
            ],
            "text/html": [
              "\n",
              "  <div id=\"df-299fae2e-0be0-4226-851c-10bfba5d9cc1\">\n",
              "    <div class=\"colab-df-container\">\n",
              "      <div>\n",
              "<style scoped>\n",
              "    .dataframe tbody tr th:only-of-type {\n",
              "        vertical-align: middle;\n",
              "    }\n",
              "\n",
              "    .dataframe tbody tr th {\n",
              "        vertical-align: top;\n",
              "    }\n",
              "\n",
              "    .dataframe thead th {\n",
              "        text-align: right;\n",
              "    }\n",
              "</style>\n",
              "<table border=\"1\" class=\"dataframe\">\n",
              "  <thead>\n",
              "    <tr style=\"text-align: right;\">\n",
              "      <th></th>\n",
              "      <th>run_id</th>\n",
              "      <th>experiment_id</th>\n",
              "      <th>status</th>\n",
              "      <th>artifact_uri</th>\n",
              "      <th>start_time</th>\n",
              "      <th>end_time</th>\n",
              "      <th>metrics.accuracy</th>\n",
              "      <th>params.n_neighbors</th>\n",
              "      <th>params.max_depth</th>\n",
              "      <th>params.min_samples_split</th>\n",
              "      <th>params.random_state</th>\n",
              "      <th>tags.mlflow.runName</th>\n",
              "      <th>tags.mlflow.source.type</th>\n",
              "      <th>tags.mlflow.log-model.history</th>\n",
              "      <th>tags.mlflow.source.name</th>\n",
              "      <th>tags.mlflow.user</th>\n",
              "    </tr>\n",
              "  </thead>\n",
              "  <tbody>\n",
              "    <tr>\n",
              "      <th>0</th>\n",
              "      <td>17c380169be9402193faeabad750a3e9</td>\n",
              "      <td>0</td>\n",
              "      <td>FINISHED</td>\n",
              "      <td>file:///content/mlruns/0/17c380169be9402193fae...</td>\n",
              "      <td>2023-01-25 08:43:00.480000+00:00</td>\n",
              "      <td>2023-01-25 08:43:03.604000+00:00</td>\n",
              "      <td>0.947368</td>\n",
              "      <td>2</td>\n",
              "      <td>None</td>\n",
              "      <td>None</td>\n",
              "      <td>None</td>\n",
              "      <td>overjoyed-sow-297</td>\n",
              "      <td>LOCAL</td>\n",
              "      <td>[{\"run_id\": \"17c380169be9402193faeabad750a3e9\"...</td>\n",
              "      <td>/usr/local/lib/python3.8/dist-packages/ipykern...</td>\n",
              "      <td>root</td>\n",
              "    </tr>\n",
              "    <tr>\n",
              "      <th>1</th>\n",
              "      <td>86b8733247be46528b5435b2fc93ad99</td>\n",
              "      <td>0</td>\n",
              "      <td>FINISHED</td>\n",
              "      <td>file:///content/mlruns/0/86b8733247be46528b543...</td>\n",
              "      <td>2023-01-25 08:42:45.932000+00:00</td>\n",
              "      <td>2023-01-25 08:42:49.135000+00:00</td>\n",
              "      <td>0.973684</td>\n",
              "      <td>5</td>\n",
              "      <td>None</td>\n",
              "      <td>None</td>\n",
              "      <td>None</td>\n",
              "      <td>sassy-penguin-569</td>\n",
              "      <td>LOCAL</td>\n",
              "      <td>[{\"run_id\": \"86b8733247be46528b5435b2fc93ad99\"...</td>\n",
              "      <td>/usr/local/lib/python3.8/dist-packages/ipykern...</td>\n",
              "      <td>root</td>\n",
              "    </tr>\n",
              "    <tr>\n",
              "      <th>2</th>\n",
              "      <td>8e990a0708f4420c85654c9fce009884</td>\n",
              "      <td>0</td>\n",
              "      <td>FINISHED</td>\n",
              "      <td>file:///content/mlruns/0/8e990a0708f4420c85654...</td>\n",
              "      <td>2023-01-25 08:38:54.582000+00:00</td>\n",
              "      <td>2023-01-25 08:38:57.705000+00:00</td>\n",
              "      <td>0.605263</td>\n",
              "      <td>None</td>\n",
              "      <td>1</td>\n",
              "      <td>5</td>\n",
              "      <td>10</td>\n",
              "      <td>unique-chimp-289</td>\n",
              "      <td>LOCAL</td>\n",
              "      <td>[{\"run_id\": \"8e990a0708f4420c85654c9fce009884\"...</td>\n",
              "      <td>/usr/local/lib/python3.8/dist-packages/ipykern...</td>\n",
              "      <td>root</td>\n",
              "    </tr>\n",
              "    <tr>\n",
              "      <th>3</th>\n",
              "      <td>1bc8d51d1eb5459797e238146b415c20</td>\n",
              "      <td>0</td>\n",
              "      <td>FINISHED</td>\n",
              "      <td>file:///content/mlruns/0/1bc8d51d1eb5459797e23...</td>\n",
              "      <td>2023-01-25 08:38:36.787000+00:00</td>\n",
              "      <td>2023-01-25 08:38:40.923000+00:00</td>\n",
              "      <td>0.605263</td>\n",
              "      <td>None</td>\n",
              "      <td>1</td>\n",
              "      <td>None</td>\n",
              "      <td>10</td>\n",
              "      <td>ambitious-slug-709</td>\n",
              "      <td>LOCAL</td>\n",
              "      <td>[{\"run_id\": \"1bc8d51d1eb5459797e238146b415c20\"...</td>\n",
              "      <td>/usr/local/lib/python3.8/dist-packages/ipykern...</td>\n",
              "      <td>root</td>\n",
              "    </tr>\n",
              "    <tr>\n",
              "      <th>4</th>\n",
              "      <td>8786d662846247738ea77097b6ac3532</td>\n",
              "      <td>0</td>\n",
              "      <td>FAILED</td>\n",
              "      <td>file:///content/mlruns/0/8786d662846247738ea77...</td>\n",
              "      <td>2023-01-25 08:37:28.114000+00:00</td>\n",
              "      <td>2023-01-25 08:37:29.708000+00:00</td>\n",
              "      <td>0.973684</td>\n",
              "      <td>None</td>\n",
              "      <td>None</td>\n",
              "      <td>None</td>\n",
              "      <td>10</td>\n",
              "      <td>rumbling-sheep-276</td>\n",
              "      <td>LOCAL</td>\n",
              "      <td>[{\"run_id\": \"8786d662846247738ea77097b6ac3532\"...</td>\n",
              "      <td>/usr/local/lib/python3.8/dist-packages/ipykern...</td>\n",
              "      <td>root</td>\n",
              "    </tr>\n",
              "    <tr>\n",
              "      <th>5</th>\n",
              "      <td>1c801e54ffea4835bb1d83bcf373a1e5</td>\n",
              "      <td>0</td>\n",
              "      <td>FINISHED</td>\n",
              "      <td>file:///content/mlruns/0/1c801e54ffea4835bb1d8...</td>\n",
              "      <td>2023-01-25 08:37:15.016000+00:00</td>\n",
              "      <td>2023-01-25 08:37:19.719000+00:00</td>\n",
              "      <td>0.973684</td>\n",
              "      <td>None</td>\n",
              "      <td>None</td>\n",
              "      <td>None</td>\n",
              "      <td>10</td>\n",
              "      <td>welcoming-chimp-273</td>\n",
              "      <td>LOCAL</td>\n",
              "      <td>[{\"run_id\": \"1c801e54ffea4835bb1d83bcf373a1e5\"...</td>\n",
              "      <td>/usr/local/lib/python3.8/dist-packages/ipykern...</td>\n",
              "      <td>root</td>\n",
              "    </tr>\n",
              "    <tr>\n",
              "      <th>6</th>\n",
              "      <td>19fd7326ce5c48b3af1178847d9f6a66</td>\n",
              "      <td>0</td>\n",
              "      <td>FAILED</td>\n",
              "      <td>file:///content/mlruns/0/19fd7326ce5c48b3af117...</td>\n",
              "      <td>2023-01-25 08:35:13.433000+00:00</td>\n",
              "      <td>2023-01-25 08:35:15.074000+00:00</td>\n",
              "      <td>0.973684</td>\n",
              "      <td>None</td>\n",
              "      <td>None</td>\n",
              "      <td>None</td>\n",
              "      <td>10</td>\n",
              "      <td>efficient-tern-964</td>\n",
              "      <td>LOCAL</td>\n",
              "      <td>[{\"run_id\": \"19fd7326ce5c48b3af1178847d9f6a66\"...</td>\n",
              "      <td>/usr/local/lib/python3.8/dist-packages/ipykern...</td>\n",
              "      <td>root</td>\n",
              "    </tr>\n",
              "    <tr>\n",
              "      <th>7</th>\n",
              "      <td>3eb9a978ff064389babd60f24ae25014</td>\n",
              "      <td>0</td>\n",
              "      <td>FAILED</td>\n",
              "      <td>file:///content/mlruns/0/3eb9a978ff064389babd6...</td>\n",
              "      <td>2023-01-25 08:33:54.057000+00:00</td>\n",
              "      <td>2023-01-25 08:33:58.814000+00:00</td>\n",
              "      <td>0.973684</td>\n",
              "      <td>None</td>\n",
              "      <td>None</td>\n",
              "      <td>None</td>\n",
              "      <td>10</td>\n",
              "      <td>peaceful-squid-317</td>\n",
              "      <td>LOCAL</td>\n",
              "      <td>[{\"run_id\": \"3eb9a978ff064389babd60f24ae25014\"...</td>\n",
              "      <td>/usr/local/lib/python3.8/dist-packages/ipykern...</td>\n",
              "      <td>root</td>\n",
              "    </tr>\n",
              "  </tbody>\n",
              "</table>\n",
              "</div>\n",
              "      <button class=\"colab-df-convert\" onclick=\"convertToInteractive('df-299fae2e-0be0-4226-851c-10bfba5d9cc1')\"\n",
              "              title=\"Convert this dataframe to an interactive table.\"\n",
              "              style=\"display:none;\">\n",
              "        \n",
              "  <svg xmlns=\"http://www.w3.org/2000/svg\" height=\"24px\"viewBox=\"0 0 24 24\"\n",
              "       width=\"24px\">\n",
              "    <path d=\"M0 0h24v24H0V0z\" fill=\"none\"/>\n",
              "    <path d=\"M18.56 5.44l.94 2.06.94-2.06 2.06-.94-2.06-.94-.94-2.06-.94 2.06-2.06.94zm-11 1L8.5 8.5l.94-2.06 2.06-.94-2.06-.94L8.5 2.5l-.94 2.06-2.06.94zm10 10l.94 2.06.94-2.06 2.06-.94-2.06-.94-.94-2.06-.94 2.06-2.06.94z\"/><path d=\"M17.41 7.96l-1.37-1.37c-.4-.4-.92-.59-1.43-.59-.52 0-1.04.2-1.43.59L10.3 9.45l-7.72 7.72c-.78.78-.78 2.05 0 2.83L4 21.41c.39.39.9.59 1.41.59.51 0 1.02-.2 1.41-.59l7.78-7.78 2.81-2.81c.8-.78.8-2.07 0-2.86zM5.41 20L4 18.59l7.72-7.72 1.47 1.35L5.41 20z\"/>\n",
              "  </svg>\n",
              "      </button>\n",
              "      \n",
              "  <style>\n",
              "    .colab-df-container {\n",
              "      display:flex;\n",
              "      flex-wrap:wrap;\n",
              "      gap: 12px;\n",
              "    }\n",
              "\n",
              "    .colab-df-convert {\n",
              "      background-color: #E8F0FE;\n",
              "      border: none;\n",
              "      border-radius: 50%;\n",
              "      cursor: pointer;\n",
              "      display: none;\n",
              "      fill: #1967D2;\n",
              "      height: 32px;\n",
              "      padding: 0 0 0 0;\n",
              "      width: 32px;\n",
              "    }\n",
              "\n",
              "    .colab-df-convert:hover {\n",
              "      background-color: #E2EBFA;\n",
              "      box-shadow: 0px 1px 2px rgba(60, 64, 67, 0.3), 0px 1px 3px 1px rgba(60, 64, 67, 0.15);\n",
              "      fill: #174EA6;\n",
              "    }\n",
              "\n",
              "    [theme=dark] .colab-df-convert {\n",
              "      background-color: #3B4455;\n",
              "      fill: #D2E3FC;\n",
              "    }\n",
              "\n",
              "    [theme=dark] .colab-df-convert:hover {\n",
              "      background-color: #434B5C;\n",
              "      box-shadow: 0px 1px 3px 1px rgba(0, 0, 0, 0.15);\n",
              "      filter: drop-shadow(0px 1px 2px rgba(0, 0, 0, 0.3));\n",
              "      fill: #FFFFFF;\n",
              "    }\n",
              "  </style>\n",
              "\n",
              "      <script>\n",
              "        const buttonEl =\n",
              "          document.querySelector('#df-299fae2e-0be0-4226-851c-10bfba5d9cc1 button.colab-df-convert');\n",
              "        buttonEl.style.display =\n",
              "          google.colab.kernel.accessAllowed ? 'block' : 'none';\n",
              "\n",
              "        async function convertToInteractive(key) {\n",
              "          const element = document.querySelector('#df-299fae2e-0be0-4226-851c-10bfba5d9cc1');\n",
              "          const dataTable =\n",
              "            await google.colab.kernel.invokeFunction('convertToInteractive',\n",
              "                                                     [key], {});\n",
              "          if (!dataTable) return;\n",
              "\n",
              "          const docLinkHtml = 'Like what you see? Visit the ' +\n",
              "            '<a target=\"_blank\" href=https://colab.research.google.com/notebooks/data_table.ipynb>data table notebook</a>'\n",
              "            + ' to learn more about interactive tables.';\n",
              "          element.innerHTML = '';\n",
              "          dataTable['output_type'] = 'display_data';\n",
              "          await google.colab.output.renderOutput(dataTable, element);\n",
              "          const docLink = document.createElement('div');\n",
              "          docLink.innerHTML = docLinkHtml;\n",
              "          element.appendChild(docLink);\n",
              "        }\n",
              "      </script>\n",
              "    </div>\n",
              "  </div>\n",
              "  "
            ]
          },
          "metadata": {},
          "execution_count": 23
        }
      ]
    },
    {
      "cell_type": "code",
      "source": [
        "run_id1 = \"17c380169be9402193faeabad750a3e9\"\n",
        "model_uri = \"runs:/\" + run_id1 + \"/model\""
      ],
      "metadata": {
        "id": "8ztza9ebx8SP"
      },
      "execution_count": null,
      "outputs": []
    },
    {
      "cell_type": "code",
      "source": [
        "model = mlflow.sklearn.load_model(model_uri=model_uri)"
      ],
      "metadata": {
        "id": "32cgMQ5vx8Pv"
      },
      "execution_count": null,
      "outputs": []
    },
    {
      "cell_type": "code",
      "source": [
        "model.get_params()"
      ],
      "metadata": {
        "colab": {
          "base_uri": "https://localhost:8080/"
        },
        "id": "IFB5pOSAx7pH",
        "outputId": "de8e0cd4-d23c-4dc2-af88-bb0c84ae31f3"
      },
      "execution_count": null,
      "outputs": [
        {
          "output_type": "execute_result",
          "data": {
            "text/plain": [
              "{'algorithm': 'auto',\n",
              " 'leaf_size': 30,\n",
              " 'metric': 'minkowski',\n",
              " 'metric_params': None,\n",
              " 'n_jobs': None,\n",
              " 'n_neighbors': 2,\n",
              " 'p': 2,\n",
              " 'weights': 'uniform'}"
            ]
          },
          "metadata": {},
          "execution_count": 27
        }
      ]
    },
    {
      "cell_type": "code",
      "source": [
        "model.predict_proba(X_test)"
      ],
      "metadata": {
        "colab": {
          "base_uri": "https://localhost:8080/"
        },
        "id": "vew-CyNFx7mn",
        "outputId": "5d794557-e6b6-4567-daa3-9f8b6fd84b2e"
      },
      "execution_count": null,
      "outputs": [
        {
          "output_type": "execute_result",
          "data": {
            "text/plain": [
              "array([[0. , 1. , 0. ],\n",
              "       [0. , 0. , 1. ],\n",
              "       [1. , 0. , 0. ],\n",
              "       [0. , 1. , 0. ],\n",
              "       [1. , 0. , 0. ],\n",
              "       [0. , 1. , 0. ],\n",
              "       [0. , 0. , 1. ],\n",
              "       [0. , 1. , 0. ],\n",
              "       [1. , 0. , 0. ],\n",
              "       [0. , 1. , 0. ],\n",
              "       [0. , 1. , 0. ],\n",
              "       [0. , 0. , 1. ],\n",
              "       [0. , 1. , 0. ],\n",
              "       [1. , 0. , 0. ],\n",
              "       [1. , 0. , 0. ],\n",
              "       [0. , 0. , 1. ],\n",
              "       [0. , 1. , 0. ],\n",
              "       [1. , 0. , 0. ],\n",
              "       [1. , 0. , 0. ],\n",
              "       [1. , 0. , 0. ],\n",
              "       [0. , 0. , 1. ],\n",
              "       [0. , 0. , 1. ],\n",
              "       [0. , 0. , 1. ],\n",
              "       [1. , 0. , 0. ],\n",
              "       [0. , 1. , 0. ],\n",
              "       [1. , 0. , 0. ],\n",
              "       [0. , 1. , 0. ],\n",
              "       [0. , 1. , 0. ],\n",
              "       [0. , 1. , 0. ],\n",
              "       [0. , 0. , 1. ],\n",
              "       [0. , 1. , 0. ],\n",
              "       [0. , 1. , 0. ],\n",
              "       [0. , 0. , 1. ],\n",
              "       [0. , 0. , 1. ],\n",
              "       [0. , 0.5, 0.5],\n",
              "       [1. , 0. , 0. ],\n",
              "       [0. , 0. , 1. ],\n",
              "       [0. , 0. , 1. ]])"
            ]
          },
          "metadata": {},
          "execution_count": 28
        }
      ]
    },
    {
      "cell_type": "code",
      "source": [],
      "metadata": {
        "id": "52-7b0GJVWwa"
      },
      "execution_count": null,
      "outputs": []
    },
    {
      "cell_type": "code",
      "source": [],
      "metadata": {
        "id": "AuCUOzdgVWuP"
      },
      "execution_count": null,
      "outputs": []
    },
    {
      "cell_type": "code",
      "source": [],
      "metadata": {
        "id": "gmk5OG-TVWrK"
      },
      "execution_count": null,
      "outputs": []
    },
    {
      "cell_type": "code",
      "source": [],
      "metadata": {
        "id": "PmzanJCNVWoC"
      },
      "execution_count": null,
      "outputs": []
    }
  ]
}