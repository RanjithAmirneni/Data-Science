{
  "nbformat": 4,
  "nbformat_minor": 0,
  "metadata": {
    "colab": {
      "provenance": [],
      "toc_visible": true,
      "mount_file_id": "1xWOLeu-sL0GsHpkuv2FZzOY9lgX0C9EM",
      "authorship_tag": "ABX9TyMxLvf22so7eyb2j0SP9xBJ",
      "include_colab_link": true
    },
    "kernelspec": {
      "name": "python3",
      "display_name": "Python 3"
    },
    "language_info": {
      "name": "python"
    }
  },
  "cells": [
    {
      "cell_type": "markdown",
      "metadata": {
        "id": "view-in-github",
        "colab_type": "text"
      },
      "source": [
        "<a href=\"https://colab.research.google.com/github/RanjithAmirneni/Data-Science-Exercises/blob/main/01_V_IMP_GridSearch_HyperParamTuning_MultiAlgos_Noor.ipynb\" target=\"_parent\"><img src=\"https://colab.research.google.com/assets/colab-badge.svg\" alt=\"Open In Colab\"/></a>"
      ]
    },
    {
      "cell_type": "code",
      "execution_count": null,
      "metadata": {
        "id": "HLfRux_D2lHi"
      },
      "outputs": [],
      "source": [
        "import pandas as pd\n",
        "import numpy as np\n",
        "import matplotlib.pyplot as plt\n",
        "import seaborn as sns\n",
        "%matplotlib inline\n",
        "import warnings\n",
        "warnings.filterwarnings('ignore')\n",
        "\n",
        "\n",
        "from sklearn.linear_model import LogisticRegression\n",
        "from sklearn.neighbors import KNeighborsClassifier, KNeighborsRegressor\n",
        "from sklearn.ensemble import RandomForestClassifier\n",
        "from sklearn.ensemble import AdaBoostClassifier,GradientBoostingClassifier,StackingClassifier,VotingClassifier\n",
        "from xgboost import XGBClassifier\n",
        "from sklearn.svm import SVC\n",
        "from sklearn.tree import DecisionTreeClassifier, DecisionTreeRegressor\n",
        "from sklearn.model_selection import train_test_split\n",
        "from sklearn.model_selection import GridSearchCV, RandomizedSearchCV\n",
        "from sklearn.metrics import confusion_matrix,accuracy_score,recall_score,precision_score,f1_score,classification_report, roc_auc_score"
      ]
    },
    {
      "cell_type": "code",
      "source": [
        "path='/content/drive/MyDrive/Colab Notebooks/DataScience/07-GridSearch,PipeLine_RealtimeCodeWriting/heart.csv'"
      ],
      "metadata": {
        "id": "WCdAUAVK26vE"
      },
      "execution_count": null,
      "outputs": []
    },
    {
      "cell_type": "code",
      "source": [
        "data = pd.read_csv(path)\n",
        "data.head()"
      ],
      "metadata": {
        "colab": {
          "base_uri": "https://localhost:8080/",
          "height": 206
        },
        "id": "qjc-qUkQ3Cvu",
        "outputId": "b879f081-6b17-4edb-ad6a-ad57074a9f8e"
      },
      "execution_count": null,
      "outputs": [
        {
          "output_type": "execute_result",
          "data": {
            "text/plain": [
              "   age  sex  cp  trestbps  chol  fbs  restecg  thalach  exang  oldpeak  slope  \\\n",
              "0   63    1   3       145   233    1        0      150      0      2.3      0   \n",
              "1   37    1   2       130   250    0        1      187      0      3.5      0   \n",
              "2   41    0   1       130   204    0        0      172      0      1.4      2   \n",
              "3   56    1   1       120   236    0        1      178      0      0.8      2   \n",
              "4   57    0   0       120   354    0        1      163      1      0.6      2   \n",
              "\n",
              "   ca  thal  target  \n",
              "0   0     1       1  \n",
              "1   0     2       1  \n",
              "2   0     2       1  \n",
              "3   0     2       1  \n",
              "4   0     2       1  "
            ],
            "text/html": [
              "\n",
              "  <div id=\"df-dc851623-7d61-488b-84fa-a97b21dc572b\">\n",
              "    <div class=\"colab-df-container\">\n",
              "      <div>\n",
              "<style scoped>\n",
              "    .dataframe tbody tr th:only-of-type {\n",
              "        vertical-align: middle;\n",
              "    }\n",
              "\n",
              "    .dataframe tbody tr th {\n",
              "        vertical-align: top;\n",
              "    }\n",
              "\n",
              "    .dataframe thead th {\n",
              "        text-align: right;\n",
              "    }\n",
              "</style>\n",
              "<table border=\"1\" class=\"dataframe\">\n",
              "  <thead>\n",
              "    <tr style=\"text-align: right;\">\n",
              "      <th></th>\n",
              "      <th>age</th>\n",
              "      <th>sex</th>\n",
              "      <th>cp</th>\n",
              "      <th>trestbps</th>\n",
              "      <th>chol</th>\n",
              "      <th>fbs</th>\n",
              "      <th>restecg</th>\n",
              "      <th>thalach</th>\n",
              "      <th>exang</th>\n",
              "      <th>oldpeak</th>\n",
              "      <th>slope</th>\n",
              "      <th>ca</th>\n",
              "      <th>thal</th>\n",
              "      <th>target</th>\n",
              "    </tr>\n",
              "  </thead>\n",
              "  <tbody>\n",
              "    <tr>\n",
              "      <th>0</th>\n",
              "      <td>63</td>\n",
              "      <td>1</td>\n",
              "      <td>3</td>\n",
              "      <td>145</td>\n",
              "      <td>233</td>\n",
              "      <td>1</td>\n",
              "      <td>0</td>\n",
              "      <td>150</td>\n",
              "      <td>0</td>\n",
              "      <td>2.3</td>\n",
              "      <td>0</td>\n",
              "      <td>0</td>\n",
              "      <td>1</td>\n",
              "      <td>1</td>\n",
              "    </tr>\n",
              "    <tr>\n",
              "      <th>1</th>\n",
              "      <td>37</td>\n",
              "      <td>1</td>\n",
              "      <td>2</td>\n",
              "      <td>130</td>\n",
              "      <td>250</td>\n",
              "      <td>0</td>\n",
              "      <td>1</td>\n",
              "      <td>187</td>\n",
              "      <td>0</td>\n",
              "      <td>3.5</td>\n",
              "      <td>0</td>\n",
              "      <td>0</td>\n",
              "      <td>2</td>\n",
              "      <td>1</td>\n",
              "    </tr>\n",
              "    <tr>\n",
              "      <th>2</th>\n",
              "      <td>41</td>\n",
              "      <td>0</td>\n",
              "      <td>1</td>\n",
              "      <td>130</td>\n",
              "      <td>204</td>\n",
              "      <td>0</td>\n",
              "      <td>0</td>\n",
              "      <td>172</td>\n",
              "      <td>0</td>\n",
              "      <td>1.4</td>\n",
              "      <td>2</td>\n",
              "      <td>0</td>\n",
              "      <td>2</td>\n",
              "      <td>1</td>\n",
              "    </tr>\n",
              "    <tr>\n",
              "      <th>3</th>\n",
              "      <td>56</td>\n",
              "      <td>1</td>\n",
              "      <td>1</td>\n",
              "      <td>120</td>\n",
              "      <td>236</td>\n",
              "      <td>0</td>\n",
              "      <td>1</td>\n",
              "      <td>178</td>\n",
              "      <td>0</td>\n",
              "      <td>0.8</td>\n",
              "      <td>2</td>\n",
              "      <td>0</td>\n",
              "      <td>2</td>\n",
              "      <td>1</td>\n",
              "    </tr>\n",
              "    <tr>\n",
              "      <th>4</th>\n",
              "      <td>57</td>\n",
              "      <td>0</td>\n",
              "      <td>0</td>\n",
              "      <td>120</td>\n",
              "      <td>354</td>\n",
              "      <td>0</td>\n",
              "      <td>1</td>\n",
              "      <td>163</td>\n",
              "      <td>1</td>\n",
              "      <td>0.6</td>\n",
              "      <td>2</td>\n",
              "      <td>0</td>\n",
              "      <td>2</td>\n",
              "      <td>1</td>\n",
              "    </tr>\n",
              "  </tbody>\n",
              "</table>\n",
              "</div>\n",
              "      <button class=\"colab-df-convert\" onclick=\"convertToInteractive('df-dc851623-7d61-488b-84fa-a97b21dc572b')\"\n",
              "              title=\"Convert this dataframe to an interactive table.\"\n",
              "              style=\"display:none;\">\n",
              "        \n",
              "  <svg xmlns=\"http://www.w3.org/2000/svg\" height=\"24px\"viewBox=\"0 0 24 24\"\n",
              "       width=\"24px\">\n",
              "    <path d=\"M0 0h24v24H0V0z\" fill=\"none\"/>\n",
              "    <path d=\"M18.56 5.44l.94 2.06.94-2.06 2.06-.94-2.06-.94-.94-2.06-.94 2.06-2.06.94zm-11 1L8.5 8.5l.94-2.06 2.06-.94-2.06-.94L8.5 2.5l-.94 2.06-2.06.94zm10 10l.94 2.06.94-2.06 2.06-.94-2.06-.94-.94-2.06-.94 2.06-2.06.94z\"/><path d=\"M17.41 7.96l-1.37-1.37c-.4-.4-.92-.59-1.43-.59-.52 0-1.04.2-1.43.59L10.3 9.45l-7.72 7.72c-.78.78-.78 2.05 0 2.83L4 21.41c.39.39.9.59 1.41.59.51 0 1.02-.2 1.41-.59l7.78-7.78 2.81-2.81c.8-.78.8-2.07 0-2.86zM5.41 20L4 18.59l7.72-7.72 1.47 1.35L5.41 20z\"/>\n",
              "  </svg>\n",
              "      </button>\n",
              "      \n",
              "  <style>\n",
              "    .colab-df-container {\n",
              "      display:flex;\n",
              "      flex-wrap:wrap;\n",
              "      gap: 12px;\n",
              "    }\n",
              "\n",
              "    .colab-df-convert {\n",
              "      background-color: #E8F0FE;\n",
              "      border: none;\n",
              "      border-radius: 50%;\n",
              "      cursor: pointer;\n",
              "      display: none;\n",
              "      fill: #1967D2;\n",
              "      height: 32px;\n",
              "      padding: 0 0 0 0;\n",
              "      width: 32px;\n",
              "    }\n",
              "\n",
              "    .colab-df-convert:hover {\n",
              "      background-color: #E2EBFA;\n",
              "      box-shadow: 0px 1px 2px rgba(60, 64, 67, 0.3), 0px 1px 3px 1px rgba(60, 64, 67, 0.15);\n",
              "      fill: #174EA6;\n",
              "    }\n",
              "\n",
              "    [theme=dark] .colab-df-convert {\n",
              "      background-color: #3B4455;\n",
              "      fill: #D2E3FC;\n",
              "    }\n",
              "\n",
              "    [theme=dark] .colab-df-convert:hover {\n",
              "      background-color: #434B5C;\n",
              "      box-shadow: 0px 1px 3px 1px rgba(0, 0, 0, 0.15);\n",
              "      filter: drop-shadow(0px 1px 2px rgba(0, 0, 0, 0.3));\n",
              "      fill: #FFFFFF;\n",
              "    }\n",
              "  </style>\n",
              "\n",
              "      <script>\n",
              "        const buttonEl =\n",
              "          document.querySelector('#df-dc851623-7d61-488b-84fa-a97b21dc572b button.colab-df-convert');\n",
              "        buttonEl.style.display =\n",
              "          google.colab.kernel.accessAllowed ? 'block' : 'none';\n",
              "\n",
              "        async function convertToInteractive(key) {\n",
              "          const element = document.querySelector('#df-dc851623-7d61-488b-84fa-a97b21dc572b');\n",
              "          const dataTable =\n",
              "            await google.colab.kernel.invokeFunction('convertToInteractive',\n",
              "                                                     [key], {});\n",
              "          if (!dataTable) return;\n",
              "\n",
              "          const docLinkHtml = 'Like what you see? Visit the ' +\n",
              "            '<a target=\"_blank\" href=https://colab.research.google.com/notebooks/data_table.ipynb>data table notebook</a>'\n",
              "            + ' to learn more about interactive tables.';\n",
              "          element.innerHTML = '';\n",
              "          dataTable['output_type'] = 'display_data';\n",
              "          await google.colab.output.renderOutput(dataTable, element);\n",
              "          const docLink = document.createElement('div');\n",
              "          docLink.innerHTML = docLinkHtml;\n",
              "          element.appendChild(docLink);\n",
              "        }\n",
              "      </script>\n",
              "    </div>\n",
              "  </div>\n",
              "  "
            ]
          },
          "metadata": {},
          "execution_count": 10
        }
      ]
    },
    {
      "cell_type": "code",
      "source": [
        "data.shape"
      ],
      "metadata": {
        "colab": {
          "base_uri": "https://localhost:8080/"
        },
        "id": "BMT4PeXc3GOB",
        "outputId": "dab23a82-bf28-4f3c-957a-442419846564"
      },
      "execution_count": null,
      "outputs": [
        {
          "output_type": "execute_result",
          "data": {
            "text/plain": [
              "(303, 14)"
            ]
          },
          "metadata": {},
          "execution_count": 11
        }
      ]
    },
    {
      "cell_type": "markdown",
      "source": [
        "**Today we are not going to concentrate much on the preprocessing as out aim and focus is on Gridsearch and hyperparameter tuning and pipeline.**"
      ],
      "metadata": {
        "id": "htAq4MUr33SZ"
      }
    },
    {
      "cell_type": "code",
      "source": [
        "data.isna().sum()"
      ],
      "metadata": {
        "colab": {
          "base_uri": "https://localhost:8080/"
        },
        "id": "olnwiFWC4Lhp",
        "outputId": "b6467e64-47a4-4376-8460-cc55049c8b34"
      },
      "execution_count": null,
      "outputs": [
        {
          "output_type": "execute_result",
          "data": {
            "text/plain": [
              "age         0\n",
              "sex         0\n",
              "cp          0\n",
              "trestbps    0\n",
              "chol        0\n",
              "fbs         0\n",
              "restecg     0\n",
              "thalach     0\n",
              "exang       0\n",
              "oldpeak     0\n",
              "slope       0\n",
              "ca          0\n",
              "thal        0\n",
              "target      0\n",
              "dtype: int64"
            ]
          },
          "metadata": {},
          "execution_count": 12
        }
      ]
    },
    {
      "cell_type": "code",
      "source": [
        "data.info()"
      ],
      "metadata": {
        "colab": {
          "base_uri": "https://localhost:8080/"
        },
        "id": "tGZnZ1d74Wp8",
        "outputId": "74a52140-ca75-476b-c958-ae587568c4e9"
      },
      "execution_count": null,
      "outputs": [
        {
          "output_type": "stream",
          "name": "stdout",
          "text": [
            "<class 'pandas.core.frame.DataFrame'>\n",
            "RangeIndex: 303 entries, 0 to 302\n",
            "Data columns (total 14 columns):\n",
            " #   Column    Non-Null Count  Dtype  \n",
            "---  ------    --------------  -----  \n",
            " 0   age       303 non-null    int64  \n",
            " 1   sex       303 non-null    int64  \n",
            " 2   cp        303 non-null    int64  \n",
            " 3   trestbps  303 non-null    int64  \n",
            " 4   chol      303 non-null    int64  \n",
            " 5   fbs       303 non-null    int64  \n",
            " 6   restecg   303 non-null    int64  \n",
            " 7   thalach   303 non-null    int64  \n",
            " 8   exang     303 non-null    int64  \n",
            " 9   oldpeak   303 non-null    float64\n",
            " 10  slope     303 non-null    int64  \n",
            " 11  ca        303 non-null    int64  \n",
            " 12  thal      303 non-null    int64  \n",
            " 13  target    303 non-null    int64  \n",
            "dtypes: float64(1), int64(13)\n",
            "memory usage: 33.3 KB\n"
          ]
        }
      ]
    },
    {
      "cell_type": "code",
      "source": [
        "data.duplicated().sum()"
      ],
      "metadata": {
        "colab": {
          "base_uri": "https://localhost:8080/"
        },
        "id": "Rjl1zxR24RJ_",
        "outputId": "52fbf614-bda0-4891-cdba-f7e1b636ea9d"
      },
      "execution_count": null,
      "outputs": [
        {
          "output_type": "execute_result",
          "data": {
            "text/plain": [
              "1"
            ]
          },
          "metadata": {},
          "execution_count": 14
        }
      ]
    },
    {
      "cell_type": "code",
      "source": [
        "data= data.drop_duplicates()"
      ],
      "metadata": {
        "id": "AysScD5w4RGn"
      },
      "execution_count": null,
      "outputs": []
    },
    {
      "cell_type": "code",
      "source": [
        "data.describe().T"
      ],
      "metadata": {
        "colab": {
          "base_uri": "https://localhost:8080/",
          "height": 488
        },
        "id": "7HMO-RYF4RD-",
        "outputId": "4484f6dd-b79d-4782-dcab-4cb68750f7ba"
      },
      "execution_count": null,
      "outputs": [
        {
          "output_type": "execute_result",
          "data": {
            "text/plain": [
              "          count        mean        std    min     25%    50%     75%    max\n",
              "age       302.0   54.420530   9.047970   29.0   48.00   55.5   61.00   77.0\n",
              "sex       302.0    0.682119   0.466426    0.0    0.00    1.0    1.00    1.0\n",
              "cp        302.0    0.963576   1.032044    0.0    0.00    1.0    2.00    3.0\n",
              "trestbps  302.0  131.602649  17.563394   94.0  120.00  130.0  140.00  200.0\n",
              "chol      302.0  246.500000  51.753489  126.0  211.00  240.5  274.75  564.0\n",
              "fbs       302.0    0.149007   0.356686    0.0    0.00    0.0    0.00    1.0\n",
              "restecg   302.0    0.526490   0.526027    0.0    0.00    1.0    1.00    2.0\n",
              "thalach   302.0  149.569536  22.903527   71.0  133.25  152.5  166.00  202.0\n",
              "exang     302.0    0.327815   0.470196    0.0    0.00    0.0    1.00    1.0\n",
              "oldpeak   302.0    1.043046   1.161452    0.0    0.00    0.8    1.60    6.2\n",
              "slope     302.0    1.397351   0.616274    0.0    1.00    1.0    2.00    2.0\n",
              "ca        302.0    0.718543   1.006748    0.0    0.00    0.0    1.00    4.0\n",
              "thal      302.0    2.314570   0.613026    0.0    2.00    2.0    3.00    3.0\n",
              "target    302.0    0.543046   0.498970    0.0    0.00    1.0    1.00    1.0"
            ],
            "text/html": [
              "\n",
              "  <div id=\"df-87e129ce-910b-421f-ad3e-ce3595a0163f\">\n",
              "    <div class=\"colab-df-container\">\n",
              "      <div>\n",
              "<style scoped>\n",
              "    .dataframe tbody tr th:only-of-type {\n",
              "        vertical-align: middle;\n",
              "    }\n",
              "\n",
              "    .dataframe tbody tr th {\n",
              "        vertical-align: top;\n",
              "    }\n",
              "\n",
              "    .dataframe thead th {\n",
              "        text-align: right;\n",
              "    }\n",
              "</style>\n",
              "<table border=\"1\" class=\"dataframe\">\n",
              "  <thead>\n",
              "    <tr style=\"text-align: right;\">\n",
              "      <th></th>\n",
              "      <th>count</th>\n",
              "      <th>mean</th>\n",
              "      <th>std</th>\n",
              "      <th>min</th>\n",
              "      <th>25%</th>\n",
              "      <th>50%</th>\n",
              "      <th>75%</th>\n",
              "      <th>max</th>\n",
              "    </tr>\n",
              "  </thead>\n",
              "  <tbody>\n",
              "    <tr>\n",
              "      <th>age</th>\n",
              "      <td>302.0</td>\n",
              "      <td>54.420530</td>\n",
              "      <td>9.047970</td>\n",
              "      <td>29.0</td>\n",
              "      <td>48.00</td>\n",
              "      <td>55.5</td>\n",
              "      <td>61.00</td>\n",
              "      <td>77.0</td>\n",
              "    </tr>\n",
              "    <tr>\n",
              "      <th>sex</th>\n",
              "      <td>302.0</td>\n",
              "      <td>0.682119</td>\n",
              "      <td>0.466426</td>\n",
              "      <td>0.0</td>\n",
              "      <td>0.00</td>\n",
              "      <td>1.0</td>\n",
              "      <td>1.00</td>\n",
              "      <td>1.0</td>\n",
              "    </tr>\n",
              "    <tr>\n",
              "      <th>cp</th>\n",
              "      <td>302.0</td>\n",
              "      <td>0.963576</td>\n",
              "      <td>1.032044</td>\n",
              "      <td>0.0</td>\n",
              "      <td>0.00</td>\n",
              "      <td>1.0</td>\n",
              "      <td>2.00</td>\n",
              "      <td>3.0</td>\n",
              "    </tr>\n",
              "    <tr>\n",
              "      <th>trestbps</th>\n",
              "      <td>302.0</td>\n",
              "      <td>131.602649</td>\n",
              "      <td>17.563394</td>\n",
              "      <td>94.0</td>\n",
              "      <td>120.00</td>\n",
              "      <td>130.0</td>\n",
              "      <td>140.00</td>\n",
              "      <td>200.0</td>\n",
              "    </tr>\n",
              "    <tr>\n",
              "      <th>chol</th>\n",
              "      <td>302.0</td>\n",
              "      <td>246.500000</td>\n",
              "      <td>51.753489</td>\n",
              "      <td>126.0</td>\n",
              "      <td>211.00</td>\n",
              "      <td>240.5</td>\n",
              "      <td>274.75</td>\n",
              "      <td>564.0</td>\n",
              "    </tr>\n",
              "    <tr>\n",
              "      <th>fbs</th>\n",
              "      <td>302.0</td>\n",
              "      <td>0.149007</td>\n",
              "      <td>0.356686</td>\n",
              "      <td>0.0</td>\n",
              "      <td>0.00</td>\n",
              "      <td>0.0</td>\n",
              "      <td>0.00</td>\n",
              "      <td>1.0</td>\n",
              "    </tr>\n",
              "    <tr>\n",
              "      <th>restecg</th>\n",
              "      <td>302.0</td>\n",
              "      <td>0.526490</td>\n",
              "      <td>0.526027</td>\n",
              "      <td>0.0</td>\n",
              "      <td>0.00</td>\n",
              "      <td>1.0</td>\n",
              "      <td>1.00</td>\n",
              "      <td>2.0</td>\n",
              "    </tr>\n",
              "    <tr>\n",
              "      <th>thalach</th>\n",
              "      <td>302.0</td>\n",
              "      <td>149.569536</td>\n",
              "      <td>22.903527</td>\n",
              "      <td>71.0</td>\n",
              "      <td>133.25</td>\n",
              "      <td>152.5</td>\n",
              "      <td>166.00</td>\n",
              "      <td>202.0</td>\n",
              "    </tr>\n",
              "    <tr>\n",
              "      <th>exang</th>\n",
              "      <td>302.0</td>\n",
              "      <td>0.327815</td>\n",
              "      <td>0.470196</td>\n",
              "      <td>0.0</td>\n",
              "      <td>0.00</td>\n",
              "      <td>0.0</td>\n",
              "      <td>1.00</td>\n",
              "      <td>1.0</td>\n",
              "    </tr>\n",
              "    <tr>\n",
              "      <th>oldpeak</th>\n",
              "      <td>302.0</td>\n",
              "      <td>1.043046</td>\n",
              "      <td>1.161452</td>\n",
              "      <td>0.0</td>\n",
              "      <td>0.00</td>\n",
              "      <td>0.8</td>\n",
              "      <td>1.60</td>\n",
              "      <td>6.2</td>\n",
              "    </tr>\n",
              "    <tr>\n",
              "      <th>slope</th>\n",
              "      <td>302.0</td>\n",
              "      <td>1.397351</td>\n",
              "      <td>0.616274</td>\n",
              "      <td>0.0</td>\n",
              "      <td>1.00</td>\n",
              "      <td>1.0</td>\n",
              "      <td>2.00</td>\n",
              "      <td>2.0</td>\n",
              "    </tr>\n",
              "    <tr>\n",
              "      <th>ca</th>\n",
              "      <td>302.0</td>\n",
              "      <td>0.718543</td>\n",
              "      <td>1.006748</td>\n",
              "      <td>0.0</td>\n",
              "      <td>0.00</td>\n",
              "      <td>0.0</td>\n",
              "      <td>1.00</td>\n",
              "      <td>4.0</td>\n",
              "    </tr>\n",
              "    <tr>\n",
              "      <th>thal</th>\n",
              "      <td>302.0</td>\n",
              "      <td>2.314570</td>\n",
              "      <td>0.613026</td>\n",
              "      <td>0.0</td>\n",
              "      <td>2.00</td>\n",
              "      <td>2.0</td>\n",
              "      <td>3.00</td>\n",
              "      <td>3.0</td>\n",
              "    </tr>\n",
              "    <tr>\n",
              "      <th>target</th>\n",
              "      <td>302.0</td>\n",
              "      <td>0.543046</td>\n",
              "      <td>0.498970</td>\n",
              "      <td>0.0</td>\n",
              "      <td>0.00</td>\n",
              "      <td>1.0</td>\n",
              "      <td>1.00</td>\n",
              "      <td>1.0</td>\n",
              "    </tr>\n",
              "  </tbody>\n",
              "</table>\n",
              "</div>\n",
              "      <button class=\"colab-df-convert\" onclick=\"convertToInteractive('df-87e129ce-910b-421f-ad3e-ce3595a0163f')\"\n",
              "              title=\"Convert this dataframe to an interactive table.\"\n",
              "              style=\"display:none;\">\n",
              "        \n",
              "  <svg xmlns=\"http://www.w3.org/2000/svg\" height=\"24px\"viewBox=\"0 0 24 24\"\n",
              "       width=\"24px\">\n",
              "    <path d=\"M0 0h24v24H0V0z\" fill=\"none\"/>\n",
              "    <path d=\"M18.56 5.44l.94 2.06.94-2.06 2.06-.94-2.06-.94-.94-2.06-.94 2.06-2.06.94zm-11 1L8.5 8.5l.94-2.06 2.06-.94-2.06-.94L8.5 2.5l-.94 2.06-2.06.94zm10 10l.94 2.06.94-2.06 2.06-.94-2.06-.94-.94-2.06-.94 2.06-2.06.94z\"/><path d=\"M17.41 7.96l-1.37-1.37c-.4-.4-.92-.59-1.43-.59-.52 0-1.04.2-1.43.59L10.3 9.45l-7.72 7.72c-.78.78-.78 2.05 0 2.83L4 21.41c.39.39.9.59 1.41.59.51 0 1.02-.2 1.41-.59l7.78-7.78 2.81-2.81c.8-.78.8-2.07 0-2.86zM5.41 20L4 18.59l7.72-7.72 1.47 1.35L5.41 20z\"/>\n",
              "  </svg>\n",
              "      </button>\n",
              "      \n",
              "  <style>\n",
              "    .colab-df-container {\n",
              "      display:flex;\n",
              "      flex-wrap:wrap;\n",
              "      gap: 12px;\n",
              "    }\n",
              "\n",
              "    .colab-df-convert {\n",
              "      background-color: #E8F0FE;\n",
              "      border: none;\n",
              "      border-radius: 50%;\n",
              "      cursor: pointer;\n",
              "      display: none;\n",
              "      fill: #1967D2;\n",
              "      height: 32px;\n",
              "      padding: 0 0 0 0;\n",
              "      width: 32px;\n",
              "    }\n",
              "\n",
              "    .colab-df-convert:hover {\n",
              "      background-color: #E2EBFA;\n",
              "      box-shadow: 0px 1px 2px rgba(60, 64, 67, 0.3), 0px 1px 3px 1px rgba(60, 64, 67, 0.15);\n",
              "      fill: #174EA6;\n",
              "    }\n",
              "\n",
              "    [theme=dark] .colab-df-convert {\n",
              "      background-color: #3B4455;\n",
              "      fill: #D2E3FC;\n",
              "    }\n",
              "\n",
              "    [theme=dark] .colab-df-convert:hover {\n",
              "      background-color: #434B5C;\n",
              "      box-shadow: 0px 1px 3px 1px rgba(0, 0, 0, 0.15);\n",
              "      filter: drop-shadow(0px 1px 2px rgba(0, 0, 0, 0.3));\n",
              "      fill: #FFFFFF;\n",
              "    }\n",
              "  </style>\n",
              "\n",
              "      <script>\n",
              "        const buttonEl =\n",
              "          document.querySelector('#df-87e129ce-910b-421f-ad3e-ce3595a0163f button.colab-df-convert');\n",
              "        buttonEl.style.display =\n",
              "          google.colab.kernel.accessAllowed ? 'block' : 'none';\n",
              "\n",
              "        async function convertToInteractive(key) {\n",
              "          const element = document.querySelector('#df-87e129ce-910b-421f-ad3e-ce3595a0163f');\n",
              "          const dataTable =\n",
              "            await google.colab.kernel.invokeFunction('convertToInteractive',\n",
              "                                                     [key], {});\n",
              "          if (!dataTable) return;\n",
              "\n",
              "          const docLinkHtml = 'Like what you see? Visit the ' +\n",
              "            '<a target=\"_blank\" href=https://colab.research.google.com/notebooks/data_table.ipynb>data table notebook</a>'\n",
              "            + ' to learn more about interactive tables.';\n",
              "          element.innerHTML = '';\n",
              "          dataTable['output_type'] = 'display_data';\n",
              "          await google.colab.output.renderOutput(dataTable, element);\n",
              "          const docLink = document.createElement('div');\n",
              "          docLink.innerHTML = docLinkHtml;\n",
              "          element.appendChild(docLink);\n",
              "        }\n",
              "      </script>\n",
              "    </div>\n",
              "  </div>\n",
              "  "
            ]
          },
          "metadata": {},
          "execution_count": 16
        }
      ]
    },
    {
      "cell_type": "code",
      "source": [
        "data.corr()"
      ],
      "metadata": {
        "colab": {
          "base_uri": "https://localhost:8080/",
          "height": 552
        },
        "id": "2PaIdp_Y4RBr",
        "outputId": "c4f3a2d6-2971-42bf-8e15-b922f31a9ff4"
      },
      "execution_count": null,
      "outputs": [
        {
          "output_type": "execute_result",
          "data": {
            "text/plain": [
              "               age       sex        cp  trestbps      chol       fbs  \\\n",
              "age       1.000000 -0.094962 -0.063107  0.283121  0.207216  0.119492   \n",
              "sex      -0.094962  1.000000 -0.051740 -0.057647 -0.195571  0.046022   \n",
              "cp       -0.063107 -0.051740  1.000000  0.046486 -0.072682  0.096018   \n",
              "trestbps  0.283121 -0.057647  0.046486  1.000000  0.125256  0.178125   \n",
              "chol      0.207216 -0.195571 -0.072682  0.125256  1.000000  0.011428   \n",
              "fbs       0.119492  0.046022  0.096018  0.178125  0.011428  1.000000   \n",
              "restecg  -0.111590 -0.060351  0.041561 -0.115367 -0.147602 -0.083081   \n",
              "thalach  -0.395235 -0.046439  0.293367 -0.048023 -0.005308 -0.007169   \n",
              "exang     0.093216  0.143460 -0.392937  0.068526  0.064099  0.024729   \n",
              "oldpeak   0.206040  0.098322 -0.146692  0.194600  0.050086  0.004514   \n",
              "slope    -0.164124 -0.032990  0.116854 -0.122873  0.000417 -0.058654   \n",
              "ca        0.302261  0.113060 -0.195356  0.099248  0.086878  0.144935   \n",
              "thal      0.065317  0.211452 -0.160370  0.062870  0.096810 -0.032752   \n",
              "target   -0.221476 -0.283609  0.432080 -0.146269 -0.081437 -0.026826   \n",
              "\n",
              "           restecg   thalach     exang   oldpeak     slope        ca  \\\n",
              "age      -0.111590 -0.395235  0.093216  0.206040 -0.164124  0.302261   \n",
              "sex      -0.060351 -0.046439  0.143460  0.098322 -0.032990  0.113060   \n",
              "cp        0.041561  0.293367 -0.392937 -0.146692  0.116854 -0.195356   \n",
              "trestbps -0.115367 -0.048023  0.068526  0.194600 -0.122873  0.099248   \n",
              "chol     -0.147602 -0.005308  0.064099  0.050086  0.000417  0.086878   \n",
              "fbs      -0.083081 -0.007169  0.024729  0.004514 -0.058654  0.144935   \n",
              "restecg   1.000000  0.041210 -0.068807 -0.056251  0.090402 -0.083112   \n",
              "thalach   0.041210  1.000000 -0.377411 -0.342201  0.384754 -0.228311   \n",
              "exang    -0.068807 -0.377411  1.000000  0.286766 -0.256106  0.125377   \n",
              "oldpeak  -0.056251 -0.342201  0.286766  1.000000 -0.576314  0.236560   \n",
              "slope     0.090402  0.384754 -0.256106 -0.576314  1.000000 -0.092236   \n",
              "ca       -0.083112 -0.228311  0.125377  0.236560 -0.092236  1.000000   \n",
              "thal     -0.010473 -0.094910  0.205826  0.209090 -0.103314  0.160085   \n",
              "target    0.134874  0.419955 -0.435601 -0.429146  0.343940 -0.408992   \n",
              "\n",
              "              thal    target  \n",
              "age       0.065317 -0.221476  \n",
              "sex       0.211452 -0.283609  \n",
              "cp       -0.160370  0.432080  \n",
              "trestbps  0.062870 -0.146269  \n",
              "chol      0.096810 -0.081437  \n",
              "fbs      -0.032752 -0.026826  \n",
              "restecg  -0.010473  0.134874  \n",
              "thalach  -0.094910  0.419955  \n",
              "exang     0.205826 -0.435601  \n",
              "oldpeak   0.209090 -0.429146  \n",
              "slope    -0.103314  0.343940  \n",
              "ca        0.160085 -0.408992  \n",
              "thal      1.000000 -0.343101  \n",
              "target   -0.343101  1.000000  "
            ],
            "text/html": [
              "\n",
              "  <div id=\"df-64d925a4-d644-4de1-8f71-463c0a9536fb\">\n",
              "    <div class=\"colab-df-container\">\n",
              "      <div>\n",
              "<style scoped>\n",
              "    .dataframe tbody tr th:only-of-type {\n",
              "        vertical-align: middle;\n",
              "    }\n",
              "\n",
              "    .dataframe tbody tr th {\n",
              "        vertical-align: top;\n",
              "    }\n",
              "\n",
              "    .dataframe thead th {\n",
              "        text-align: right;\n",
              "    }\n",
              "</style>\n",
              "<table border=\"1\" class=\"dataframe\">\n",
              "  <thead>\n",
              "    <tr style=\"text-align: right;\">\n",
              "      <th></th>\n",
              "      <th>age</th>\n",
              "      <th>sex</th>\n",
              "      <th>cp</th>\n",
              "      <th>trestbps</th>\n",
              "      <th>chol</th>\n",
              "      <th>fbs</th>\n",
              "      <th>restecg</th>\n",
              "      <th>thalach</th>\n",
              "      <th>exang</th>\n",
              "      <th>oldpeak</th>\n",
              "      <th>slope</th>\n",
              "      <th>ca</th>\n",
              "      <th>thal</th>\n",
              "      <th>target</th>\n",
              "    </tr>\n",
              "  </thead>\n",
              "  <tbody>\n",
              "    <tr>\n",
              "      <th>age</th>\n",
              "      <td>1.000000</td>\n",
              "      <td>-0.094962</td>\n",
              "      <td>-0.063107</td>\n",
              "      <td>0.283121</td>\n",
              "      <td>0.207216</td>\n",
              "      <td>0.119492</td>\n",
              "      <td>-0.111590</td>\n",
              "      <td>-0.395235</td>\n",
              "      <td>0.093216</td>\n",
              "      <td>0.206040</td>\n",
              "      <td>-0.164124</td>\n",
              "      <td>0.302261</td>\n",
              "      <td>0.065317</td>\n",
              "      <td>-0.221476</td>\n",
              "    </tr>\n",
              "    <tr>\n",
              "      <th>sex</th>\n",
              "      <td>-0.094962</td>\n",
              "      <td>1.000000</td>\n",
              "      <td>-0.051740</td>\n",
              "      <td>-0.057647</td>\n",
              "      <td>-0.195571</td>\n",
              "      <td>0.046022</td>\n",
              "      <td>-0.060351</td>\n",
              "      <td>-0.046439</td>\n",
              "      <td>0.143460</td>\n",
              "      <td>0.098322</td>\n",
              "      <td>-0.032990</td>\n",
              "      <td>0.113060</td>\n",
              "      <td>0.211452</td>\n",
              "      <td>-0.283609</td>\n",
              "    </tr>\n",
              "    <tr>\n",
              "      <th>cp</th>\n",
              "      <td>-0.063107</td>\n",
              "      <td>-0.051740</td>\n",
              "      <td>1.000000</td>\n",
              "      <td>0.046486</td>\n",
              "      <td>-0.072682</td>\n",
              "      <td>0.096018</td>\n",
              "      <td>0.041561</td>\n",
              "      <td>0.293367</td>\n",
              "      <td>-0.392937</td>\n",
              "      <td>-0.146692</td>\n",
              "      <td>0.116854</td>\n",
              "      <td>-0.195356</td>\n",
              "      <td>-0.160370</td>\n",
              "      <td>0.432080</td>\n",
              "    </tr>\n",
              "    <tr>\n",
              "      <th>trestbps</th>\n",
              "      <td>0.283121</td>\n",
              "      <td>-0.057647</td>\n",
              "      <td>0.046486</td>\n",
              "      <td>1.000000</td>\n",
              "      <td>0.125256</td>\n",
              "      <td>0.178125</td>\n",
              "      <td>-0.115367</td>\n",
              "      <td>-0.048023</td>\n",
              "      <td>0.068526</td>\n",
              "      <td>0.194600</td>\n",
              "      <td>-0.122873</td>\n",
              "      <td>0.099248</td>\n",
              "      <td>0.062870</td>\n",
              "      <td>-0.146269</td>\n",
              "    </tr>\n",
              "    <tr>\n",
              "      <th>chol</th>\n",
              "      <td>0.207216</td>\n",
              "      <td>-0.195571</td>\n",
              "      <td>-0.072682</td>\n",
              "      <td>0.125256</td>\n",
              "      <td>1.000000</td>\n",
              "      <td>0.011428</td>\n",
              "      <td>-0.147602</td>\n",
              "      <td>-0.005308</td>\n",
              "      <td>0.064099</td>\n",
              "      <td>0.050086</td>\n",
              "      <td>0.000417</td>\n",
              "      <td>0.086878</td>\n",
              "      <td>0.096810</td>\n",
              "      <td>-0.081437</td>\n",
              "    </tr>\n",
              "    <tr>\n",
              "      <th>fbs</th>\n",
              "      <td>0.119492</td>\n",
              "      <td>0.046022</td>\n",
              "      <td>0.096018</td>\n",
              "      <td>0.178125</td>\n",
              "      <td>0.011428</td>\n",
              "      <td>1.000000</td>\n",
              "      <td>-0.083081</td>\n",
              "      <td>-0.007169</td>\n",
              "      <td>0.024729</td>\n",
              "      <td>0.004514</td>\n",
              "      <td>-0.058654</td>\n",
              "      <td>0.144935</td>\n",
              "      <td>-0.032752</td>\n",
              "      <td>-0.026826</td>\n",
              "    </tr>\n",
              "    <tr>\n",
              "      <th>restecg</th>\n",
              "      <td>-0.111590</td>\n",
              "      <td>-0.060351</td>\n",
              "      <td>0.041561</td>\n",
              "      <td>-0.115367</td>\n",
              "      <td>-0.147602</td>\n",
              "      <td>-0.083081</td>\n",
              "      <td>1.000000</td>\n",
              "      <td>0.041210</td>\n",
              "      <td>-0.068807</td>\n",
              "      <td>-0.056251</td>\n",
              "      <td>0.090402</td>\n",
              "      <td>-0.083112</td>\n",
              "      <td>-0.010473</td>\n",
              "      <td>0.134874</td>\n",
              "    </tr>\n",
              "    <tr>\n",
              "      <th>thalach</th>\n",
              "      <td>-0.395235</td>\n",
              "      <td>-0.046439</td>\n",
              "      <td>0.293367</td>\n",
              "      <td>-0.048023</td>\n",
              "      <td>-0.005308</td>\n",
              "      <td>-0.007169</td>\n",
              "      <td>0.041210</td>\n",
              "      <td>1.000000</td>\n",
              "      <td>-0.377411</td>\n",
              "      <td>-0.342201</td>\n",
              "      <td>0.384754</td>\n",
              "      <td>-0.228311</td>\n",
              "      <td>-0.094910</td>\n",
              "      <td>0.419955</td>\n",
              "    </tr>\n",
              "    <tr>\n",
              "      <th>exang</th>\n",
              "      <td>0.093216</td>\n",
              "      <td>0.143460</td>\n",
              "      <td>-0.392937</td>\n",
              "      <td>0.068526</td>\n",
              "      <td>0.064099</td>\n",
              "      <td>0.024729</td>\n",
              "      <td>-0.068807</td>\n",
              "      <td>-0.377411</td>\n",
              "      <td>1.000000</td>\n",
              "      <td>0.286766</td>\n",
              "      <td>-0.256106</td>\n",
              "      <td>0.125377</td>\n",
              "      <td>0.205826</td>\n",
              "      <td>-0.435601</td>\n",
              "    </tr>\n",
              "    <tr>\n",
              "      <th>oldpeak</th>\n",
              "      <td>0.206040</td>\n",
              "      <td>0.098322</td>\n",
              "      <td>-0.146692</td>\n",
              "      <td>0.194600</td>\n",
              "      <td>0.050086</td>\n",
              "      <td>0.004514</td>\n",
              "      <td>-0.056251</td>\n",
              "      <td>-0.342201</td>\n",
              "      <td>0.286766</td>\n",
              "      <td>1.000000</td>\n",
              "      <td>-0.576314</td>\n",
              "      <td>0.236560</td>\n",
              "      <td>0.209090</td>\n",
              "      <td>-0.429146</td>\n",
              "    </tr>\n",
              "    <tr>\n",
              "      <th>slope</th>\n",
              "      <td>-0.164124</td>\n",
              "      <td>-0.032990</td>\n",
              "      <td>0.116854</td>\n",
              "      <td>-0.122873</td>\n",
              "      <td>0.000417</td>\n",
              "      <td>-0.058654</td>\n",
              "      <td>0.090402</td>\n",
              "      <td>0.384754</td>\n",
              "      <td>-0.256106</td>\n",
              "      <td>-0.576314</td>\n",
              "      <td>1.000000</td>\n",
              "      <td>-0.092236</td>\n",
              "      <td>-0.103314</td>\n",
              "      <td>0.343940</td>\n",
              "    </tr>\n",
              "    <tr>\n",
              "      <th>ca</th>\n",
              "      <td>0.302261</td>\n",
              "      <td>0.113060</td>\n",
              "      <td>-0.195356</td>\n",
              "      <td>0.099248</td>\n",
              "      <td>0.086878</td>\n",
              "      <td>0.144935</td>\n",
              "      <td>-0.083112</td>\n",
              "      <td>-0.228311</td>\n",
              "      <td>0.125377</td>\n",
              "      <td>0.236560</td>\n",
              "      <td>-0.092236</td>\n",
              "      <td>1.000000</td>\n",
              "      <td>0.160085</td>\n",
              "      <td>-0.408992</td>\n",
              "    </tr>\n",
              "    <tr>\n",
              "      <th>thal</th>\n",
              "      <td>0.065317</td>\n",
              "      <td>0.211452</td>\n",
              "      <td>-0.160370</td>\n",
              "      <td>0.062870</td>\n",
              "      <td>0.096810</td>\n",
              "      <td>-0.032752</td>\n",
              "      <td>-0.010473</td>\n",
              "      <td>-0.094910</td>\n",
              "      <td>0.205826</td>\n",
              "      <td>0.209090</td>\n",
              "      <td>-0.103314</td>\n",
              "      <td>0.160085</td>\n",
              "      <td>1.000000</td>\n",
              "      <td>-0.343101</td>\n",
              "    </tr>\n",
              "    <tr>\n",
              "      <th>target</th>\n",
              "      <td>-0.221476</td>\n",
              "      <td>-0.283609</td>\n",
              "      <td>0.432080</td>\n",
              "      <td>-0.146269</td>\n",
              "      <td>-0.081437</td>\n",
              "      <td>-0.026826</td>\n",
              "      <td>0.134874</td>\n",
              "      <td>0.419955</td>\n",
              "      <td>-0.435601</td>\n",
              "      <td>-0.429146</td>\n",
              "      <td>0.343940</td>\n",
              "      <td>-0.408992</td>\n",
              "      <td>-0.343101</td>\n",
              "      <td>1.000000</td>\n",
              "    </tr>\n",
              "  </tbody>\n",
              "</table>\n",
              "</div>\n",
              "      <button class=\"colab-df-convert\" onclick=\"convertToInteractive('df-64d925a4-d644-4de1-8f71-463c0a9536fb')\"\n",
              "              title=\"Convert this dataframe to an interactive table.\"\n",
              "              style=\"display:none;\">\n",
              "        \n",
              "  <svg xmlns=\"http://www.w3.org/2000/svg\" height=\"24px\"viewBox=\"0 0 24 24\"\n",
              "       width=\"24px\">\n",
              "    <path d=\"M0 0h24v24H0V0z\" fill=\"none\"/>\n",
              "    <path d=\"M18.56 5.44l.94 2.06.94-2.06 2.06-.94-2.06-.94-.94-2.06-.94 2.06-2.06.94zm-11 1L8.5 8.5l.94-2.06 2.06-.94-2.06-.94L8.5 2.5l-.94 2.06-2.06.94zm10 10l.94 2.06.94-2.06 2.06-.94-2.06-.94-.94-2.06-.94 2.06-2.06.94z\"/><path d=\"M17.41 7.96l-1.37-1.37c-.4-.4-.92-.59-1.43-.59-.52 0-1.04.2-1.43.59L10.3 9.45l-7.72 7.72c-.78.78-.78 2.05 0 2.83L4 21.41c.39.39.9.59 1.41.59.51 0 1.02-.2 1.41-.59l7.78-7.78 2.81-2.81c.8-.78.8-2.07 0-2.86zM5.41 20L4 18.59l7.72-7.72 1.47 1.35L5.41 20z\"/>\n",
              "  </svg>\n",
              "      </button>\n",
              "      \n",
              "  <style>\n",
              "    .colab-df-container {\n",
              "      display:flex;\n",
              "      flex-wrap:wrap;\n",
              "      gap: 12px;\n",
              "    }\n",
              "\n",
              "    .colab-df-convert {\n",
              "      background-color: #E8F0FE;\n",
              "      border: none;\n",
              "      border-radius: 50%;\n",
              "      cursor: pointer;\n",
              "      display: none;\n",
              "      fill: #1967D2;\n",
              "      height: 32px;\n",
              "      padding: 0 0 0 0;\n",
              "      width: 32px;\n",
              "    }\n",
              "\n",
              "    .colab-df-convert:hover {\n",
              "      background-color: #E2EBFA;\n",
              "      box-shadow: 0px 1px 2px rgba(60, 64, 67, 0.3), 0px 1px 3px 1px rgba(60, 64, 67, 0.15);\n",
              "      fill: #174EA6;\n",
              "    }\n",
              "\n",
              "    [theme=dark] .colab-df-convert {\n",
              "      background-color: #3B4455;\n",
              "      fill: #D2E3FC;\n",
              "    }\n",
              "\n",
              "    [theme=dark] .colab-df-convert:hover {\n",
              "      background-color: #434B5C;\n",
              "      box-shadow: 0px 1px 3px 1px rgba(0, 0, 0, 0.15);\n",
              "      filter: drop-shadow(0px 1px 2px rgba(0, 0, 0, 0.3));\n",
              "      fill: #FFFFFF;\n",
              "    }\n",
              "  </style>\n",
              "\n",
              "      <script>\n",
              "        const buttonEl =\n",
              "          document.querySelector('#df-64d925a4-d644-4de1-8f71-463c0a9536fb button.colab-df-convert');\n",
              "        buttonEl.style.display =\n",
              "          google.colab.kernel.accessAllowed ? 'block' : 'none';\n",
              "\n",
              "        async function convertToInteractive(key) {\n",
              "          const element = document.querySelector('#df-64d925a4-d644-4de1-8f71-463c0a9536fb');\n",
              "          const dataTable =\n",
              "            await google.colab.kernel.invokeFunction('convertToInteractive',\n",
              "                                                     [key], {});\n",
              "          if (!dataTable) return;\n",
              "\n",
              "          const docLinkHtml = 'Like what you see? Visit the ' +\n",
              "            '<a target=\"_blank\" href=https://colab.research.google.com/notebooks/data_table.ipynb>data table notebook</a>'\n",
              "            + ' to learn more about interactive tables.';\n",
              "          element.innerHTML = '';\n",
              "          dataTable['output_type'] = 'display_data';\n",
              "          await google.colab.output.renderOutput(dataTable, element);\n",
              "          const docLink = document.createElement('div');\n",
              "          docLink.innerHTML = docLinkHtml;\n",
              "          element.appendChild(docLink);\n",
              "        }\n",
              "      </script>\n",
              "    </div>\n",
              "  </div>\n",
              "  "
            ]
          },
          "metadata": {},
          "execution_count": 17
        }
      ]
    },
    {
      "cell_type": "code",
      "source": [
        "plt.figure(figsize=(20,15))\n",
        "sns.heatmap(data.corr(),annot=True)"
      ],
      "metadata": {
        "colab": {
          "base_uri": "https://localhost:8080/",
          "height": 885
        },
        "id": "e7pjcER84Q_f",
        "outputId": "eaa9acba-c311-4daa-f38b-99618b21e751"
      },
      "execution_count": null,
      "outputs": [
        {
          "output_type": "execute_result",
          "data": {
            "text/plain": [
              "<matplotlib.axes._subplots.AxesSubplot at 0x7f4dbb533fd0>"
            ]
          },
          "metadata": {},
          "execution_count": 18
        },
        {
          "output_type": "display_data",
          "data": {
            "text/plain": [
              "<Figure size 1440x1080 with 2 Axes>"
            ],
            "image/png": "[encoded data removed]"
          },
          "metadata": {
            "needs_background": "light"
          }
        }
      ]
    },
    {
      "cell_type": "code",
      "source": [
        "data.cp.value_counts()"
      ],
      "metadata": {
        "colab": {
          "base_uri": "https://localhost:8080/"
        },
        "id": "kePWFA854Q9I",
        "outputId": "f4f21c89-bde0-4824-d10b-8572afaa6587"
      },
      "execution_count": null,
      "outputs": [
        {
          "output_type": "execute_result",
          "data": {
            "text/plain": [
              "0    143\n",
              "2     86\n",
              "1     50\n",
              "3     23\n",
              "Name: cp, dtype: int64"
            ]
          },
          "metadata": {},
          "execution_count": 19
        }
      ]
    },
    {
      "cell_type": "code",
      "source": [
        "data.groupby('target').cp.value_counts(normalize=True)"
      ],
      "metadata": {
        "colab": {
          "base_uri": "https://localhost:8080/"
        },
        "id": "X0qi6LLi4Q67",
        "outputId": "ba25156b-280f-4b76-c99b-c12cca3dbf50"
      },
      "execution_count": null,
      "outputs": [
        {
          "output_type": "execute_result",
          "data": {
            "text/plain": [
              "target  cp\n",
              "0       0     0.753623\n",
              "        2     0.130435\n",
              "        1     0.065217\n",
              "        3     0.050725\n",
              "1       2     0.414634\n",
              "        1     0.250000\n",
              "        0     0.237805\n",
              "        3     0.097561\n",
              "Name: cp, dtype: float64"
            ]
          },
          "metadata": {},
          "execution_count": 20
        }
      ]
    },
    {
      "cell_type": "code",
      "source": [
        "sns.countplot('target',hue='cp',data=data)\n",
        "plt.xlabel('Heart Disease')\n",
        "plt.ylabel('Count')"
      ],
      "metadata": {
        "colab": {
          "base_uri": "https://localhost:8080/",
          "height": 297
        },
        "id": "mlj1LviC4Q4j",
        "outputId": "bc067794-96e1-44a2-d5a3-0f56c8fafee4"
      },
      "execution_count": null,
      "outputs": [
        {
          "output_type": "execute_result",
          "data": {
            "text/plain": [
              "Text(0, 0.5, 'Count')"
            ]
          },
          "metadata": {},
          "execution_count": 21
        },
        {
          "output_type": "display_data",
          "data": {
            "text/plain": [
              "<Figure size 432x288 with 1 Axes>"
            ],
            "image/png": "[encoded data removed]"
          },
          "metadata": {
            "needs_background": "light"
          }
        }
      ]
    },
    {
      "cell_type": "code",
      "source": [
        "sns.countplot('target',hue='thalach',data=data)\n",
        "plt.xlabel('Heart Disease')\n",
        "plt.ylabel('Count')"
      ],
      "metadata": {
        "colab": {
          "base_uri": "https://localhost:8080/",
          "height": 1000
        },
        "id": "m0rLoS_p4Q2L",
        "outputId": "eece6cb2-e8e7-45ac-aa37-e811dc18d3c6"
      },
      "execution_count": null,
      "outputs": [
        {
          "output_type": "execute_result",
          "data": {
            "text/plain": [
              "Text(0, 0.5, 'Count')"
            ]
          },
          "metadata": {},
          "execution_count": 22
        },
        {
          "output_type": "display_data",
          "data": {
            "text/plain": [
              "<Figure size 432x288 with 1 Axes>"
            ],
            "image/png": "[encoded data removed]"
          },
          "metadata": {
            "needs_background": "light"
          }
        }
      ]
    },
    {
      "cell_type": "code",
      "source": [
        "sns.countplot('target',hue='sex',data=data)\n",
        "plt.xlabel('Heart Disease')\n",
        "plt.ylabel('Count')"
      ],
      "metadata": {
        "colab": {
          "base_uri": "https://localhost:8080/",
          "height": 297
        },
        "id": "Jiw5ck8W4Qzq",
        "outputId": "6b3d6dea-193a-4d20-c396-2fdfffd7f138"
      },
      "execution_count": null,
      "outputs": [
        {
          "output_type": "execute_result",
          "data": {
            "text/plain": [
              "Text(0, 0.5, 'Count')"
            ]
          },
          "metadata": {},
          "execution_count": 23
        },
        {
          "output_type": "display_data",
          "data": {
            "text/plain": [
              "<Figure size 432x288 with 1 Axes>"
            ],
            "image/png": "[encoded data removed]"
          },
          "metadata": {
            "needs_background": "light"
          }
        }
      ]
    },
    {
      "cell_type": "code",
      "source": [
        "plt.figure(figsize=(20,10))\n",
        "sns.countplot('age',hue='target',data=data)\n",
        "plt.xlabel('Heart Disease')\n",
        "plt.ylabel('Count')"
      ],
      "metadata": {
        "colab": {
          "base_uri": "https://localhost:8080/",
          "height": 599
        },
        "id": "KBi4yHLN4QxO",
        "outputId": "f26528f4-b96b-427d-8d19-9f435a18e035"
      },
      "execution_count": null,
      "outputs": [
        {
          "output_type": "execute_result",
          "data": {
            "text/plain": [
              "Text(0, 0.5, 'Count')"
            ]
          },
          "metadata": {},
          "execution_count": 24
        },
        {
          "output_type": "display_data",
          "data": {
            "text/plain": [
              "<Figure size 1440x720 with 1 Axes>"
            ],
            "image/png": "[encoded data removed]"
          },
          "metadata": {
            "needs_background": "light"
          }
        }
      ]
    },
    {
      "cell_type": "markdown",
      "source": [
        "## Under/Over Sampling Check:"
      ],
      "metadata": {
        "id": "OVDyNtTg9gxU"
      }
    },
    {
      "cell_type": "code",
      "source": [
        "#lets check how the data is being sampled in the target like its undersampled or oversampled.\n",
        "data['target'].value_counts()\n",
        "#seems data is almost balanced so need to worry about under or over sampling"
      ],
      "metadata": {
        "colab": {
          "base_uri": "https://localhost:8080/"
        },
        "id": "ziI1velp4Qu-",
        "outputId": "6b89b1b0-c843-41aa-841c-8232e8a89173"
      },
      "execution_count": null,
      "outputs": [
        {
          "output_type": "execute_result",
          "data": {
            "text/plain": [
              "1    164\n",
              "0    138\n",
              "Name: target, dtype: int64"
            ]
          },
          "metadata": {},
          "execution_count": 25
        }
      ]
    },
    {
      "cell_type": "markdown",
      "source": [
        "##Checking Outliers using Box plot"
      ],
      "metadata": {
        "id": "0qCck6sd-mXH"
      }
    },
    {
      "cell_type": "code",
      "source": [
        "plt.figure(figsize=(20,10))\n",
        "data.boxplot()"
      ],
      "metadata": {
        "colab": {
          "base_uri": "https://localhost:8080/",
          "height": 589
        },
        "id": "PS6CTlS7-j3S",
        "outputId": "28c9bd45-fa95-4109-e7db-7403ae0d95c6"
      },
      "execution_count": null,
      "outputs": [
        {
          "output_type": "execute_result",
          "data": {
            "text/plain": [
              "<matplotlib.axes._subplots.AxesSubplot at 0x7f4dad52f990>"
            ]
          },
          "metadata": {},
          "execution_count": 26
        },
        {
          "output_type": "display_data",
          "data": {
            "text/plain": [
              "<Figure size 1440x720 with 1 Axes>"
            ],
            "image/png": "[encoded data removed]"
          },
          "metadata": {
            "needs_background": "light"
          }
        }
      ]
    },
    {
      "cell_type": "markdown",
      "source": [
        "##Model Building:"
      ],
      "metadata": {
        "id": "V4avNTfH9KPZ"
      }
    },
    {
      "cell_type": "code",
      "source": [
        "x =data.drop(columns='target')\n",
        "y= data['target']"
      ],
      "metadata": {
        "id": "XpKUGZG3_JwU"
      },
      "execution_count": null,
      "outputs": []
    },
    {
      "cell_type": "code",
      "source": [
        "X_train, X_test, y_train, y_test = train_test_split(x, y, test_size=0.2, random_state=42)"
      ],
      "metadata": {
        "id": "IePY67LN4Qsn"
      },
      "execution_count": null,
      "outputs": []
    },
    {
      "cell_type": "code",
      "source": [
        "def model_fit(model, X_train, X_test, y_train, y_test):\n",
        "  model.fit(X_train,y_train)\n",
        "  train_pred = model.predict(X_train)\n",
        "  test_pred = model.predict(X_test)\n",
        "  train_accuracy = accuracy_score(y_train, train_pred)\n",
        "  test_accuracy = accuracy_score(y_test, test_pred)\n",
        "  print('')\n",
        "  print(model)\n",
        "  print(\"Train_Accuracy :\",train_accuracy)\n",
        "  print(\"Test_Accuracy :\",test_accuracy)\n",
        "  return train_accuracy,test_accuracy\n",
        ""
      ],
      "metadata": {
        "id": "0DXP1PNz4Qqk"
      },
      "execution_count": null,
      "outputs": []
    },
    {
      "cell_type": "code",
      "source": [
        "train_accuracy_lst=[]\n",
        "test_accuracy_lst=[]\n",
        "run_models =[LogisticRegression(penalty='none'), LogisticRegression(C=1, penalty='l1', solver='liblinear'), LogisticRegression(penalty='l2'),LogisticRegression(C=1,penalty='elasticnet',solver='saga',l1_ratio= 0.5),\n",
        "            KNeighborsClassifier(n_neighbors=5), SVC(),DecisionTreeClassifier(),RandomForestClassifier(bootstrap=False),AdaBoostClassifier(),GradientBoostingClassifier()]\n",
        "\n",
        "model_names =['LogisticRegression','lasso','Ridge', 'Elasticnet', 'KNN Calssifier',\n",
        "         'SupportVectorCalssifier', 'DecisionTreeClassifier', 'RandomForestClassifier','AdaBoostCalssifier','GradientBootClassifier']"
      ],
      "metadata": {
        "id": "DGURg5xf4QoP"
      },
      "execution_count": null,
      "outputs": []
    },
    {
      "cell_type": "code",
      "source": [
        "for model in run_models:\n",
        "  train_accuracy, test_accuracy= model_fit(model,X_train,X_test,y_train,y_test)\n",
        "  train_accuracy_lst.append(train_accuracy)\n",
        "  test_accuracy_lst.append(test_accuracy)"
      ],
      "metadata": {
        "colab": {
          "base_uri": "https://localhost:8080/"
        },
        "id": "F15G_eWe4QmA",
        "outputId": "01025bc9-a5db-4cdc-f66e-3ba3f79d084d"
      },
      "execution_count": null,
      "outputs": [
        {
          "output_type": "stream",
          "name": "stdout",
          "text": [
            "\n",
            "LogisticRegression(penalty='none')\n",
            "Train_Accuracy : 0.8672199170124482\n",
            "Test_Accuracy : 0.8688524590163934\n",
            "\n",
            "LogisticRegression(C=1, penalty='l1', solver='liblinear')\n",
            "Train_Accuracy : 0.8672199170124482\n",
            "Test_Accuracy : 0.8360655737704918\n",
            "\n",
            "LogisticRegression()\n",
            "Train_Accuracy : 0.8755186721991701\n",
            "Test_Accuracy : 0.8524590163934426\n",
            "\n",
            "LogisticRegression(C=1, l1_ratio=0.5, penalty='elasticnet', solver='saga')\n",
            "Train_Accuracy : 0.7053941908713693\n",
            "Test_Accuracy : 0.7213114754098361\n",
            "\n",
            "KNeighborsClassifier()\n",
            "Train_Accuracy : 0.7593360995850622\n",
            "Test_Accuracy : 0.6557377049180327\n",
            "\n",
            "SVC()\n",
            "Train_Accuracy : 0.6514522821576764\n",
            "Test_Accuracy : 0.7049180327868853\n",
            "\n",
            "DecisionTreeClassifier()\n",
            "Train_Accuracy : 1.0\n",
            "Test_Accuracy : 0.7868852459016393\n",
            "\n",
            "RandomForestClassifier(bootstrap=False)\n",
            "Train_Accuracy : 1.0\n",
            "Test_Accuracy : 0.8688524590163934\n",
            "\n",
            "AdaBoostClassifier()\n",
            "Train_Accuracy : 0.9087136929460581\n",
            "Test_Accuracy : 0.7868852459016393\n",
            "\n",
            "GradientBoostingClassifier()\n",
            "Train_Accuracy : 0.995850622406639\n",
            "Test_Accuracy : 0.8524590163934426\n"
          ]
        }
      ]
    },
    {
      "cell_type": "code",
      "source": [
        "df = pd.DataFrame(list(zip(model_names,train_accuracy_lst,test_accuracy_lst)),columns=['model_names','TrainAccuracyScore','TestAccuracyScore'])\n",
        "df"
      ],
      "metadata": {
        "colab": {
          "base_uri": "https://localhost:8080/",
          "height": 363
        },
        "id": "Lr5CVfSt4Qj4",
        "outputId": "aece678b-33f9-4218-93ff-0bb2388dcb91"
      },
      "execution_count": null,
      "outputs": [
        {
          "output_type": "execute_result",
          "data": {
            "text/plain": [
              "               model_names  TrainAccuracyScore  TestAccuracyScore\n",
              "0       LogisticRegression            0.867220           0.868852\n",
              "1                    lasso            0.867220           0.836066\n",
              "2                    Ridge            0.875519           0.852459\n",
              "3               Elasticnet            0.705394           0.721311\n",
              "4           KNN Calssifier            0.759336           0.655738\n",
              "5  SupportVectorCalssifier            0.651452           0.704918\n",
              "6   DecisionTreeClassifier            1.000000           0.786885\n",
              "7   RandomForestClassifier            1.000000           0.868852\n",
              "8       AdaBoostCalssifier            0.908714           0.786885\n",
              "9   GradientBootClassifier            0.995851           0.852459"
            ],
            "text/html": [
              "\n",
              "  <div id=\"df-b164f6b8-e063-44dd-885e-53b8fa7884b4\">\n",
              "    <div class=\"colab-df-container\">\n",
              "      <div>\n",
              "<style scoped>\n",
              "    .dataframe tbody tr th:only-of-type {\n",
              "        vertical-align: middle;\n",
              "    }\n",
              "\n",
              "    .dataframe tbody tr th {\n",
              "        vertical-align: top;\n",
              "    }\n",
              "\n",
              "    .dataframe thead th {\n",
              "        text-align: right;\n",
              "    }\n",
              "</style>\n",
              "<table border=\"1\" class=\"dataframe\">\n",
              "  <thead>\n",
              "    <tr style=\"text-align: right;\">\n",
              "      <th></th>\n",
              "      <th>model_names</th>\n",
              "      <th>TrainAccuracyScore</th>\n",
              "      <th>TestAccuracyScore</th>\n",
              "    </tr>\n",
              "  </thead>\n",
              "  <tbody>\n",
              "    <tr>\n",
              "      <th>0</th>\n",
              "      <td>LogisticRegression</td>\n",
              "      <td>0.867220</td>\n",
              "      <td>0.868852</td>\n",
              "    </tr>\n",
              "    <tr>\n",
              "      <th>1</th>\n",
              "      <td>lasso</td>\n",
              "      <td>0.867220</td>\n",
              "      <td>0.836066</td>\n",
              "    </tr>\n",
              "    <tr>\n",
              "      <th>2</th>\n",
              "      <td>Ridge</td>\n",
              "      <td>0.875519</td>\n",
              "      <td>0.852459</td>\n",
              "    </tr>\n",
              "    <tr>\n",
              "      <th>3</th>\n",
              "      <td>Elasticnet</td>\n",
              "      <td>0.705394</td>\n",
              "      <td>0.721311</td>\n",
              "    </tr>\n",
              "    <tr>\n",
              "      <th>4</th>\n",
              "      <td>KNN Calssifier</td>\n",
              "      <td>0.759336</td>\n",
              "      <td>0.655738</td>\n",
              "    </tr>\n",
              "    <tr>\n",
              "      <th>5</th>\n",
              "      <td>SupportVectorCalssifier</td>\n",
              "      <td>0.651452</td>\n",
              "      <td>0.704918</td>\n",
              "    </tr>\n",
              "    <tr>\n",
              "      <th>6</th>\n",
              "      <td>DecisionTreeClassifier</td>\n",
              "      <td>1.000000</td>\n",
              "      <td>0.786885</td>\n",
              "    </tr>\n",
              "    <tr>\n",
              "      <th>7</th>\n",
              "      <td>RandomForestClassifier</td>\n",
              "      <td>1.000000</td>\n",
              "      <td>0.868852</td>\n",
              "    </tr>\n",
              "    <tr>\n",
              "      <th>8</th>\n",
              "      <td>AdaBoostCalssifier</td>\n",
              "      <td>0.908714</td>\n",
              "      <td>0.786885</td>\n",
              "    </tr>\n",
              "    <tr>\n",
              "      <th>9</th>\n",
              "      <td>GradientBootClassifier</td>\n",
              "      <td>0.995851</td>\n",
              "      <td>0.852459</td>\n",
              "    </tr>\n",
              "  </tbody>\n",
              "</table>\n",
              "</div>\n",
              "      <button class=\"colab-df-convert\" onclick=\"convertToInteractive('df-b164f6b8-e063-44dd-885e-53b8fa7884b4')\"\n",
              "              title=\"Convert this dataframe to an interactive table.\"\n",
              "              style=\"display:none;\">\n",
              "        \n",
              "  <svg xmlns=\"http://www.w3.org/2000/svg\" height=\"24px\"viewBox=\"0 0 24 24\"\n",
              "       width=\"24px\">\n",
              "    <path d=\"M0 0h24v24H0V0z\" fill=\"none\"/>\n",
              "    <path d=\"M18.56 5.44l.94 2.06.94-2.06 2.06-.94-2.06-.94-.94-2.06-.94 2.06-2.06.94zm-11 1L8.5 8.5l.94-2.06 2.06-.94-2.06-.94L8.5 2.5l-.94 2.06-2.06.94zm10 10l.94 2.06.94-2.06 2.06-.94-2.06-.94-.94-2.06-.94 2.06-2.06.94z\"/><path d=\"M17.41 7.96l-1.37-1.37c-.4-.4-.92-.59-1.43-.59-.52 0-1.04.2-1.43.59L10.3 9.45l-7.72 7.72c-.78.78-.78 2.05 0 2.83L4 21.41c.39.39.9.59 1.41.59.51 0 1.02-.2 1.41-.59l7.78-7.78 2.81-2.81c.8-.78.8-2.07 0-2.86zM5.41 20L4 18.59l7.72-7.72 1.47 1.35L5.41 20z\"/>\n",
              "  </svg>\n",
              "      </button>\n",
              "      \n",
              "  <style>\n",
              "    .colab-df-container {\n",
              "      display:flex;\n",
              "      flex-wrap:wrap;\n",
              "      gap: 12px;\n",
              "    }\n",
              "\n",
              "    .colab-df-convert {\n",
              "      background-color: #E8F0FE;\n",
              "      border: none;\n",
              "      border-radius: 50%;\n",
              "      cursor: pointer;\n",
              "      display: none;\n",
              "      fill: #1967D2;\n",
              "      height: 32px;\n",
              "      padding: 0 0 0 0;\n",
              "      width: 32px;\n",
              "    }\n",
              "\n",
              "    .colab-df-convert:hover {\n",
              "      background-color: #E2EBFA;\n",
              "      box-shadow: 0px 1px 2px rgba(60, 64, 67, 0.3), 0px 1px 3px 1px rgba(60, 64, 67, 0.15);\n",
              "      fill: #174EA6;\n",
              "    }\n",
              "\n",
              "    [theme=dark] .colab-df-convert {\n",
              "      background-color: #3B4455;\n",
              "      fill: #D2E3FC;\n",
              "    }\n",
              "\n",
              "    [theme=dark] .colab-df-convert:hover {\n",
              "      background-color: #434B5C;\n",
              "      box-shadow: 0px 1px 3px 1px rgba(0, 0, 0, 0.15);\n",
              "      filter: drop-shadow(0px 1px 2px rgba(0, 0, 0, 0.3));\n",
              "      fill: #FFFFFF;\n",
              "    }\n",
              "  </style>\n",
              "\n",
              "      <script>\n",
              "        const buttonEl =\n",
              "          document.querySelector('#df-b164f6b8-e063-44dd-885e-53b8fa7884b4 button.colab-df-convert');\n",
              "        buttonEl.style.display =\n",
              "          google.colab.kernel.accessAllowed ? 'block' : 'none';\n",
              "\n",
              "        async function convertToInteractive(key) {\n",
              "          const element = document.querySelector('#df-b164f6b8-e063-44dd-885e-53b8fa7884b4');\n",
              "          const dataTable =\n",
              "            await google.colab.kernel.invokeFunction('convertToInteractive',\n",
              "                                                     [key], {});\n",
              "          if (!dataTable) return;\n",
              "\n",
              "          const docLinkHtml = 'Like what you see? Visit the ' +\n",
              "            '<a target=\"_blank\" href=https://colab.research.google.com/notebooks/data_table.ipynb>data table notebook</a>'\n",
              "            + ' to learn more about interactive tables.';\n",
              "          element.innerHTML = '';\n",
              "          dataTable['output_type'] = 'display_data';\n",
              "          await google.colab.output.renderOutput(dataTable, element);\n",
              "          const docLink = document.createElement('div');\n",
              "          docLink.innerHTML = docLinkHtml;\n",
              "          element.appendChild(docLink);\n",
              "        }\n",
              "      </script>\n",
              "    </div>\n",
              "  </div>\n",
              "  "
            ]
          },
          "metadata": {},
          "execution_count": 32
        }
      ]
    },
    {
      "cell_type": "code",
      "source": [
        "df.plot(kind='bar')"
      ],
      "metadata": {
        "colab": {
          "base_uri": "https://localhost:8080/",
          "height": 280
        },
        "id": "rDyih5kv4QfD",
        "outputId": "05a62254-e968-44cf-efce-ad4731dbf02d"
      },
      "execution_count": null,
      "outputs": [
        {
          "output_type": "execute_result",
          "data": {
            "text/plain": [
              "<matplotlib.axes._subplots.AxesSubplot at 0x7f4dad2fc790>"
            ]
          },
          "metadata": {},
          "execution_count": 33
        },
        {
          "output_type": "display_data",
          "data": {
            "text/plain": [
              "<Figure size 432x288 with 1 Axes>"
            ],
            "image/png": "[encoded data removed]"
          },
          "metadata": {
            "needs_background": "light"
          }
        }
      ]
    },
    {
      "cell_type": "markdown",
      "source": [
        "##**Hyper Parameter Tuning:**"
      ],
      "metadata": {
        "id": "XN4A4xiEIjmy"
      }
    },
    {
      "cell_type": "markdown",
      "source": [
        "When i say hyper parameter tuning for Logistic Regression what all parameters that we can tune lets lists down\n",
        "\n",
        "- C"
      ],
      "metadata": {
        "id": "8D3mbdQTIr8v"
      }
    },
    {
      "cell_type": "markdown",
      "source": [
        "####Manual way of doing the tuning for C Parameter:"
      ],
      "metadata": {
        "id": "aVZI3op_QlQK"
      }
    },
    {
      "cell_type": "code",
      "source": [
        "c = [1000,100,10,5,4,3,2,1,0.9,0.8,0.7,0.6,0.5,0.4,0.3,0.2,0.1,0.001,0.0001]"
      ],
      "metadata": {
        "id": "5E_QcjaaInbx"
      },
      "execution_count": null,
      "outputs": []
    },
    {
      "cell_type": "code",
      "source": [
        "train_accuracy_lst=[]\n",
        "test_accuracy_lst=[]\n",
        "\n",
        "for i in c:\n",
        "  model = LogisticRegression(penalty='l2',C=i)\n",
        "  train_accuracy, test_accuracy= model_fit(model,X_train,X_test,y_train,y_test)\n",
        "  train_accuracy_lst.append(train_accuracy)\n",
        "  test_accuracy_lst.append(test_accuracy)"
      ],
      "metadata": {
        "colab": {
          "base_uri": "https://localhost:8080/"
        },
        "id": "xnxt_OVBInZS",
        "outputId": "c9de6391-e443-4f8d-8e3e-2451dd144dae"
      },
      "execution_count": null,
      "outputs": [
        {
          "output_type": "stream",
          "name": "stdout",
          "text": [
            "\n",
            "LogisticRegression(C=1000)\n",
            "Train_Accuracy : 0.8589211618257261\n",
            "Test_Accuracy : 0.8688524590163934\n",
            "\n",
            "LogisticRegression(C=100)\n",
            "Train_Accuracy : 0.8630705394190872\n",
            "Test_Accuracy : 0.8524590163934426\n",
            "\n",
            "LogisticRegression(C=10)\n",
            "Train_Accuracy : 0.8589211618257261\n",
            "Test_Accuracy : 0.8688524590163934\n",
            "\n",
            "LogisticRegression(C=5)\n",
            "Train_Accuracy : 0.8630705394190872\n",
            "Test_Accuracy : 0.8688524590163934\n",
            "\n",
            "LogisticRegression(C=4)\n",
            "Train_Accuracy : 0.8713692946058091\n",
            "Test_Accuracy : 0.8524590163934426\n",
            "\n",
            "LogisticRegression(C=3)\n",
            "Train_Accuracy : 0.8547717842323651\n",
            "Test_Accuracy : 0.8688524590163934\n",
            "\n",
            "LogisticRegression(C=2)\n",
            "Train_Accuracy : 0.8630705394190872\n",
            "Test_Accuracy : 0.8688524590163934\n",
            "\n",
            "LogisticRegression(C=1)\n",
            "Train_Accuracy : 0.8755186721991701\n",
            "Test_Accuracy : 0.8524590163934426\n",
            "\n",
            "LogisticRegression(C=0.9)\n",
            "Train_Accuracy : 0.8755186721991701\n",
            "Test_Accuracy : 0.8524590163934426\n",
            "\n",
            "LogisticRegression(C=0.8)\n",
            "Train_Accuracy : 0.8713692946058091\n",
            "Test_Accuracy : 0.8524590163934426\n",
            "\n",
            "LogisticRegression(C=0.7)\n",
            "Train_Accuracy : 0.8713692946058091\n",
            "Test_Accuracy : 0.8360655737704918\n",
            "\n",
            "LogisticRegression(C=0.6)\n",
            "Train_Accuracy : 0.8755186721991701\n",
            "Test_Accuracy : 0.8524590163934426\n",
            "\n",
            "LogisticRegression(C=0.5)\n",
            "Train_Accuracy : 0.8672199170124482\n",
            "Test_Accuracy : 0.8524590163934426\n",
            "\n",
            "LogisticRegression(C=0.4)\n",
            "Train_Accuracy : 0.8672199170124482\n",
            "Test_Accuracy : 0.8688524590163934\n",
            "\n",
            "LogisticRegression(C=0.3)\n",
            "Train_Accuracy : 0.8672199170124482\n",
            "Test_Accuracy : 0.8524590163934426\n",
            "\n",
            "LogisticRegression(C=0.2)\n",
            "Train_Accuracy : 0.8630705394190872\n",
            "Test_Accuracy : 0.8688524590163934\n",
            "\n",
            "LogisticRegression(C=0.1)\n",
            "Train_Accuracy : 0.8589211618257261\n",
            "Test_Accuracy : 0.8524590163934426\n",
            "\n",
            "LogisticRegression(C=0.001)\n",
            "Train_Accuracy : 0.7261410788381742\n",
            "Test_Accuracy : 0.7377049180327869\n",
            "\n",
            "LogisticRegression(C=0.0001)\n",
            "Train_Accuracy : 0.6970954356846473\n",
            "Test_Accuracy : 0.7377049180327869\n"
          ]
        }
      ]
    },
    {
      "cell_type": "code",
      "source": [
        "df = pd.DataFrame(list(zip(c,train_accuracy_lst,test_accuracy_lst)),columns=['C_Param_Value','TrainAccuracyScore','TestAccuracyScore'])\n",
        "df"
      ],
      "metadata": {
        "colab": {
          "base_uri": "https://localhost:8080/",
          "height": 645
        },
        "id": "rfB4GRS0InWx",
        "outputId": "fca51e3f-d8bf-499b-a545-e87b2accaec7"
      },
      "execution_count": null,
      "outputs": [
        {
          "output_type": "execute_result",
          "data": {
            "text/plain": [
              "    C_Param_Value  TrainAccuracyScore  TestAccuracyScore\n",
              "0       1000.0000            0.858921           0.868852\n",
              "1        100.0000            0.863071           0.852459\n",
              "2         10.0000            0.858921           0.868852\n",
              "3          5.0000            0.863071           0.868852\n",
              "4          4.0000            0.871369           0.852459\n",
              "5          3.0000            0.854772           0.868852\n",
              "6          2.0000            0.863071           0.868852\n",
              "7          1.0000            0.875519           0.852459\n",
              "8          0.9000            0.875519           0.852459\n",
              "9          0.8000            0.871369           0.852459\n",
              "10         0.7000            0.871369           0.836066\n",
              "11         0.6000            0.875519           0.852459\n",
              "12         0.5000            0.867220           0.852459\n",
              "13         0.4000            0.867220           0.868852\n",
              "14         0.3000            0.867220           0.852459\n",
              "15         0.2000            0.863071           0.868852\n",
              "16         0.1000            0.858921           0.852459\n",
              "17         0.0010            0.726141           0.737705\n",
              "18         0.0001            0.697095           0.737705"
            ],
            "text/html": [
              "\n",
              "  <div id=\"df-6753408a-650b-4f17-b02f-2a123520a4fc\">\n",
              "    <div class=\"colab-df-container\">\n",
              "      <div>\n",
              "<style scoped>\n",
              "    .dataframe tbody tr th:only-of-type {\n",
              "        vertical-align: middle;\n",
              "    }\n",
              "\n",
              "    .dataframe tbody tr th {\n",
              "        vertical-align: top;\n",
              "    }\n",
              "\n",
              "    .dataframe thead th {\n",
              "        text-align: right;\n",
              "    }\n",
              "</style>\n",
              "<table border=\"1\" class=\"dataframe\">\n",
              "  <thead>\n",
              "    <tr style=\"text-align: right;\">\n",
              "      <th></th>\n",
              "      <th>C_Param_Value</th>\n",
              "      <th>TrainAccuracyScore</th>\n",
              "      <th>TestAccuracyScore</th>\n",
              "    </tr>\n",
              "  </thead>\n",
              "  <tbody>\n",
              "    <tr>\n",
              "      <th>0</th>\n",
              "      <td>1000.0000</td>\n",
              "      <td>0.858921</td>\n",
              "      <td>0.868852</td>\n",
              "    </tr>\n",
              "    <tr>\n",
              "      <th>1</th>\n",
              "      <td>100.0000</td>\n",
              "      <td>0.863071</td>\n",
              "      <td>0.852459</td>\n",
              "    </tr>\n",
              "    <tr>\n",
              "      <th>2</th>\n",
              "      <td>10.0000</td>\n",
              "      <td>0.858921</td>\n",
              "      <td>0.868852</td>\n",
              "    </tr>\n",
              "    <tr>\n",
              "      <th>3</th>\n",
              "      <td>5.0000</td>\n",
              "      <td>0.863071</td>\n",
              "      <td>0.868852</td>\n",
              "    </tr>\n",
              "    <tr>\n",
              "      <th>4</th>\n",
              "      <td>4.0000</td>\n",
              "      <td>0.871369</td>\n",
              "      <td>0.852459</td>\n",
              "    </tr>\n",
              "    <tr>\n",
              "      <th>5</th>\n",
              "      <td>3.0000</td>\n",
              "      <td>0.854772</td>\n",
              "      <td>0.868852</td>\n",
              "    </tr>\n",
              "    <tr>\n",
              "      <th>6</th>\n",
              "      <td>2.0000</td>\n",
              "      <td>0.863071</td>\n",
              "      <td>0.868852</td>\n",
              "    </tr>\n",
              "    <tr>\n",
              "      <th>7</th>\n",
              "      <td>1.0000</td>\n",
              "      <td>0.875519</td>\n",
              "      <td>0.852459</td>\n",
              "    </tr>\n",
              "    <tr>\n",
              "      <th>8</th>\n",
              "      <td>0.9000</td>\n",
              "      <td>0.875519</td>\n",
              "      <td>0.852459</td>\n",
              "    </tr>\n",
              "    <tr>\n",
              "      <th>9</th>\n",
              "      <td>0.8000</td>\n",
              "      <td>0.871369</td>\n",
              "      <td>0.852459</td>\n",
              "    </tr>\n",
              "    <tr>\n",
              "      <th>10</th>\n",
              "      <td>0.7000</td>\n",
              "      <td>0.871369</td>\n",
              "      <td>0.836066</td>\n",
              "    </tr>\n",
              "    <tr>\n",
              "      <th>11</th>\n",
              "      <td>0.6000</td>\n",
              "      <td>0.875519</td>\n",
              "      <td>0.852459</td>\n",
              "    </tr>\n",
              "    <tr>\n",
              "      <th>12</th>\n",
              "      <td>0.5000</td>\n",
              "      <td>0.867220</td>\n",
              "      <td>0.852459</td>\n",
              "    </tr>\n",
              "    <tr>\n",
              "      <th>13</th>\n",
              "      <td>0.4000</td>\n",
              "      <td>0.867220</td>\n",
              "      <td>0.868852</td>\n",
              "    </tr>\n",
              "    <tr>\n",
              "      <th>14</th>\n",
              "      <td>0.3000</td>\n",
              "      <td>0.867220</td>\n",
              "      <td>0.852459</td>\n",
              "    </tr>\n",
              "    <tr>\n",
              "      <th>15</th>\n",
              "      <td>0.2000</td>\n",
              "      <td>0.863071</td>\n",
              "      <td>0.868852</td>\n",
              "    </tr>\n",
              "    <tr>\n",
              "      <th>16</th>\n",
              "      <td>0.1000</td>\n",
              "      <td>0.858921</td>\n",
              "      <td>0.852459</td>\n",
              "    </tr>\n",
              "    <tr>\n",
              "      <th>17</th>\n",
              "      <td>0.0010</td>\n",
              "      <td>0.726141</td>\n",
              "      <td>0.737705</td>\n",
              "    </tr>\n",
              "    <tr>\n",
              "      <th>18</th>\n",
              "      <td>0.0001</td>\n",
              "      <td>0.697095</td>\n",
              "      <td>0.737705</td>\n",
              "    </tr>\n",
              "  </tbody>\n",
              "</table>\n",
              "</div>\n",
              "      <button class=\"colab-df-convert\" onclick=\"convertToInteractive('df-6753408a-650b-4f17-b02f-2a123520a4fc')\"\n",
              "              title=\"Convert this dataframe to an interactive table.\"\n",
              "              style=\"display:none;\">\n",
              "        \n",
              "  <svg xmlns=\"http://www.w3.org/2000/svg\" height=\"24px\"viewBox=\"0 0 24 24\"\n",
              "       width=\"24px\">\n",
              "    <path d=\"M0 0h24v24H0V0z\" fill=\"none\"/>\n",
              "    <path d=\"M18.56 5.44l.94 2.06.94-2.06 2.06-.94-2.06-.94-.94-2.06-.94 2.06-2.06.94zm-11 1L8.5 8.5l.94-2.06 2.06-.94-2.06-.94L8.5 2.5l-.94 2.06-2.06.94zm10 10l.94 2.06.94-2.06 2.06-.94-2.06-.94-.94-2.06-.94 2.06-2.06.94z\"/><path d=\"M17.41 7.96l-1.37-1.37c-.4-.4-.92-.59-1.43-.59-.52 0-1.04.2-1.43.59L10.3 9.45l-7.72 7.72c-.78.78-.78 2.05 0 2.83L4 21.41c.39.39.9.59 1.41.59.51 0 1.02-.2 1.41-.59l7.78-7.78 2.81-2.81c.8-.78.8-2.07 0-2.86zM5.41 20L4 18.59l7.72-7.72 1.47 1.35L5.41 20z\"/>\n",
              "  </svg>\n",
              "      </button>\n",
              "      \n",
              "  <style>\n",
              "    .colab-df-container {\n",
              "      display:flex;\n",
              "      flex-wrap:wrap;\n",
              "      gap: 12px;\n",
              "    }\n",
              "\n",
              "    .colab-df-convert {\n",
              "      background-color: #E8F0FE;\n",
              "      border: none;\n",
              "      border-radius: 50%;\n",
              "      cursor: pointer;\n",
              "      display: none;\n",
              "      fill: #1967D2;\n",
              "      height: 32px;\n",
              "      padding: 0 0 0 0;\n",
              "      width: 32px;\n",
              "    }\n",
              "\n",
              "    .colab-df-convert:hover {\n",
              "      background-color: #E2EBFA;\n",
              "      box-shadow: 0px 1px 2px rgba(60, 64, 67, 0.3), 0px 1px 3px 1px rgba(60, 64, 67, 0.15);\n",
              "      fill: #174EA6;\n",
              "    }\n",
              "\n",
              "    [theme=dark] .colab-df-convert {\n",
              "      background-color: #3B4455;\n",
              "      fill: #D2E3FC;\n",
              "    }\n",
              "\n",
              "    [theme=dark] .colab-df-convert:hover {\n",
              "      background-color: #434B5C;\n",
              "      box-shadow: 0px 1px 3px 1px rgba(0, 0, 0, 0.15);\n",
              "      filter: drop-shadow(0px 1px 2px rgba(0, 0, 0, 0.3));\n",
              "      fill: #FFFFFF;\n",
              "    }\n",
              "  </style>\n",
              "\n",
              "      <script>\n",
              "        const buttonEl =\n",
              "          document.querySelector('#df-6753408a-650b-4f17-b02f-2a123520a4fc button.colab-df-convert');\n",
              "        buttonEl.style.display =\n",
              "          google.colab.kernel.accessAllowed ? 'block' : 'none';\n",
              "\n",
              "        async function convertToInteractive(key) {\n",
              "          const element = document.querySelector('#df-6753408a-650b-4f17-b02f-2a123520a4fc');\n",
              "          const dataTable =\n",
              "            await google.colab.kernel.invokeFunction('convertToInteractive',\n",
              "                                                     [key], {});\n",
              "          if (!dataTable) return;\n",
              "\n",
              "          const docLinkHtml = 'Like what you see? Visit the ' +\n",
              "            '<a target=\"_blank\" href=https://colab.research.google.com/notebooks/data_table.ipynb>data table notebook</a>'\n",
              "            + ' to learn more about interactive tables.';\n",
              "          element.innerHTML = '';\n",
              "          dataTable['output_type'] = 'display_data';\n",
              "          await google.colab.output.renderOutput(dataTable, element);\n",
              "          const docLink = document.createElement('div');\n",
              "          docLink.innerHTML = docLinkHtml;\n",
              "          element.appendChild(docLink);\n",
              "        }\n",
              "      </script>\n",
              "    </div>\n",
              "  </div>\n",
              "  "
            ]
          },
          "metadata": {},
          "execution_count": 36
        }
      ]
    },
    {
      "cell_type": "markdown",
      "source": [
        "###**Efficient Way of tuning the parameters using GridSearchCV:**\n",
        "\n",
        "GridSearchCV  will do an exhaustive search over specified prameter values for an extimator:"
      ],
      "metadata": {
        "id": "TRryQk_wQtcp"
      }
    },
    {
      "cell_type": "markdown",
      "source": [
        "####**Tuning Logistic Regression Model:**"
      ],
      "metadata": {
        "id": "MEASJbDRkVlE"
      }
    },
    {
      "cell_type": "code",
      "source": [
        "model_grid = LogisticRegression()"
      ],
      "metadata": {
        "id": "tV-Nsi9CVu1E"
      },
      "execution_count": null,
      "outputs": []
    },
    {
      "cell_type": "code",
      "source": [
        "parameters={'C':np.arange(0.1,10,0.1),\n",
        "            'solver':['newton-cg','sag','lbfgs']}"
      ],
      "metadata": {
        "id": "dzzFpXgCInex"
      },
      "execution_count": null,
      "outputs": []
    },
    {
      "cell_type": "code",
      "source": [
        "#Not only like above default values we can also pass a range of values like below\n",
        "np.arange(0.1,10,0.1)\n",
        "# And you can pass this range as the parameter as well"
      ],
      "metadata": {
        "colab": {
          "base_uri": "https://localhost:8080/"
        },
        "id": "fAr2DdQCY_f3",
        "outputId": "b4de54ba-a5d1-4aec-d185-30b7e12f4a5d"
      },
      "execution_count": null,
      "outputs": [
        {
          "output_type": "execute_result",
          "data": {
            "text/plain": [
              "array([0.1, 0.2, 0.3, 0.4, 0.5, 0.6, 0.7, 0.8, 0.9, 1. , 1.1, 1.2, 1.3,\n",
              "       1.4, 1.5, 1.6, 1.7, 1.8, 1.9, 2. , 2.1, 2.2, 2.3, 2.4, 2.5, 2.6,\n",
              "       2.7, 2.8, 2.9, 3. , 3.1, 3.2, 3.3, 3.4, 3.5, 3.6, 3.7, 3.8, 3.9,\n",
              "       4. , 4.1, 4.2, 4.3, 4.4, 4.5, 4.6, 4.7, 4.8, 4.9, 5. , 5.1, 5.2,\n",
              "       5.3, 5.4, 5.5, 5.6, 5.7, 5.8, 5.9, 6. , 6.1, 6.2, 6.3, 6.4, 6.5,\n",
              "       6.6, 6.7, 6.8, 6.9, 7. , 7.1, 7.2, 7.3, 7.4, 7.5, 7.6, 7.7, 7.8,\n",
              "       7.9, 8. , 8.1, 8.2, 8.3, 8.4, 8.5, 8.6, 8.7, 8.8, 8.9, 9. , 9.1,\n",
              "       9.2, 9.3, 9.4, 9.5, 9.6, 9.7, 9.8, 9.9])"
            ]
          },
          "metadata": {},
          "execution_count": 39
        }
      ]
    },
    {
      "cell_type": "code",
      "source": [
        "grid= GridSearchCV(model_grid,parameters, scoring ='accuracy',cv =10)\n",
        "#if you mention CV it will do a cross validation for k folds here k=10 folds\n",
        "#It will take train data and create 10 bins/buckets and then put 0.1 as the C value and run 10 experiment ,then 0.2 next 10 experiments and so on..\n",
        "# For each of the C value it will experiment 10 different combination of train and test data by creating 10 bins/buckets.And gives the result."
      ],
      "metadata": {
        "id": "0TeBcSnmQ1V2"
      },
      "execution_count": null,
      "outputs": []
    },
    {
      "cell_type": "code",
      "source": [
        "grid.fit(X_train,y_train)"
      ],
      "metadata": {
        "colab": {
          "base_uri": "https://localhost:8080/"
        },
        "id": "UIwWTYPwQ1Sj",
        "outputId": "ff1863d1-8cf2-494a-8684-b110d341a838"
      },
      "execution_count": null,
      "outputs": [
        {
          "output_type": "execute_result",
          "data": {
            "text/plain": [
              "GridSearchCV(cv=10, estimator=LogisticRegression(),\n",
              "             param_grid={'C': array([0.1, 0.2, 0.3, 0.4, 0.5, 0.6, 0.7, 0.8, 0.9, 1. , 1.1, 1.2, 1.3,\n",
              "       1.4, 1.5, 1.6, 1.7, 1.8, 1.9, 2. , 2.1, 2.2, 2.3, 2.4, 2.5, 2.6,\n",
              "       2.7, 2.8, 2.9, 3. , 3.1, 3.2, 3.3, 3.4, 3.5, 3.6, 3.7, 3.8, 3.9,\n",
              "       4. , 4.1, 4.2, 4.3, 4.4, 4.5, 4.6, 4.7, 4.8, 4.9, 5. , 5.1, 5.2,\n",
              "       5.3, 5.4, 5.5, 5.6, 5.7, 5.8, 5.9, 6. , 6.1, 6.2, 6.3, 6.4, 6.5,\n",
              "       6.6, 6.7, 6.8, 6.9, 7. , 7.1, 7.2, 7.3, 7.4, 7.5, 7.6, 7.7, 7.8,\n",
              "       7.9, 8. , 8.1, 8.2, 8.3, 8.4, 8.5, 8.6, 8.7, 8.8, 8.9, 9. , 9.1,\n",
              "       9.2, 9.3, 9.4, 9.5, 9.6, 9.7, 9.8, 9.9]),\n",
              "                         'solver': ['newton-cg', 'sag', 'lbfgs']},\n",
              "             scoring='accuracy')"
            ]
          },
          "metadata": {},
          "execution_count": 41
        }
      ]
    },
    {
      "cell_type": "code",
      "source": [
        "grid.best_params_"
      ],
      "metadata": {
        "colab": {
          "base_uri": "https://localhost:8080/"
        },
        "id": "668zGY7PQ1QU",
        "outputId": "38f74e1d-ac42-4abc-8b40-c6a7cd0b0d95"
      },
      "execution_count": null,
      "outputs": [
        {
          "output_type": "execute_result",
          "data": {
            "text/plain": [
              "{'C': 4.7, 'solver': 'lbfgs'}"
            ]
          },
          "metadata": {},
          "execution_count": 42
        }
      ]
    },
    {
      "cell_type": "code",
      "source": [
        "grid.best_score_"
      ],
      "metadata": {
        "colab": {
          "base_uri": "https://localhost:8080/"
        },
        "id": "7GoKigbpQ1N_",
        "outputId": "1d9c96e1-7ed9-499c-d949-ad444f4a8801"
      },
      "execution_count": null,
      "outputs": [
        {
          "output_type": "execute_result",
          "data": {
            "text/plain": [
              "0.8548333333333332"
            ]
          },
          "metadata": {},
          "execution_count": 43
        }
      ]
    },
    {
      "cell_type": "code",
      "source": [
        "grid.best_estimator_"
      ],
      "metadata": {
        "colab": {
          "base_uri": "https://localhost:8080/"
        },
        "id": "Q-MRRDgKQ1Lt",
        "outputId": "bdd093be-dfae-4075-800f-2393547c0ab1"
      },
      "execution_count": null,
      "outputs": [
        {
          "output_type": "execute_result",
          "data": {
            "text/plain": [
              "LogisticRegression(C=4.7)"
            ]
          },
          "metadata": {},
          "execution_count": 44
        }
      ]
    },
    {
      "cell_type": "code",
      "source": [
        "grid.best_estimator_.predict(X_test)"
      ],
      "metadata": {
        "colab": {
          "base_uri": "https://localhost:8080/"
        },
        "id": "QT_KL_L0e-DQ",
        "outputId": "a66ce9f1-901c-4f6b-a0da-1731235e25f8"
      },
      "execution_count": null,
      "outputs": [
        {
          "output_type": "execute_result",
          "data": {
            "text/plain": [
              "array([0, 0, 1, 0, 1, 1, 1, 0, 0, 0, 1, 0, 1, 0, 1, 1, 1, 0, 0, 0, 1, 0,\n",
              "       0, 1, 1, 1, 0, 1, 0, 1, 0, 0, 1, 0, 1, 0, 1, 1, 1, 1, 1, 1, 1, 1,\n",
              "       1, 0, 1, 1, 0, 0, 0, 0, 1, 1, 0, 0, 0, 1, 0, 1, 1])"
            ]
          },
          "metadata": {},
          "execution_count": 45
        }
      ]
    },
    {
      "cell_type": "code",
      "source": [
        "accuracy_score(y_test,grid.best_estimator_.predict(X_test))"
      ],
      "metadata": {
        "colab": {
          "base_uri": "https://localhost:8080/"
        },
        "id": "rNqzhBGae2uo",
        "outputId": "38d5073e-4ed1-4ab7-fb9b-1a831044cffa"
      },
      "execution_count": null,
      "outputs": [
        {
          "output_type": "execute_result",
          "data": {
            "text/plain": [
              "0.8524590163934426"
            ]
          },
          "metadata": {},
          "execution_count": 46
        }
      ]
    },
    {
      "cell_type": "markdown",
      "source": [
        "####**Tuning Random Forest Algorithm:**"
      ],
      "metadata": {
        "id": "gK1h_Zn9khGY"
      }
    },
    {
      "cell_type": "code",
      "source": [
        "model_grid = RandomForestClassifier()"
      ],
      "metadata": {
        "id": "dlkUUvTxkwYI"
      },
      "execution_count": null,
      "outputs": []
    },
    {
      "cell_type": "code",
      "source": [
        "np.arange(10,1000,10)"
      ],
      "metadata": {
        "colab": {
          "base_uri": "https://localhost:8080/"
        },
        "id": "qqdx9l8xlYiI",
        "outputId": "f6bb0a9c-d9b8-4043-e218-aceeb0c3af07"
      },
      "execution_count": null,
      "outputs": [
        {
          "output_type": "execute_result",
          "data": {
            "text/plain": [
              "array([ 10,  20,  30,  40,  50,  60,  70,  80,  90, 100, 110, 120, 130,\n",
              "       140, 150, 160, 170, 180, 190, 200, 210, 220, 230, 240, 250, 260,\n",
              "       270, 280, 290, 300, 310, 320, 330, 340, 350, 360, 370, 380, 390,\n",
              "       400, 410, 420, 430, 440, 450, 460, 470, 480, 490, 500, 510, 520,\n",
              "       530, 540, 550, 560, 570, 580, 590, 600, 610, 620, 630, 640, 650,\n",
              "       660, 670, 680, 690, 700, 710, 720, 730, 740, 750, 760, 770, 780,\n",
              "       790, 800, 810, 820, 830, 840, 850, 860, 870, 880, 890, 900, 910,\n",
              "       920, 930, 940, 950, 960, 970, 980, 990])"
            ]
          },
          "metadata": {},
          "execution_count": 48
        }
      ]
    },
    {
      "cell_type": "code",
      "source": [
        "\n",
        "parameters={'n_estimators':np.arange(350,450,10), 'max_depth':[1,2,3,4], 'max_features':[None,'auto','log2']}"
      ],
      "metadata": {
        "id": "G8N3vh-CkwU4"
      },
      "execution_count": null,
      "outputs": []
    },
    {
      "cell_type": "markdown",
      "source": [
        "Here verbose =3 will print the internal result whats happenning and all like its a log."
      ],
      "metadata": {
        "id": "FXra5qzen7dB"
      }
    },
    {
      "cell_type": "code",
      "source": [
        "#grid= GridSearchCV(model_grid,parameters, scoring ='accuracy',cv =3,n_jobs= -1, verbose =5)\n",
        "grid= RandomizedSearchCV(model_grid,parameters, scoring ='accuracy',cv =3,n_jobs= -1, verbose =5)\n",
        "#if you mention CV it will do a cross validation for k folds here k=10 folds\n",
        "#It will take train data and create 10 bins/buckets and then put 0.1 as the C value and run 10 experiment ,then 0.2 next 10 experiments and so on..\n",
        "# For each of the C value it will experiment 10 different combination of train and test data by creating 10 bins/buckets.And gives the result."
      ],
      "metadata": {
        "id": "5Ci79Hselupp"
      },
      "execution_count": null,
      "outputs": []
    },
    {
      "cell_type": "code",
      "source": [
        "grid.fit(X_train,y_train)"
      ],
      "metadata": {
        "colab": {
          "base_uri": "https://localhost:8080/"
        },
        "outputId": "55571daa-c55d-476f-ab59-3831430e176f",
        "id": "36P8xmbvlupr"
      },
      "execution_count": null,
      "outputs": [
        {
          "output_type": "stream",
          "name": "stdout",
          "text": [
            "Fitting 3 folds for each of 10 candidates, totalling 30 fits\n"
          ]
        },
        {
          "output_type": "execute_result",
          "data": {
            "text/plain": [
              "RandomizedSearchCV(cv=3, estimator=RandomForestClassifier(), n_jobs=-1,\n",
              "                   param_distributions={'max_depth': [1, 2, 3, 4],\n",
              "                                        'max_features': [None, 'auto', 'log2'],\n",
              "                                        'n_estimators': array([350, 360, 370, 380, 390, 400, 410, 420, 430, 440])},\n",
              "                   scoring='accuracy', verbose=5)"
            ]
          },
          "metadata": {},
          "execution_count": 51
        }
      ]
    },
    {
      "cell_type": "code",
      "source": [
        "grid.best_params_"
      ],
      "metadata": {
        "colab": {
          "base_uri": "https://localhost:8080/"
        },
        "outputId": "a7d539ee-430e-4c8e-e124-8401082b5ce1",
        "id": "WpVvKXTQlupt"
      },
      "execution_count": null,
      "outputs": [
        {
          "output_type": "execute_result",
          "data": {
            "text/plain": [
              "{'n_estimators': 350, 'max_features': 'log2', 'max_depth': 1}"
            ]
          },
          "metadata": {},
          "execution_count": 52
        }
      ]
    },
    {
      "cell_type": "code",
      "source": [
        "grid.best_score_"
      ],
      "metadata": {
        "colab": {
          "base_uri": "https://localhost:8080/"
        },
        "outputId": "69affa69-9727-4043-a951-41eaac256507",
        "id": "SWwTrrtRlupt"
      },
      "execution_count": null,
      "outputs": [
        {
          "output_type": "execute_result",
          "data": {
            "text/plain": [
              "0.8338991769547325"
            ]
          },
          "metadata": {},
          "execution_count": 53
        }
      ]
    },
    {
      "cell_type": "code",
      "source": [
        "\n",
        "grid.best_estimator_"
      ],
      "metadata": {
        "colab": {
          "base_uri": "https://localhost:8080/"
        },
        "outputId": "942cd81f-3a7f-4845-c99a-19a04abc3be3",
        "id": "9jV_70BSlupu"
      },
      "execution_count": null,
      "outputs": [
        {
          "output_type": "execute_result",
          "data": {
            "text/plain": [
              "RandomForestClassifier(max_depth=1, max_features='log2', n_estimators=350)"
            ]
          },
          "metadata": {},
          "execution_count": 54
        }
      ]
    },
    {
      "cell_type": "code",
      "source": [
        "\n",
        "grid.best_estimator_.predict(X_test)"
      ],
      "metadata": {
        "colab": {
          "base_uri": "https://localhost:8080/"
        },
        "outputId": "55cdd4aa-2702-4ff6-9c77-ffae599980b6",
        "id": "KCLocyChlupv"
      },
      "execution_count": null,
      "outputs": [
        {
          "output_type": "execute_result",
          "data": {
            "text/plain": [
              "array([0, 0, 1, 0, 1, 1, 1, 0, 0, 1, 1, 0, 1, 0, 1, 1, 1, 0, 0, 0, 1, 0,\n",
              "       1, 1, 1, 1, 0, 1, 0, 1, 0, 0, 1, 0, 1, 0, 1, 1, 1, 1, 1, 1, 1, 1,\n",
              "       1, 0, 1, 1, 0, 0, 0, 0, 1, 1, 0, 0, 0, 1, 0, 1, 1])"
            ]
          },
          "metadata": {},
          "execution_count": 55
        }
      ]
    },
    {
      "cell_type": "code",
      "source": [
        "accuracy_score(y_test,grid.best_estimator_.predict(X_test))"
      ],
      "metadata": {
        "colab": {
          "base_uri": "https://localhost:8080/"
        },
        "outputId": "f29fc949-7154-4892-cdf6-96ec6aac2b35",
        "id": "rVaxhr7clupw"
      },
      "execution_count": null,
      "outputs": [
        {
          "output_type": "execute_result",
          "data": {
            "text/plain": [
              "0.8524590163934426"
            ]
          },
          "metadata": {},
          "execution_count": 56
        }
      ]
    },
    {
      "cell_type": "code",
      "source": [
        "grid.n_features_in_"
      ],
      "metadata": {
        "colab": {
          "base_uri": "https://localhost:8080/"
        },
        "id": "EMEgX60mkwOo",
        "outputId": "8bcb6914-1273-4699-9ca1-99b1f54756c4"
      },
      "execution_count": null,
      "outputs": [
        {
          "output_type": "execute_result",
          "data": {
            "text/plain": [
              "13"
            ]
          },
          "metadata": {},
          "execution_count": 57
        }
      ]
    },
    {
      "cell_type": "markdown",
      "source": [
        "**Chossing top 8 or 10 features from random forest and tuning again for better result**"
      ],
      "metadata": {
        "id": "9FzTFMlMvTfA"
      }
    },
    {
      "cell_type": "code",
      "source": [
        "imp_percent= grid.best_estimator_.feature_importances_"
      ],
      "metadata": {
        "id": "gupxxANvkwMA"
      },
      "execution_count": null,
      "outputs": []
    },
    {
      "cell_type": "code",
      "source": [
        "imp_features= grid.feature_names_in_"
      ],
      "metadata": {
        "id": "0aHrYLstpMr0"
      },
      "execution_count": null,
      "outputs": []
    },
    {
      "cell_type": "code",
      "source": [
        "df= pd.Series(imp_percent, index =imp_features).sort_values(ascending=False)"
      ],
      "metadata": {
        "id": "totJwyH7tu-s"
      },
      "execution_count": null,
      "outputs": []
    },
    {
      "cell_type": "code",
      "source": [
        "df[:8]"
      ],
      "metadata": {
        "colab": {
          "base_uri": "https://localhost:8080/"
        },
        "id": "Zpoik6gmvCkT",
        "outputId": "382e6170-e1ce-447a-b248-4b2171507f0d"
      },
      "execution_count": null,
      "outputs": [
        {
          "output_type": "execute_result",
          "data": {
            "text/plain": [
              "thal       0.185144\n",
              "ca         0.178351\n",
              "cp         0.176943\n",
              "oldpeak    0.118170\n",
              "thalach    0.103971\n",
              "exang      0.083178\n",
              "slope      0.077682\n",
              "age        0.025814\n",
              "dtype: float64"
            ]
          },
          "metadata": {},
          "execution_count": 225
        }
      ]
    },
    {
      "cell_type": "code",
      "source": [
        "df[:8].index.values"
      ],
      "metadata": {
        "colab": {
          "base_uri": "https://localhost:8080/"
        },
        "id": "tGXRY_ZFsYMs",
        "outputId": "ea5dc45a-0d83-4ade-9222-e79ebe3a7ec8"
      },
      "execution_count": null,
      "outputs": [
        {
          "output_type": "execute_result",
          "data": {
            "text/plain": [
              "array(['thal', 'ca', 'cp', 'oldpeak', 'thalach', 'exang', 'slope', 'age'],\n",
              "      dtype=object)"
            ]
          },
          "metadata": {},
          "execution_count": 226
        }
      ]
    },
    {
      "cell_type": "code",
      "source": [
        "cols= df[:8].index.values"
      ],
      "metadata": {
        "id": "RkjEzZP6wAEL"
      },
      "execution_count": null,
      "outputs": []
    },
    {
      "cell_type": "code",
      "source": [
        "X_train[cols]"
      ],
      "metadata": {
        "colab": {
          "base_uri": "https://localhost:8080/",
          "height": 424
        },
        "id": "5yzQgIg-wHPB",
        "outputId": "4c89e9ee-4f7d-4968-cb00-08c5b9d75355"
      },
      "execution_count": null,
      "outputs": [
        {
          "output_type": "execute_result",
          "data": {
            "text/plain": [
              "     thal  ca  cp  oldpeak  thalach  exang  slope  age\n",
              "132     2   0   1      0.0      162      0      2   42\n",
              "203     3   0   2      1.6      150      1      1   68\n",
              "197     3   2   0      0.2      163      0      1   67\n",
              "75      2   0   1      1.4      161      0      1   55\n",
              "177     2   0   2      0.0      158      0      2   64\n",
              "..    ...  ..  ..      ...      ...    ...    ...  ...\n",
              "189     3   0   0      0.0      158      0      2   41\n",
              "71      3   1   2      0.0      154      1      2   51\n",
              "106     2   1   3      0.1      131      0      1   69\n",
              "271     2   2   3      2.6      145      0      1   61\n",
              "102     2   2   1      0.0      179      0      2   63\n",
              "\n",
              "[241 rows x 8 columns]"
            ],
            "text/html": [
              "\n",
              "  <div id=\"df-11cf16a7-6ab8-4ab2-a2ef-40cdf1ea5932\">\n",
              "    <div class=\"colab-df-container\">\n",
              "      <div>\n",
              "<style scoped>\n",
              "    .dataframe tbody tr th:only-of-type {\n",
              "        vertical-align: middle;\n",
              "    }\n",
              "\n",
              "    .dataframe tbody tr th {\n",
              "        vertical-align: top;\n",
              "    }\n",
              "\n",
              "    .dataframe thead th {\n",
              "        text-align: right;\n",
              "    }\n",
              "</style>\n",
              "<table border=\"1\" class=\"dataframe\">\n",
              "  <thead>\n",
              "    <tr style=\"text-align: right;\">\n",
              "      <th></th>\n",
              "      <th>thal</th>\n",
              "      <th>ca</th>\n",
              "      <th>cp</th>\n",
              "      <th>oldpeak</th>\n",
              "      <th>thalach</th>\n",
              "      <th>exang</th>\n",
              "      <th>slope</th>\n",
              "      <th>age</th>\n",
              "    </tr>\n",
              "  </thead>\n",
              "  <tbody>\n",
              "    <tr>\n",
              "      <th>132</th>\n",
              "      <td>2</td>\n",
              "      <td>0</td>\n",
              "      <td>1</td>\n",
              "      <td>0.0</td>\n",
              "      <td>162</td>\n",
              "      <td>0</td>\n",
              "      <td>2</td>\n",
              "      <td>42</td>\n",
              "    </tr>\n",
              "    <tr>\n",
              "      <th>203</th>\n",
              "      <td>3</td>\n",
              "      <td>0</td>\n",
              "      <td>2</td>\n",
              "      <td>1.6</td>\n",
              "      <td>150</td>\n",
              "      <td>1</td>\n",
              "      <td>1</td>\n",
              "      <td>68</td>\n",
              "    </tr>\n",
              "    <tr>\n",
              "      <th>197</th>\n",
              "      <td>3</td>\n",
              "      <td>2</td>\n",
              "      <td>0</td>\n",
              "      <td>0.2</td>\n",
              "      <td>163</td>\n",
              "      <td>0</td>\n",
              "      <td>1</td>\n",
              "      <td>67</td>\n",
              "    </tr>\n",
              "    <tr>\n",
              "      <th>75</th>\n",
              "      <td>2</td>\n",
              "      <td>0</td>\n",
              "      <td>1</td>\n",
              "      <td>1.4</td>\n",
              "      <td>161</td>\n",
              "      <td>0</td>\n",
              "      <td>1</td>\n",
              "      <td>55</td>\n",
              "    </tr>\n",
              "    <tr>\n",
              "      <th>177</th>\n",
              "      <td>2</td>\n",
              "      <td>0</td>\n",
              "      <td>2</td>\n",
              "      <td>0.0</td>\n",
              "      <td>158</td>\n",
              "      <td>0</td>\n",
              "      <td>2</td>\n",
              "      <td>64</td>\n",
              "    </tr>\n",
              "    <tr>\n",
              "      <th>...</th>\n",
              "      <td>...</td>\n",
              "      <td>...</td>\n",
              "      <td>...</td>\n",
              "      <td>...</td>\n",
              "      <td>...</td>\n",
              "      <td>...</td>\n",
              "      <td>...</td>\n",
              "      <td>...</td>\n",
              "    </tr>\n",
              "    <tr>\n",
              "      <th>189</th>\n",
              "      <td>3</td>\n",
              "      <td>0</td>\n",
              "      <td>0</td>\n",
              "      <td>0.0</td>\n",
              "      <td>158</td>\n",
              "      <td>0</td>\n",
              "      <td>2</td>\n",
              "      <td>41</td>\n",
              "    </tr>\n",
              "    <tr>\n",
              "      <th>71</th>\n",
              "      <td>3</td>\n",
              "      <td>1</td>\n",
              "      <td>2</td>\n",
              "      <td>0.0</td>\n",
              "      <td>154</td>\n",
              "      <td>1</td>\n",
              "      <td>2</td>\n",
              "      <td>51</td>\n",
              "    </tr>\n",
              "    <tr>\n",
              "      <th>106</th>\n",
              "      <td>2</td>\n",
              "      <td>1</td>\n",
              "      <td>3</td>\n",
              "      <td>0.1</td>\n",
              "      <td>131</td>\n",
              "      <td>0</td>\n",
              "      <td>1</td>\n",
              "      <td>69</td>\n",
              "    </tr>\n",
              "    <tr>\n",
              "      <th>271</th>\n",
              "      <td>2</td>\n",
              "      <td>2</td>\n",
              "      <td>3</td>\n",
              "      <td>2.6</td>\n",
              "      <td>145</td>\n",
              "      <td>0</td>\n",
              "      <td>1</td>\n",
              "      <td>61</td>\n",
              "    </tr>\n",
              "    <tr>\n",
              "      <th>102</th>\n",
              "      <td>2</td>\n",
              "      <td>2</td>\n",
              "      <td>1</td>\n",
              "      <td>0.0</td>\n",
              "      <td>179</td>\n",
              "      <td>0</td>\n",
              "      <td>2</td>\n",
              "      <td>63</td>\n",
              "    </tr>\n",
              "  </tbody>\n",
              "</table>\n",
              "<p>241 rows × 8 columns</p>\n",
              "</div>\n",
              "      <button class=\"colab-df-convert\" onclick=\"convertToInteractive('df-11cf16a7-6ab8-4ab2-a2ef-40cdf1ea5932')\"\n",
              "              title=\"Convert this dataframe to an interactive table.\"\n",
              "              style=\"display:none;\">\n",
              "        \n",
              "  <svg xmlns=\"http://www.w3.org/2000/svg\" height=\"24px\"viewBox=\"0 0 24 24\"\n",
              "       width=\"24px\">\n",
              "    <path d=\"M0 0h24v24H0V0z\" fill=\"none\"/>\n",
              "    <path d=\"M18.56 5.44l.94 2.06.94-2.06 2.06-.94-2.06-.94-.94-2.06-.94 2.06-2.06.94zm-11 1L8.5 8.5l.94-2.06 2.06-.94-2.06-.94L8.5 2.5l-.94 2.06-2.06.94zm10 10l.94 2.06.94-2.06 2.06-.94-2.06-.94-.94-2.06-.94 2.06-2.06.94z\"/><path d=\"M17.41 7.96l-1.37-1.37c-.4-.4-.92-.59-1.43-.59-.52 0-1.04.2-1.43.59L10.3 9.45l-7.72 7.72c-.78.78-.78 2.05 0 2.83L4 21.41c.39.39.9.59 1.41.59.51 0 1.02-.2 1.41-.59l7.78-7.78 2.81-2.81c.8-.78.8-2.07 0-2.86zM5.41 20L4 18.59l7.72-7.72 1.47 1.35L5.41 20z\"/>\n",
              "  </svg>\n",
              "      </button>\n",
              "      \n",
              "  <style>\n",
              "    .colab-df-container {\n",
              "      display:flex;\n",
              "      flex-wrap:wrap;\n",
              "      gap: 12px;\n",
              "    }\n",
              "\n",
              "    .colab-df-convert {\n",
              "      background-color: #E8F0FE;\n",
              "      border: none;\n",
              "      border-radius: 50%;\n",
              "      cursor: pointer;\n",
              "      display: none;\n",
              "      fill: #1967D2;\n",
              "      height: 32px;\n",
              "      padding: 0 0 0 0;\n",
              "      width: 32px;\n",
              "    }\n",
              "\n",
              "    .colab-df-convert:hover {\n",
              "      background-color: #E2EBFA;\n",
              "      box-shadow: 0px 1px 2px rgba(60, 64, 67, 0.3), 0px 1px 3px 1px rgba(60, 64, 67, 0.15);\n",
              "      fill: #174EA6;\n",
              "    }\n",
              "\n",
              "    [theme=dark] .colab-df-convert {\n",
              "      background-color: #3B4455;\n",
              "      fill: #D2E3FC;\n",
              "    }\n",
              "\n",
              "    [theme=dark] .colab-df-convert:hover {\n",
              "      background-color: #434B5C;\n",
              "      box-shadow: 0px 1px 3px 1px rgba(0, 0, 0, 0.15);\n",
              "      filter: drop-shadow(0px 1px 2px rgba(0, 0, 0, 0.3));\n",
              "      fill: #FFFFFF;\n",
              "    }\n",
              "  </style>\n",
              "\n",
              "      <script>\n",
              "        const buttonEl =\n",
              "          document.querySelector('#df-11cf16a7-6ab8-4ab2-a2ef-40cdf1ea5932 button.colab-df-convert');\n",
              "        buttonEl.style.display =\n",
              "          google.colab.kernel.accessAllowed ? 'block' : 'none';\n",
              "\n",
              "        async function convertToInteractive(key) {\n",
              "          const element = document.querySelector('#df-11cf16a7-6ab8-4ab2-a2ef-40cdf1ea5932');\n",
              "          const dataTable =\n",
              "            await google.colab.kernel.invokeFunction('convertToInteractive',\n",
              "                                                     [key], {});\n",
              "          if (!dataTable) return;\n",
              "\n",
              "          const docLinkHtml = 'Like what you see? Visit the ' +\n",
              "            '<a target=\"_blank\" href=https://colab.research.google.com/notebooks/data_table.ipynb>data table notebook</a>'\n",
              "            + ' to learn more about interactive tables.';\n",
              "          element.innerHTML = '';\n",
              "          dataTable['output_type'] = 'display_data';\n",
              "          await google.colab.output.renderOutput(dataTable, element);\n",
              "          const docLink = document.createElement('div');\n",
              "          docLink.innerHTML = docLinkHtml;\n",
              "          element.appendChild(docLink);\n",
              "        }\n",
              "      </script>\n",
              "    </div>\n",
              "  </div>\n",
              "  "
            ]
          },
          "metadata": {},
          "execution_count": 217
        }
      ]
    },
    {
      "cell_type": "markdown",
      "source": [
        "So these are the top 8 features that we have lets now tune the model by passing only these 8"
      ],
      "metadata": {
        "id": "-QZr3-aIvdtr"
      }
    },
    {
      "cell_type": "code",
      "source": [
        "grid.fit(X_train[cols],y_train)"
      ],
      "metadata": {
        "colab": {
          "base_uri": "https://localhost:8080/"
        },
        "outputId": "003b8964-d9b7-4b45-e0c9-4cc4c1f7faf0",
        "id": "BW5PhOu-vbnb"
      },
      "execution_count": null,
      "outputs": [
        {
          "output_type": "stream",
          "name": "stdout",
          "text": [
            "Fitting 3 folds for each of 120 candidates, totalling 360 fits\n"
          ]
        },
        {
          "output_type": "execute_result",
          "data": {
            "text/plain": [
              "GridSearchCV(cv=3, estimator=RandomForestClassifier(), n_jobs=-1,\n",
              "             param_grid={'max_depth': [1, 2, 3, 4],\n",
              "                         'max_features': [None, 'auto', 'log2'],\n",
              "                         'n_estimators': array([350, 360, 370, 380, 390, 400, 410, 420, 430, 440])},\n",
              "             scoring='accuracy', verbose=5)"
            ]
          },
          "metadata": {},
          "execution_count": 227
        }
      ]
    },
    {
      "cell_type": "code",
      "source": [
        "grid.best_params_"
      ],
      "metadata": {
        "colab": {
          "base_uri": "https://localhost:8080/"
        },
        "outputId": "3bd0f8b0-b15b-4fb3-b447-b2ba680d8c85",
        "id": "hrwRmcp4vbnd"
      },
      "execution_count": null,
      "outputs": [
        {
          "output_type": "execute_result",
          "data": {
            "text/plain": [
              "{'max_depth': 1, 'max_features': 'auto', 'n_estimators': 380}"
            ]
          },
          "metadata": {},
          "execution_count": 228
        }
      ]
    },
    {
      "cell_type": "code",
      "source": [
        "\n",
        "grid.best_score_"
      ],
      "metadata": {
        "colab": {
          "base_uri": "https://localhost:8080/"
        },
        "outputId": "dbc89f50-8813-4364-a06e-f0026f116969",
        "id": "xieS4zBEvbne"
      },
      "execution_count": null,
      "outputs": [
        {
          "output_type": "execute_result",
          "data": {
            "text/plain": [
              "0.8381172839506172"
            ]
          },
          "metadata": {},
          "execution_count": 229
        }
      ]
    },
    {
      "cell_type": "code",
      "source": [
        "\n",
        "grid.best_estimator_"
      ],
      "metadata": {
        "colab": {
          "base_uri": "https://localhost:8080/"
        },
        "outputId": "4a26b5f3-2fd4-430d-b4a0-125fb0e9779d",
        "id": "GKZzG2gBvbne"
      },
      "execution_count": null,
      "outputs": [
        {
          "output_type": "execute_result",
          "data": {
            "text/plain": [
              "RandomForestClassifier(max_depth=1, n_estimators=380)"
            ]
          },
          "metadata": {},
          "execution_count": 230
        }
      ]
    },
    {
      "cell_type": "code",
      "source": [
        "\n",
        "grid.best_estimator_.predict(X_test[cols])"
      ],
      "metadata": {
        "colab": {
          "base_uri": "https://localhost:8080/"
        },
        "outputId": "ed3b4890-08b3-4954-a425-cf66730df921",
        "id": "booHfHRyvbnf"
      },
      "execution_count": null,
      "outputs": [
        {
          "output_type": "execute_result",
          "data": {
            "text/plain": [
              "array([0, 0, 1, 1, 1, 1, 1, 0, 0, 1, 1, 0, 1, 0, 1, 1, 1, 0, 0, 0, 1, 0,\n",
              "       1, 1, 1, 1, 0, 1, 0, 1, 0, 0, 1, 0, 1, 0, 1, 1, 1, 1, 1, 1, 1, 1,\n",
              "       1, 0, 1, 1, 0, 0, 0, 0, 1, 1, 0, 0, 0, 1, 0, 1, 1])"
            ]
          },
          "metadata": {},
          "execution_count": 231
        }
      ]
    },
    {
      "cell_type": "code",
      "source": [
        "accuracy_score(y_test,grid.best_estimator_.predict(X_test[cols]))"
      ],
      "metadata": {
        "colab": {
          "base_uri": "https://localhost:8080/"
        },
        "outputId": "0b9f1077-887c-4d0d-ec90-969b8f7c7978",
        "id": "SuQR3s0mvbnf"
      },
      "execution_count": null,
      "outputs": [
        {
          "output_type": "execute_result",
          "data": {
            "text/plain": [
              "0.8360655737704918"
            ]
          },
          "metadata": {},
          "execution_count": 232
        }
      ]
    },
    {
      "cell_type": "code",
      "source": [
        "grid.n_features_in_"
      ],
      "metadata": {
        "colab": {
          "base_uri": "https://localhost:8080/"
        },
        "outputId": "c531b4e9-2481-4aab-9383-c94e7d61dce7",
        "id": "ukapxpwqvbng"
      },
      "execution_count": null,
      "outputs": [
        {
          "output_type": "execute_result",
          "data": {
            "text/plain": [
              "8"
            ]
          },
          "metadata": {},
          "execution_count": 233
        }
      ]
    },
    {
      "cell_type": "code",
      "source": [
        "best_cols=['thal', 'ca', 'cp', 'oldpeak', 'thalach', 'exang', 'slope', 'age']\n"
      ],
      "metadata": {
        "id": "zngWWKtcycSi"
      },
      "execution_count": null,
      "outputs": []
    },
    {
      "cell_type": "markdown",
      "source": [
        "####**Tuning KNN Algorithm for best K value:**"
      ],
      "metadata": {
        "id": "4xyQEbx2yRA1"
      }
    },
    {
      "cell_type": "code",
      "source": [
        "model_grid= KNeighborsClassifier()"
      ],
      "metadata": {
        "id": "uAgSmcxZycNn"
      },
      "execution_count": null,
      "outputs": []
    },
    {
      "cell_type": "code",
      "source": [
        "np.arange(350,450,10)"
      ],
      "metadata": {
        "colab": {
          "base_uri": "https://localhost:8080/"
        },
        "id": "SnPI38s0ycKx",
        "outputId": "94c3d1bd-aeff-47f1-9883-a0076e5946d0"
      },
      "execution_count": null,
      "outputs": [
        {
          "output_type": "execute_result",
          "data": {
            "text/plain": [
              "array([350, 360, 370, 380, 390, 400, 410, 420, 430, 440])"
            ]
          },
          "metadata": {},
          "execution_count": 242
        }
      ]
    },
    {
      "cell_type": "code",
      "source": [
        "parameters={'n_neighbors': [1,3,5,7,9,11,13,15,17,19], 'weights':['uniform','distance']}"
      ],
      "metadata": {
        "id": "6cx8lWtRycHk"
      },
      "execution_count": null,
      "outputs": []
    },
    {
      "cell_type": "code",
      "source": [
        "grid= GridSearchCV(model_grid,parameters, scoring ='accuracy',cv =3,n_jobs= -1, verbose =5)"
      ],
      "metadata": {
        "id": "nIXFtznzycFB"
      },
      "execution_count": null,
      "outputs": []
    },
    {
      "cell_type": "code",
      "source": [
        "grid.fit(X_train,y_train)"
      ],
      "metadata": {
        "colab": {
          "base_uri": "https://localhost:8080/"
        },
        "id": "4sB5pf_4ycCu",
        "outputId": "34117ccf-3776-4530-fc05-383a33aa2a91"
      },
      "execution_count": null,
      "outputs": [
        {
          "output_type": "stream",
          "name": "stdout",
          "text": [
            "Fitting 3 folds for each of 20 candidates, totalling 60 fits\n"
          ]
        },
        {
          "output_type": "execute_result",
          "data": {
            "text/plain": [
              "GridSearchCV(cv=3, estimator=KNeighborsClassifier(), n_jobs=-1,\n",
              "             param_grid={'n_neighbors': [1, 3, 5, 7, 9, 11, 13, 15, 17, 19],\n",
              "                         'weights': ['uniform', 'distance']},\n",
              "             scoring='accuracy', verbose=5)"
            ]
          },
          "metadata": {},
          "execution_count": 251
        }
      ]
    },
    {
      "cell_type": "code",
      "source": [
        "grid.best_params_"
      ],
      "metadata": {
        "colab": {
          "base_uri": "https://localhost:8080/"
        },
        "id": "ZyJAMtf_yb_E",
        "outputId": "ca45b8df-269a-4293-9333-9ca575940326"
      },
      "execution_count": null,
      "outputs": [
        {
          "output_type": "execute_result",
          "data": {
            "text/plain": [
              "{'n_neighbors': 17, 'weights': 'uniform'}"
            ]
          },
          "metadata": {},
          "execution_count": 252
        }
      ]
    },
    {
      "cell_type": "code",
      "source": [
        "grid.best_score_"
      ],
      "metadata": {
        "colab": {
          "base_uri": "https://localhost:8080/"
        },
        "id": "k7HitMzkyb8O",
        "outputId": "8d92958d-5c44-4aef-980f-140dd5978375"
      },
      "execution_count": null,
      "outputs": [
        {
          "output_type": "execute_result",
          "data": {
            "text/plain": [
              "0.713477366255144"
            ]
          },
          "metadata": {},
          "execution_count": 253
        }
      ]
    },
    {
      "cell_type": "code",
      "source": [
        "grid.best_estimator_"
      ],
      "metadata": {
        "colab": {
          "base_uri": "https://localhost:8080/"
        },
        "id": "2Nti1ylgzoi3",
        "outputId": "78d65d65-7d90-489f-826e-263b0574a338"
      },
      "execution_count": null,
      "outputs": [
        {
          "output_type": "execute_result",
          "data": {
            "text/plain": [
              "KNeighborsClassifier(n_neighbors=17)"
            ]
          },
          "metadata": {},
          "execution_count": 254
        }
      ]
    },
    {
      "cell_type": "code",
      "source": [
        "accuracy_score(y_test,grid.best_estimator_.predict(X_test))"
      ],
      "metadata": {
        "colab": {
          "base_uri": "https://localhost:8080/"
        },
        "id": "NlIsxAXu2tZe",
        "outputId": "954c393a-d0c9-4310-a5d5-481cdd79ec2d"
      },
      "execution_count": null,
      "outputs": [
        {
          "output_type": "execute_result",
          "data": {
            "text/plain": [
              "0.6557377049180327"
            ]
          },
          "metadata": {},
          "execution_count": 256
        }
      ]
    },
    {
      "cell_type": "markdown",
      "source": [
        "####**Tuning Decision Tree Algorithm**"
      ],
      "metadata": {
        "id": "hoO-vZjw2-7K"
      }
    },
    {
      "cell_type": "code",
      "source": [
        "model_grid= DecisionTreeClassifier()"
      ],
      "metadata": {
        "id": "i_m_9V_X3SC-"
      },
      "execution_count": null,
      "outputs": []
    },
    {
      "cell_type": "code",
      "source": [
        "parameters={'max_depth': [1,2,3,4,5,6,7,8,9,10,11,12,13], 'criterion':['gini','entropy'],'min_samples_leaf':[1,2,3], 'max_features':[1,2,3,4,5,6,7,8,9,10]}"
      ],
      "metadata": {
        "id": "T-divDft3SDB"
      },
      "execution_count": null,
      "outputs": []
    },
    {
      "cell_type": "code",
      "source": [
        "grid= GridSearchCV(model_grid,parameters, scoring ='accuracy',cv =3,n_jobs= -1, verbose =5)"
      ],
      "metadata": {
        "id": "wBpySB-r3SDB"
      },
      "execution_count": null,
      "outputs": []
    },
    {
      "cell_type": "code",
      "source": [
        "grid.fit(X_train,y_train)"
      ],
      "metadata": {
        "colab": {
          "base_uri": "https://localhost:8080/"
        },
        "outputId": "e4bdbec3-36bc-41af-c6e3-9bff1f1a0410",
        "id": "6x0HbE-H3SDB"
      },
      "execution_count": null,
      "outputs": [
        {
          "output_type": "stream",
          "name": "stdout",
          "text": [
            "Fitting 3 folds for each of 780 candidates, totalling 2340 fits\n"
          ]
        },
        {
          "output_type": "execute_result",
          "data": {
            "text/plain": [
              "GridSearchCV(cv=3, estimator=DecisionTreeClassifier(), n_jobs=-1,\n",
              "             param_grid={'criterion': ['gini', 'entropy'],\n",
              "                         'max_depth': [1, 2, 3, 4, 5, 6, 7, 8, 9, 10, 11, 12,\n",
              "                                       13],\n",
              "                         'max_features': [1, 2, 3, 4, 5, 6, 7, 8, 9, 10],\n",
              "                         'min_samples_leaf': [1, 2, 3]},\n",
              "             scoring='accuracy', verbose=5)"
            ]
          },
          "metadata": {},
          "execution_count": 287
        }
      ]
    },
    {
      "cell_type": "code",
      "source": [
        "grid.best_params_"
      ],
      "metadata": {
        "colab": {
          "base_uri": "https://localhost:8080/"
        },
        "outputId": "a7bb76c9-e8d6-446d-d19e-275aadbd583d",
        "id": "dZDr4f-33SDC"
      },
      "execution_count": null,
      "outputs": [
        {
          "output_type": "execute_result",
          "data": {
            "text/plain": [
              "{'criterion': 'entropy',\n",
              " 'max_depth': 3,\n",
              " 'max_features': 7,\n",
              " 'min_samples_leaf': 1}"
            ]
          },
          "metadata": {},
          "execution_count": 288
        }
      ]
    },
    {
      "cell_type": "code",
      "source": [
        "grid.best_score_"
      ],
      "metadata": {
        "colab": {
          "base_uri": "https://localhost:8080/"
        },
        "outputId": "65117265-b762-425c-f3e0-fe89a5c6a5a4",
        "id": "MP8wzxXw3SDC"
      },
      "execution_count": null,
      "outputs": [
        {
          "output_type": "execute_result",
          "data": {
            "text/plain": [
              "0.8007716049382715"
            ]
          },
          "metadata": {},
          "execution_count": 289
        }
      ]
    },
    {
      "cell_type": "code",
      "source": [
        "\n",
        "grid.best_estimator_"
      ],
      "metadata": {
        "colab": {
          "base_uri": "https://localhost:8080/"
        },
        "outputId": "9adf718b-f691-4445-d48f-7a6005a947a5",
        "id": "wtOCpm1W3SDD"
      },
      "execution_count": null,
      "outputs": [
        {
          "output_type": "execute_result",
          "data": {
            "text/plain": [
              "DecisionTreeClassifier(criterion='entropy', max_depth=3, max_features=7)"
            ]
          },
          "metadata": {},
          "execution_count": 290
        }
      ]
    },
    {
      "cell_type": "code",
      "source": [
        "accuracy_score(y_test,grid.best_estimator_.predict(X_test))"
      ],
      "metadata": {
        "colab": {
          "base_uri": "https://localhost:8080/"
        },
        "outputId": "4f6212f6-20ad-431f-c79e-81f054f7f771",
        "id": "4hWeKP7t3SDD"
      },
      "execution_count": null,
      "outputs": [
        {
          "output_type": "execute_result",
          "data": {
            "text/plain": [
              "0.7868852459016393"
            ]
          },
          "metadata": {},
          "execution_count": 291
        }
      ]
    },
    {
      "cell_type": "markdown",
      "source": [
        "####Percentage of score increase after tuning is calculated as below"
      ],
      "metadata": {
        "id": "8fAKZ3-U5jS1"
      }
    },
    {
      "cell_type": "code",
      "source": [
        "#lets say with out tuning we got 73 and after tuning we got 78 then base is 73 and %increase after tuning is calculated as below\n",
        "(78-73)/73*100"
      ],
      "metadata": {
        "colab": {
          "base_uri": "https://localhost:8080/"
        },
        "id": "Zz1W_wEU3HOK",
        "outputId": "391d3f9e-63aa-42e0-c124-67024abd72ba"
      },
      "execution_count": null,
      "outputs": [
        {
          "output_type": "execute_result",
          "data": {
            "text/plain": [
              "6.8493150684931505"
            ]
          },
          "metadata": {},
          "execution_count": 292
        }
      ]
    },
    {
      "cell_type": "code",
      "source": [],
      "metadata": {
        "id": "b-C4Z2o23HLi"
      },
      "execution_count": null,
      "outputs": []
    },
    {
      "cell_type": "code",
      "source": [],
      "metadata": {
        "id": "kI07n5xQ3HJF"
      },
      "execution_count": null,
      "outputs": []
    },
    {
      "cell_type": "markdown",
      "source": [
        "###**Advantages of GridSearch and Hyperparameter tuning:**\n",
        "\n",
        "- We can reduce the overfitting and also we can improve the performace using Hyperparameter tuning and Gridsearch"
      ],
      "metadata": {
        "id": "v5gLyWWH6zRK"
      }
    },
    {
      "cell_type": "markdown",
      "source": [
        "##Now with all these tuned parameters for each algorithm we can pass on to voting and Stacking"
      ],
      "metadata": {
        "id": "wqnkjDbv6jDT"
      }
    },
    {
      "cell_type": "markdown",
      "source": [
        "##**Voting Classifier:**"
      ],
      "metadata": {
        "id": "0oNzjz_HOIBD"
      }
    },
    {
      "cell_type": "code",
      "source": [
        "clf1 = DecisionTreeClassifier(max_depth=4,max_features=10,min_samples_leaf=2)\n",
        "clf2 = RandomForestClassifier(max_depth=6,max_features='sqrt',n_estimators=50)\n",
        "clf3 = GradientBoostingClassifier()\n"
      ],
      "metadata": {
        "id": "Xq2qMKAbot0P"
      },
      "execution_count": null,
      "outputs": []
    },
    {
      "cell_type": "code",
      "source": [
        "eclf1 = VotingClassifier(estimators=[('lr', clf1), ('rf', clf2), ('gnb', clf3)], voting='hard')"
      ],
      "metadata": {
        "id": "PTT76Hn4otxh"
      },
      "execution_count": null,
      "outputs": []
    },
    {
      "cell_type": "code",
      "source": [
        "eclf1.fit(X_train,y_train)"
      ],
      "metadata": {
        "colab": {
          "base_uri": "https://localhost:8080/"
        },
        "id": "OWFUz64Xotu8",
        "outputId": "ceb28fab-d3bc-4bd1-fe47-52b25874a65e"
      },
      "execution_count": null,
      "outputs": [
        {
          "output_type": "execute_result",
          "data": {
            "text/plain": [
              "VotingClassifier(estimators=[('lr',\n",
              "                              DecisionTreeClassifier(max_depth=4,\n",
              "                                                     max_features=10,\n",
              "                                                     min_samples_leaf=2)),\n",
              "                             ('rf',\n",
              "                              RandomForestClassifier(max_depth=6,\n",
              "                                                     max_features='sqrt',\n",
              "                                                     n_estimators=50)),\n",
              "                             ('gnb', GradientBoostingClassifier())])"
            ]
          },
          "metadata": {},
          "execution_count": 295
        }
      ]
    },
    {
      "cell_type": "code",
      "source": [
        "train_pred = eclf1.predict(X_train)\n",
        "test_pred = eclf1.predict(X_test)\n",
        "train_accuracy = accuracy_score(y_train, train_pred)\n",
        "test_accuracy = accuracy_score(y_test, test_pred)\n",
        "print(eclf1)\n",
        "print('\\n')\n",
        "print(\"Train_Accuracy :\",train_accuracy)\n",
        "print(\"Test_Accuracy :\",test_accuracy)"
      ],
      "metadata": {
        "colab": {
          "base_uri": "https://localhost:8080/"
        },
        "id": "rQ9XO6JcotsA",
        "outputId": "a223d9d2-91e9-4c13-fa70-3108ca956469"
      },
      "execution_count": null,
      "outputs": [
        {
          "output_type": "stream",
          "name": "stdout",
          "text": [
            "VotingClassifier(estimators=[('lr',\n",
            "                              DecisionTreeClassifier(max_depth=4,\n",
            "                                                     max_features=10,\n",
            "                                                     min_samples_leaf=2)),\n",
            "                             ('rf',\n",
            "                              RandomForestClassifier(max_depth=6,\n",
            "                                                     max_features='sqrt',\n",
            "                                                     n_estimators=50)),\n",
            "                             ('gnb', GradientBoostingClassifier())])\n",
            "\n",
            "\n",
            "Train_Accuracy : 0.975103734439834\n",
            "Test_Accuracy : 0.8688524590163934\n"
          ]
        }
      ]
    },
    {
      "cell_type": "markdown",
      "source": [
        "##**Stacking Classifier:**"
      ],
      "metadata": {
        "id": "66HSkfbvP58W"
      }
    },
    {
      "cell_type": "code",
      "source": [
        "from sklearn.ensemble import StackingClassifier\n",
        "estimators=[('lr', DecisionTreeClassifier()),\n",
        "                             ('rf', RandomForestClassifier()),\n",
        "                             ('gnb', GradientBoostingClassifier())]"
      ],
      "metadata": {
        "id": "HJvjYOdpotjB"
      },
      "execution_count": null,
      "outputs": []
    },
    {
      "cell_type": "code",
      "source": [
        "clf = StackingClassifier(estimators=estimators, final_estimator=LogisticRegression())"
      ],
      "metadata": {
        "id": "F8PPz3edQXYe"
      },
      "execution_count": null,
      "outputs": []
    },
    {
      "cell_type": "code",
      "source": [
        "clf.fit(X_train,y_train)"
      ],
      "metadata": {
        "colab": {
          "base_uri": "https://localhost:8080/"
        },
        "id": "NuVhKR5uRLe9",
        "outputId": "bb5ad521-eff2-4098-a28a-971f25e74fe3"
      },
      "execution_count": null,
      "outputs": [
        {
          "output_type": "execute_result",
          "data": {
            "text/plain": [
              "StackingClassifier(estimators=[('lr', DecisionTreeClassifier()),\n",
              "                               ('rf', RandomForestClassifier()),\n",
              "                               ('gnb', GradientBoostingClassifier())],\n",
              "                   final_estimator=LogisticRegression())"
            ]
          },
          "metadata": {},
          "execution_count": 299
        }
      ]
    },
    {
      "cell_type": "code",
      "source": [
        "train_pred = clf.predict(X_train)\n",
        "test_pred = clf.predict(X_test)\n",
        "train_accuracy = accuracy_score(y_train, train_pred)\n",
        "test_accuracy = accuracy_score(y_test, test_pred)\n",
        "print(clf)\n",
        "print('\\n')\n",
        "print(\"Train_Accuracy :\",train_accuracy)\n",
        "print(\"Test_Accuracy :\",test_accuracy)"
      ],
      "metadata": {
        "colab": {
          "base_uri": "https://localhost:8080/"
        },
        "id": "UjxAmACMotgR",
        "outputId": "1e070af2-d7cf-4639-d8a5-b1407c26da91"
      },
      "execution_count": null,
      "outputs": [
        {
          "output_type": "stream",
          "name": "stdout",
          "text": [
            "StackingClassifier(estimators=[('lr', DecisionTreeClassifier()),\n",
            "                               ('rf', RandomForestClassifier()),\n",
            "                               ('gnb', GradientBoostingClassifier())],\n",
            "                   final_estimator=LogisticRegression())\n",
            "\n",
            "\n",
            "Train_Accuracy : 1.0\n",
            "Test_Accuracy : 0.8688524590163934\n"
          ]
        }
      ]
    },
    {
      "cell_type": "markdown",
      "source": [
        "##**Features Selection Using RandomForest Algorithm:**"
      ],
      "metadata": {
        "id": "x2NqJUuHSsYR"
      }
    },
    {
      "cell_type": "code",
      "source": [
        "random = RandomForestClassifier()"
      ],
      "metadata": {
        "id": "X_t5bk7kotdT"
      },
      "execution_count": null,
      "outputs": []
    },
    {
      "cell_type": "code",
      "source": [
        "random.fit(X_train,y_train)"
      ],
      "metadata": {
        "colab": {
          "base_uri": "https://localhost:8080/"
        },
        "id": "s8mTn3-iTiBe",
        "outputId": "5e9c8ab8-0601-4839-cf02-629d041e9f00"
      },
      "execution_count": null,
      "outputs": [
        {
          "output_type": "execute_result",
          "data": {
            "text/plain": [
              "RandomForestClassifier()"
            ]
          },
          "metadata": {},
          "execution_count": 340
        }
      ]
    },
    {
      "cell_type": "code",
      "source": [
        "imp_features_lst = random.feature_importances_"
      ],
      "metadata": {
        "id": "X3ID8wRZotaJ"
      },
      "execution_count": null,
      "outputs": []
    },
    {
      "cell_type": "code",
      "source": [],
      "metadata": {
        "id": "A7AL4gh8ULNj"
      },
      "execution_count": null,
      "outputs": []
    },
    {
      "cell_type": "code",
      "source": [
        "data_series=pd.Series(imp_features_lst*100,x.columns).sort_values(ascending=False)\n",
        "pd.DataFrame(data_series, columns=['IMP_Percentage'])"
      ],
      "metadata": {
        "colab": {
          "base_uri": "https://localhost:8080/",
          "height": 457
        },
        "id": "7eE3vf5hotXY",
        "outputId": "41c94cd3-ec97-4262-d0fb-71726f1e901d"
      },
      "execution_count": null,
      "outputs": [
        {
          "output_type": "execute_result",
          "data": {
            "text/plain": [
              "          IMP_Percentage\n",
              "thalach        12.664718\n",
              "ca             12.596612\n",
              "oldpeak        11.074155\n",
              "cp             10.326347\n",
              "thal            9.927734\n",
              "age             9.736893\n",
              "chol            8.198141\n",
              "exang           7.099897\n",
              "trestbps        6.846762\n",
              "slope           4.758187\n",
              "sex             3.989239\n",
              "restecg         1.846992\n",
              "fbs             0.934325"
            ],
            "text/html": [
              "\n",
              "  <div id=\"df-972c6ad8-7297-46ca-ae3b-2a8c7b306612\">\n",
              "    <div class=\"colab-df-container\">\n",
              "      <div>\n",
              "<style scoped>\n",
              "    .dataframe tbody tr th:only-of-type {\n",
              "        vertical-align: middle;\n",
              "    }\n",
              "\n",
              "    .dataframe tbody tr th {\n",
              "        vertical-align: top;\n",
              "    }\n",
              "\n",
              "    .dataframe thead th {\n",
              "        text-align: right;\n",
              "    }\n",
              "</style>\n",
              "<table border=\"1\" class=\"dataframe\">\n",
              "  <thead>\n",
              "    <tr style=\"text-align: right;\">\n",
              "      <th></th>\n",
              "      <th>IMP_Percentage</th>\n",
              "    </tr>\n",
              "  </thead>\n",
              "  <tbody>\n",
              "    <tr>\n",
              "      <th>thalach</th>\n",
              "      <td>12.664718</td>\n",
              "    </tr>\n",
              "    <tr>\n",
              "      <th>ca</th>\n",
              "      <td>12.596612</td>\n",
              "    </tr>\n",
              "    <tr>\n",
              "      <th>oldpeak</th>\n",
              "      <td>11.074155</td>\n",
              "    </tr>\n",
              "    <tr>\n",
              "      <th>cp</th>\n",
              "      <td>10.326347</td>\n",
              "    </tr>\n",
              "    <tr>\n",
              "      <th>thal</th>\n",
              "      <td>9.927734</td>\n",
              "    </tr>\n",
              "    <tr>\n",
              "      <th>age</th>\n",
              "      <td>9.736893</td>\n",
              "    </tr>\n",
              "    <tr>\n",
              "      <th>chol</th>\n",
              "      <td>8.198141</td>\n",
              "    </tr>\n",
              "    <tr>\n",
              "      <th>exang</th>\n",
              "      <td>7.099897</td>\n",
              "    </tr>\n",
              "    <tr>\n",
              "      <th>trestbps</th>\n",
              "      <td>6.846762</td>\n",
              "    </tr>\n",
              "    <tr>\n",
              "      <th>slope</th>\n",
              "      <td>4.758187</td>\n",
              "    </tr>\n",
              "    <tr>\n",
              "      <th>sex</th>\n",
              "      <td>3.989239</td>\n",
              "    </tr>\n",
              "    <tr>\n",
              "      <th>restecg</th>\n",
              "      <td>1.846992</td>\n",
              "    </tr>\n",
              "    <tr>\n",
              "      <th>fbs</th>\n",
              "      <td>0.934325</td>\n",
              "    </tr>\n",
              "  </tbody>\n",
              "</table>\n",
              "</div>\n",
              "      <button class=\"colab-df-convert\" onclick=\"convertToInteractive('df-972c6ad8-7297-46ca-ae3b-2a8c7b306612')\"\n",
              "              title=\"Convert this dataframe to an interactive table.\"\n",
              "              style=\"display:none;\">\n",
              "        \n",
              "  <svg xmlns=\"http://www.w3.org/2000/svg\" height=\"24px\"viewBox=\"0 0 24 24\"\n",
              "       width=\"24px\">\n",
              "    <path d=\"M0 0h24v24H0V0z\" fill=\"none\"/>\n",
              "    <path d=\"M18.56 5.44l.94 2.06.94-2.06 2.06-.94-2.06-.94-.94-2.06-.94 2.06-2.06.94zm-11 1L8.5 8.5l.94-2.06 2.06-.94-2.06-.94L8.5 2.5l-.94 2.06-2.06.94zm10 10l.94 2.06.94-2.06 2.06-.94-2.06-.94-.94-2.06-.94 2.06-2.06.94z\"/><path d=\"M17.41 7.96l-1.37-1.37c-.4-.4-.92-.59-1.43-.59-.52 0-1.04.2-1.43.59L10.3 9.45l-7.72 7.72c-.78.78-.78 2.05 0 2.83L4 21.41c.39.39.9.59 1.41.59.51 0 1.02-.2 1.41-.59l7.78-7.78 2.81-2.81c.8-.78.8-2.07 0-2.86zM5.41 20L4 18.59l7.72-7.72 1.47 1.35L5.41 20z\"/>\n",
              "  </svg>\n",
              "      </button>\n",
              "      \n",
              "  <style>\n",
              "    .colab-df-container {\n",
              "      display:flex;\n",
              "      flex-wrap:wrap;\n",
              "      gap: 12px;\n",
              "    }\n",
              "\n",
              "    .colab-df-convert {\n",
              "      background-color: #E8F0FE;\n",
              "      border: none;\n",
              "      border-radius: 50%;\n",
              "      cursor: pointer;\n",
              "      display: none;\n",
              "      fill: #1967D2;\n",
              "      height: 32px;\n",
              "      padding: 0 0 0 0;\n",
              "      width: 32px;\n",
              "    }\n",
              "\n",
              "    .colab-df-convert:hover {\n",
              "      background-color: #E2EBFA;\n",
              "      box-shadow: 0px 1px 2px rgba(60, 64, 67, 0.3), 0px 1px 3px 1px rgba(60, 64, 67, 0.15);\n",
              "      fill: #174EA6;\n",
              "    }\n",
              "\n",
              "    [theme=dark] .colab-df-convert {\n",
              "      background-color: #3B4455;\n",
              "      fill: #D2E3FC;\n",
              "    }\n",
              "\n",
              "    [theme=dark] .colab-df-convert:hover {\n",
              "      background-color: #434B5C;\n",
              "      box-shadow: 0px 1px 3px 1px rgba(0, 0, 0, 0.15);\n",
              "      filter: drop-shadow(0px 1px 2px rgba(0, 0, 0, 0.3));\n",
              "      fill: #FFFFFF;\n",
              "    }\n",
              "  </style>\n",
              "\n",
              "      <script>\n",
              "        const buttonEl =\n",
              "          document.querySelector('#df-972c6ad8-7297-46ca-ae3b-2a8c7b306612 button.colab-df-convert');\n",
              "        buttonEl.style.display =\n",
              "          google.colab.kernel.accessAllowed ? 'block' : 'none';\n",
              "\n",
              "        async function convertToInteractive(key) {\n",
              "          const element = document.querySelector('#df-972c6ad8-7297-46ca-ae3b-2a8c7b306612');\n",
              "          const dataTable =\n",
              "            await google.colab.kernel.invokeFunction('convertToInteractive',\n",
              "                                                     [key], {});\n",
              "          if (!dataTable) return;\n",
              "\n",
              "          const docLinkHtml = 'Like what you see? Visit the ' +\n",
              "            '<a target=\"_blank\" href=https://colab.research.google.com/notebooks/data_table.ipynb>data table notebook</a>'\n",
              "            + ' to learn more about interactive tables.';\n",
              "          element.innerHTML = '';\n",
              "          dataTable['output_type'] = 'display_data';\n",
              "          await google.colab.output.renderOutput(dataTable, element);\n",
              "          const docLink = document.createElement('div');\n",
              "          docLink.innerHTML = docLinkHtml;\n",
              "          element.appendChild(docLink);\n",
              "        }\n",
              "      </script>\n",
              "    </div>\n",
              "  </div>\n",
              "  "
            ]
          },
          "metadata": {},
          "execution_count": 342
        }
      ]
    },
    {
      "cell_type": "code",
      "source": [
        "#I can choose top ten best columns as well\n",
        "pd.DataFrame(data_series, columns=['IMP_Percentage'])[:10]"
      ],
      "metadata": {
        "colab": {
          "base_uri": "https://localhost:8080/",
          "height": 363
        },
        "id": "ZUQ6R64votUl",
        "outputId": "ab91ffef-b5ff-48dd-eaf5-8c8ecc418c7c"
      },
      "execution_count": null,
      "outputs": [
        {
          "output_type": "execute_result",
          "data": {
            "text/plain": [
              "          IMP_Percentage\n",
              "thalach        12.664718\n",
              "ca             12.596612\n",
              "oldpeak        11.074155\n",
              "cp             10.326347\n",
              "thal            9.927734\n",
              "age             9.736893\n",
              "chol            8.198141\n",
              "exang           7.099897\n",
              "trestbps        6.846762\n",
              "slope           4.758187"
            ],
            "text/html": [
              "\n",
              "  <div id=\"df-5636c8fb-83b1-4efd-8ab4-7a3ffae9583a\">\n",
              "    <div class=\"colab-df-container\">\n",
              "      <div>\n",
              "<style scoped>\n",
              "    .dataframe tbody tr th:only-of-type {\n",
              "        vertical-align: middle;\n",
              "    }\n",
              "\n",
              "    .dataframe tbody tr th {\n",
              "        vertical-align: top;\n",
              "    }\n",
              "\n",
              "    .dataframe thead th {\n",
              "        text-align: right;\n",
              "    }\n",
              "</style>\n",
              "<table border=\"1\" class=\"dataframe\">\n",
              "  <thead>\n",
              "    <tr style=\"text-align: right;\">\n",
              "      <th></th>\n",
              "      <th>IMP_Percentage</th>\n",
              "    </tr>\n",
              "  </thead>\n",
              "  <tbody>\n",
              "    <tr>\n",
              "      <th>thalach</th>\n",
              "      <td>12.664718</td>\n",
              "    </tr>\n",
              "    <tr>\n",
              "      <th>ca</th>\n",
              "      <td>12.596612</td>\n",
              "    </tr>\n",
              "    <tr>\n",
              "      <th>oldpeak</th>\n",
              "      <td>11.074155</td>\n",
              "    </tr>\n",
              "    <tr>\n",
              "      <th>cp</th>\n",
              "      <td>10.326347</td>\n",
              "    </tr>\n",
              "    <tr>\n",
              "      <th>thal</th>\n",
              "      <td>9.927734</td>\n",
              "    </tr>\n",
              "    <tr>\n",
              "      <th>age</th>\n",
              "      <td>9.736893</td>\n",
              "    </tr>\n",
              "    <tr>\n",
              "      <th>chol</th>\n",
              "      <td>8.198141</td>\n",
              "    </tr>\n",
              "    <tr>\n",
              "      <th>exang</th>\n",
              "      <td>7.099897</td>\n",
              "    </tr>\n",
              "    <tr>\n",
              "      <th>trestbps</th>\n",
              "      <td>6.846762</td>\n",
              "    </tr>\n",
              "    <tr>\n",
              "      <th>slope</th>\n",
              "      <td>4.758187</td>\n",
              "    </tr>\n",
              "  </tbody>\n",
              "</table>\n",
              "</div>\n",
              "      <button class=\"colab-df-convert\" onclick=\"convertToInteractive('df-5636c8fb-83b1-4efd-8ab4-7a3ffae9583a')\"\n",
              "              title=\"Convert this dataframe to an interactive table.\"\n",
              "              style=\"display:none;\">\n",
              "        \n",
              "  <svg xmlns=\"http://www.w3.org/2000/svg\" height=\"24px\"viewBox=\"0 0 24 24\"\n",
              "       width=\"24px\">\n",
              "    <path d=\"M0 0h24v24H0V0z\" fill=\"none\"/>\n",
              "    <path d=\"M18.56 5.44l.94 2.06.94-2.06 2.06-.94-2.06-.94-.94-2.06-.94 2.06-2.06.94zm-11 1L8.5 8.5l.94-2.06 2.06-.94-2.06-.94L8.5 2.5l-.94 2.06-2.06.94zm10 10l.94 2.06.94-2.06 2.06-.94-2.06-.94-.94-2.06-.94 2.06-2.06.94z\"/><path d=\"M17.41 7.96l-1.37-1.37c-.4-.4-.92-.59-1.43-.59-.52 0-1.04.2-1.43.59L10.3 9.45l-7.72 7.72c-.78.78-.78 2.05 0 2.83L4 21.41c.39.39.9.59 1.41.59.51 0 1.02-.2 1.41-.59l7.78-7.78 2.81-2.81c.8-.78.8-2.07 0-2.86zM5.41 20L4 18.59l7.72-7.72 1.47 1.35L5.41 20z\"/>\n",
              "  </svg>\n",
              "      </button>\n",
              "      \n",
              "  <style>\n",
              "    .colab-df-container {\n",
              "      display:flex;\n",
              "      flex-wrap:wrap;\n",
              "      gap: 12px;\n",
              "    }\n",
              "\n",
              "    .colab-df-convert {\n",
              "      background-color: #E8F0FE;\n",
              "      border: none;\n",
              "      border-radius: 50%;\n",
              "      cursor: pointer;\n",
              "      display: none;\n",
              "      fill: #1967D2;\n",
              "      height: 32px;\n",
              "      padding: 0 0 0 0;\n",
              "      width: 32px;\n",
              "    }\n",
              "\n",
              "    .colab-df-convert:hover {\n",
              "      background-color: #E2EBFA;\n",
              "      box-shadow: 0px 1px 2px rgba(60, 64, 67, 0.3), 0px 1px 3px 1px rgba(60, 64, 67, 0.15);\n",
              "      fill: #174EA6;\n",
              "    }\n",
              "\n",
              "    [theme=dark] .colab-df-convert {\n",
              "      background-color: #3B4455;\n",
              "      fill: #D2E3FC;\n",
              "    }\n",
              "\n",
              "    [theme=dark] .colab-df-convert:hover {\n",
              "      background-color: #434B5C;\n",
              "      box-shadow: 0px 1px 3px 1px rgba(0, 0, 0, 0.15);\n",
              "      filter: drop-shadow(0px 1px 2px rgba(0, 0, 0, 0.3));\n",
              "      fill: #FFFFFF;\n",
              "    }\n",
              "  </style>\n",
              "\n",
              "      <script>\n",
              "        const buttonEl =\n",
              "          document.querySelector('#df-5636c8fb-83b1-4efd-8ab4-7a3ffae9583a button.colab-df-convert');\n",
              "        buttonEl.style.display =\n",
              "          google.colab.kernel.accessAllowed ? 'block' : 'none';\n",
              "\n",
              "        async function convertToInteractive(key) {\n",
              "          const element = document.querySelector('#df-5636c8fb-83b1-4efd-8ab4-7a3ffae9583a');\n",
              "          const dataTable =\n",
              "            await google.colab.kernel.invokeFunction('convertToInteractive',\n",
              "                                                     [key], {});\n",
              "          if (!dataTable) return;\n",
              "\n",
              "          const docLinkHtml = 'Like what you see? Visit the ' +\n",
              "            '<a target=\"_blank\" href=https://colab.research.google.com/notebooks/data_table.ipynb>data table notebook</a>'\n",
              "            + ' to learn more about interactive tables.';\n",
              "          element.innerHTML = '';\n",
              "          dataTable['output_type'] = 'display_data';\n",
              "          await google.colab.output.renderOutput(dataTable, element);\n",
              "          const docLink = document.createElement('div');\n",
              "          docLink.innerHTML = docLinkHtml;\n",
              "          element.appendChild(docLink);\n",
              "        }\n",
              "      </script>\n",
              "    </div>\n",
              "  </div>\n",
              "  "
            ]
          },
          "metadata": {},
          "execution_count": 344
        }
      ]
    },
    {
      "cell_type": "code",
      "source": [
        "col= data_series[:10].index"
      ],
      "metadata": {
        "id": "KlaL8XhKotSE"
      },
      "execution_count": null,
      "outputs": []
    },
    {
      "cell_type": "code",
      "source": [
        "x[col]"
      ],
      "metadata": {
        "colab": {
          "base_uri": "https://localhost:8080/",
          "height": 424
        },
        "id": "H7BlFHTUotPu",
        "outputId": "f9919e4a-81d4-4989-ce36-aea4251d04fb"
      },
      "execution_count": null,
      "outputs": [
        {
          "output_type": "execute_result",
          "data": {
            "text/plain": [
              "     thalach  ca  oldpeak  cp  thal  age  chol  exang  trestbps  slope\n",
              "0        150   0      2.3   3     1   63   233      0       145      0\n",
              "1        187   0      3.5   2     2   37   250      0       130      0\n",
              "2        172   0      1.4   1     2   41   204      0       130      2\n",
              "3        178   0      0.8   1     2   56   236      0       120      2\n",
              "4        163   0      0.6   0     2   57   354      1       120      2\n",
              "..       ...  ..      ...  ..   ...  ...   ...    ...       ...    ...\n",
              "298      123   0      0.2   0     3   57   241      1       140      1\n",
              "299      132   0      1.2   3     3   45   264      0       110      1\n",
              "300      141   2      3.4   0     3   68   193      0       144      1\n",
              "301      115   1      1.2   0     3   57   131      1       130      1\n",
              "302      174   1      0.0   1     2   57   236      0       130      1\n",
              "\n",
              "[302 rows x 10 columns]"
            ],
            "text/html": [
              "\n",
              "  <div id=\"df-776b79f2-f110-4408-b113-463d8e8ebc30\">\n",
              "    <div class=\"colab-df-container\">\n",
              "      <div>\n",
              "<style scoped>\n",
              "    .dataframe tbody tr th:only-of-type {\n",
              "        vertical-align: middle;\n",
              "    }\n",
              "\n",
              "    .dataframe tbody tr th {\n",
              "        vertical-align: top;\n",
              "    }\n",
              "\n",
              "    .dataframe thead th {\n",
              "        text-align: right;\n",
              "    }\n",
              "</style>\n",
              "<table border=\"1\" class=\"dataframe\">\n",
              "  <thead>\n",
              "    <tr style=\"text-align: right;\">\n",
              "      <th></th>\n",
              "      <th>thalach</th>\n",
              "      <th>ca</th>\n",
              "      <th>oldpeak</th>\n",
              "      <th>cp</th>\n",
              "      <th>thal</th>\n",
              "      <th>age</th>\n",
              "      <th>chol</th>\n",
              "      <th>exang</th>\n",
              "      <th>trestbps</th>\n",
              "      <th>slope</th>\n",
              "    </tr>\n",
              "  </thead>\n",
              "  <tbody>\n",
              "    <tr>\n",
              "      <th>0</th>\n",
              "      <td>150</td>\n",
              "      <td>0</td>\n",
              "      <td>2.3</td>\n",
              "      <td>3</td>\n",
              "      <td>1</td>\n",
              "      <td>63</td>\n",
              "      <td>233</td>\n",
              "      <td>0</td>\n",
              "      <td>145</td>\n",
              "      <td>0</td>\n",
              "    </tr>\n",
              "    <tr>\n",
              "      <th>1</th>\n",
              "      <td>187</td>\n",
              "      <td>0</td>\n",
              "      <td>3.5</td>\n",
              "      <td>2</td>\n",
              "      <td>2</td>\n",
              "      <td>37</td>\n",
              "      <td>250</td>\n",
              "      <td>0</td>\n",
              "      <td>130</td>\n",
              "      <td>0</td>\n",
              "    </tr>\n",
              "    <tr>\n",
              "      <th>2</th>\n",
              "      <td>172</td>\n",
              "      <td>0</td>\n",
              "      <td>1.4</td>\n",
              "      <td>1</td>\n",
              "      <td>2</td>\n",
              "      <td>41</td>\n",
              "      <td>204</td>\n",
              "      <td>0</td>\n",
              "      <td>130</td>\n",
              "      <td>2</td>\n",
              "    </tr>\n",
              "    <tr>\n",
              "      <th>3</th>\n",
              "      <td>178</td>\n",
              "      <td>0</td>\n",
              "      <td>0.8</td>\n",
              "      <td>1</td>\n",
              "      <td>2</td>\n",
              "      <td>56</td>\n",
              "      <td>236</td>\n",
              "      <td>0</td>\n",
              "      <td>120</td>\n",
              "      <td>2</td>\n",
              "    </tr>\n",
              "    <tr>\n",
              "      <th>4</th>\n",
              "      <td>163</td>\n",
              "      <td>0</td>\n",
              "      <td>0.6</td>\n",
              "      <td>0</td>\n",
              "      <td>2</td>\n",
              "      <td>57</td>\n",
              "      <td>354</td>\n",
              "      <td>1</td>\n",
              "      <td>120</td>\n",
              "      <td>2</td>\n",
              "    </tr>\n",
              "    <tr>\n",
              "      <th>...</th>\n",
              "      <td>...</td>\n",
              "      <td>...</td>\n",
              "      <td>...</td>\n",
              "      <td>...</td>\n",
              "      <td>...</td>\n",
              "      <td>...</td>\n",
              "      <td>...</td>\n",
              "      <td>...</td>\n",
              "      <td>...</td>\n",
              "      <td>...</td>\n",
              "    </tr>\n",
              "    <tr>\n",
              "      <th>298</th>\n",
              "      <td>123</td>\n",
              "      <td>0</td>\n",
              "      <td>0.2</td>\n",
              "      <td>0</td>\n",
              "      <td>3</td>\n",
              "      <td>57</td>\n",
              "      <td>241</td>\n",
              "      <td>1</td>\n",
              "      <td>140</td>\n",
              "      <td>1</td>\n",
              "    </tr>\n",
              "    <tr>\n",
              "      <th>299</th>\n",
              "      <td>132</td>\n",
              "      <td>0</td>\n",
              "      <td>1.2</td>\n",
              "      <td>3</td>\n",
              "      <td>3</td>\n",
              "      <td>45</td>\n",
              "      <td>264</td>\n",
              "      <td>0</td>\n",
              "      <td>110</td>\n",
              "      <td>1</td>\n",
              "    </tr>\n",
              "    <tr>\n",
              "      <th>300</th>\n",
              "      <td>141</td>\n",
              "      <td>2</td>\n",
              "      <td>3.4</td>\n",
              "      <td>0</td>\n",
              "      <td>3</td>\n",
              "      <td>68</td>\n",
              "      <td>193</td>\n",
              "      <td>0</td>\n",
              "      <td>144</td>\n",
              "      <td>1</td>\n",
              "    </tr>\n",
              "    <tr>\n",
              "      <th>301</th>\n",
              "      <td>115</td>\n",
              "      <td>1</td>\n",
              "      <td>1.2</td>\n",
              "      <td>0</td>\n",
              "      <td>3</td>\n",
              "      <td>57</td>\n",
              "      <td>131</td>\n",
              "      <td>1</td>\n",
              "      <td>130</td>\n",
              "      <td>1</td>\n",
              "    </tr>\n",
              "    <tr>\n",
              "      <th>302</th>\n",
              "      <td>174</td>\n",
              "      <td>1</td>\n",
              "      <td>0.0</td>\n",
              "      <td>1</td>\n",
              "      <td>2</td>\n",
              "      <td>57</td>\n",
              "      <td>236</td>\n",
              "      <td>0</td>\n",
              "      <td>130</td>\n",
              "      <td>1</td>\n",
              "    </tr>\n",
              "  </tbody>\n",
              "</table>\n",
              "<p>302 rows × 10 columns</p>\n",
              "</div>\n",
              "      <button class=\"colab-df-convert\" onclick=\"convertToInteractive('df-776b79f2-f110-4408-b113-463d8e8ebc30')\"\n",
              "              title=\"Convert this dataframe to an interactive table.\"\n",
              "              style=\"display:none;\">\n",
              "        \n",
              "  <svg xmlns=\"http://www.w3.org/2000/svg\" height=\"24px\"viewBox=\"0 0 24 24\"\n",
              "       width=\"24px\">\n",
              "    <path d=\"M0 0h24v24H0V0z\" fill=\"none\"/>\n",
              "    <path d=\"M18.56 5.44l.94 2.06.94-2.06 2.06-.94-2.06-.94-.94-2.06-.94 2.06-2.06.94zm-11 1L8.5 8.5l.94-2.06 2.06-.94-2.06-.94L8.5 2.5l-.94 2.06-2.06.94zm10 10l.94 2.06.94-2.06 2.06-.94-2.06-.94-.94-2.06-.94 2.06-2.06.94z\"/><path d=\"M17.41 7.96l-1.37-1.37c-.4-.4-.92-.59-1.43-.59-.52 0-1.04.2-1.43.59L10.3 9.45l-7.72 7.72c-.78.78-.78 2.05 0 2.83L4 21.41c.39.39.9.59 1.41.59.51 0 1.02-.2 1.41-.59l7.78-7.78 2.81-2.81c.8-.78.8-2.07 0-2.86zM5.41 20L4 18.59l7.72-7.72 1.47 1.35L5.41 20z\"/>\n",
              "  </svg>\n",
              "      </button>\n",
              "      \n",
              "  <style>\n",
              "    .colab-df-container {\n",
              "      display:flex;\n",
              "      flex-wrap:wrap;\n",
              "      gap: 12px;\n",
              "    }\n",
              "\n",
              "    .colab-df-convert {\n",
              "      background-color: #E8F0FE;\n",
              "      border: none;\n",
              "      border-radius: 50%;\n",
              "      cursor: pointer;\n",
              "      display: none;\n",
              "      fill: #1967D2;\n",
              "      height: 32px;\n",
              "      padding: 0 0 0 0;\n",
              "      width: 32px;\n",
              "    }\n",
              "\n",
              "    .colab-df-convert:hover {\n",
              "      background-color: #E2EBFA;\n",
              "      box-shadow: 0px 1px 2px rgba(60, 64, 67, 0.3), 0px 1px 3px 1px rgba(60, 64, 67, 0.15);\n",
              "      fill: #174EA6;\n",
              "    }\n",
              "\n",
              "    [theme=dark] .colab-df-convert {\n",
              "      background-color: #3B4455;\n",
              "      fill: #D2E3FC;\n",
              "    }\n",
              "\n",
              "    [theme=dark] .colab-df-convert:hover {\n",
              "      background-color: #434B5C;\n",
              "      box-shadow: 0px 1px 3px 1px rgba(0, 0, 0, 0.15);\n",
              "      filter: drop-shadow(0px 1px 2px rgba(0, 0, 0, 0.3));\n",
              "      fill: #FFFFFF;\n",
              "    }\n",
              "  </style>\n",
              "\n",
              "      <script>\n",
              "        const buttonEl =\n",
              "          document.querySelector('#df-776b79f2-f110-4408-b113-463d8e8ebc30 button.colab-df-convert');\n",
              "        buttonEl.style.display =\n",
              "          google.colab.kernel.accessAllowed ? 'block' : 'none';\n",
              "\n",
              "        async function convertToInteractive(key) {\n",
              "          const element = document.querySelector('#df-776b79f2-f110-4408-b113-463d8e8ebc30');\n",
              "          const dataTable =\n",
              "            await google.colab.kernel.invokeFunction('convertToInteractive',\n",
              "                                                     [key], {});\n",
              "          if (!dataTable) return;\n",
              "\n",
              "          const docLinkHtml = 'Like what you see? Visit the ' +\n",
              "            '<a target=\"_blank\" href=https://colab.research.google.com/notebooks/data_table.ipynb>data table notebook</a>'\n",
              "            + ' to learn more about interactive tables.';\n",
              "          element.innerHTML = '';\n",
              "          dataTable['output_type'] = 'display_data';\n",
              "          await google.colab.output.renderOutput(dataTable, element);\n",
              "          const docLink = document.createElement('div');\n",
              "          docLink.innerHTML = docLinkHtml;\n",
              "          element.appendChild(docLink);\n",
              "        }\n",
              "      </script>\n",
              "    </div>\n",
              "  </div>\n",
              "  "
            ]
          },
          "metadata": {},
          "execution_count": 346
        }
      ]
    },
    {
      "cell_type": "markdown",
      "source": [
        "**Now with these top 10 imp columns fit the model and will see the result**"
      ],
      "metadata": {
        "id": "SKP0egpRgVfT"
      }
    },
    {
      "cell_type": "code",
      "source": [
        "random = RandomForestClassifier()"
      ],
      "metadata": {
        "id": "8RgQ_IbJotMq"
      },
      "execution_count": null,
      "outputs": []
    },
    {
      "cell_type": "code",
      "source": [
        "random.fit(X_train[col],y_train)"
      ],
      "metadata": {
        "colab": {
          "base_uri": "https://localhost:8080/"
        },
        "id": "7ZHB_swsotJE",
        "outputId": "cf335aea-015f-407b-c28b-d74c41f08e49"
      },
      "execution_count": null,
      "outputs": [
        {
          "output_type": "execute_result",
          "data": {
            "text/plain": [
              "RandomForestClassifier()"
            ]
          },
          "metadata": {},
          "execution_count": 354
        }
      ]
    },
    {
      "cell_type": "code",
      "source": [
        "train_pred = random.predict(X_train[col])\n",
        "test_pred = random.predict(X_test[col])\n",
        "train_accuracy = accuracy_score(y_train, train_pred)\n",
        "test_accuracy = accuracy_score(y_test, test_pred)\n",
        "print(random)\n",
        "print('\\n')\n",
        "print(\"Train_Accuracy :\",train_accuracy)\n",
        "print(\"Test_Accuracy :\",test_accuracy)"
      ],
      "metadata": {
        "colab": {
          "base_uri": "https://localhost:8080/"
        },
        "id": "v88nGgD0otGm",
        "outputId": "2eb3641d-1ae4-4550-de09-05feb90356e7"
      },
      "execution_count": null,
      "outputs": [
        {
          "output_type": "stream",
          "name": "stdout",
          "text": [
            "RandomForestClassifier()\n",
            "\n",
            "\n",
            "Train_Accuracy : 1.0\n",
            "Test_Accuracy : 0.8524590163934426\n"
          ]
        }
      ]
    },
    {
      "cell_type": "markdown",
      "source": [
        "**Great! with these top 10 important columns we are getting 100% accuracy**\n",
        "\n",
        "But in Realtime this is not possible with real data set!"
      ],
      "metadata": {
        "id": "hHbo-xJqhMOZ"
      }
    },
    {
      "cell_type": "code",
      "source": [],
      "metadata": {
        "id": "9yhKpBicotDX"
      },
      "execution_count": null,
      "outputs": []
    },
    {
      "cell_type": "code",
      "source": [],
      "metadata": {
        "id": "EM3U8LWB4QaZ"
      },
      "execution_count": null,
      "outputs": []
    },
    {
      "cell_type": "code",
      "source": [],
      "metadata": {
        "id": "jOU-8A4j4QYC"
      },
      "execution_count": null,
      "outputs": []
    },
    {
      "cell_type": "code",
      "source": [],
      "metadata": {
        "id": "pE9ukNpR4QVl"
      },
      "execution_count": null,
      "outputs": []
    },
    {
      "cell_type": "code",
      "source": [],
      "metadata": {
        "id": "0KL44avu4QTD"
      },
      "execution_count": null,
      "outputs": []
    },
    {
      "cell_type": "code",
      "source": [],
      "metadata": {
        "id": "EFUzjoKd4QQs"
      },
      "execution_count": null,
      "outputs": []
    },
    {
      "cell_type": "code",
      "source": [],
      "metadata": {
        "id": "Nqbky9Jq4QOH"
      },
      "execution_count": null,
      "outputs": []
    },
    {
      "cell_type": "code",
      "source": [],
      "metadata": {
        "id": "7-U29dZn4QL1"
      },
      "execution_count": null,
      "outputs": []
    },
    {
      "cell_type": "code",
      "source": [],
      "metadata": {
        "id": "T8t1DX3N4QJO"
      },
      "execution_count": null,
      "outputs": []
    },
    {
      "cell_type": "code",
      "source": [],
      "metadata": {
        "id": "TNKpwt774QGq"
      },
      "execution_count": null,
      "outputs": []
    },
    {
      "cell_type": "code",
      "source": [],
      "metadata": {
        "id": "AEI2KXCS4QEO"
      },
      "execution_count": null,
      "outputs": []
    },
    {
      "cell_type": "code",
      "source": [],
      "metadata": {
        "id": "aAoo_Su34QBp"
      },
      "execution_count": null,
      "outputs": []
    },
    {
      "cell_type": "code",
      "source": [],
      "metadata": {
        "id": "Gtd_lT8O4P_P"
      },
      "execution_count": null,
      "outputs": []
    },
    {
      "cell_type": "code",
      "source": [],
      "metadata": {
        "id": "CtfjsaIl4P8r"
      },
      "execution_count": null,
      "outputs": []
    },
    {
      "cell_type": "code",
      "source": [],
      "metadata": {
        "id": "r6xOjBAD4P6J"
      },
      "execution_count": null,
      "outputs": []
    },
    {
      "cell_type": "code",
      "source": [],
      "metadata": {
        "id": "X89wQjNk4P3o"
      },
      "execution_count": null,
      "outputs": []
    },
    {
      "cell_type": "code",
      "source": [],
      "metadata": {
        "id": "dWF8RWMJ4P1N"
      },
      "execution_count": null,
      "outputs": []
    },
    {
      "cell_type": "code",
      "source": [],
      "metadata": {
        "id": "qAe-fa1j4Pyt"
      },
      "execution_count": null,
      "outputs": []
    },
    {
      "cell_type": "code",
      "source": [],
      "metadata": {
        "id": "2_Pbpg8c4PwU"
      },
      "execution_count": null,
      "outputs": []
    },
    {
      "cell_type": "code",
      "source": [],
      "metadata": {
        "id": "0t_Psxa84Pto"
      },
      "execution_count": null,
      "outputs": []
    },
    {
      "cell_type": "code",
      "source": [],
      "metadata": {
        "id": "qlxzhC8z4Pr5"
      },
      "execution_count": null,
      "outputs": []
    },
    {
      "cell_type": "code",
      "source": [],
      "metadata": {
        "id": "mLmj19U04Ppn"
      },
      "execution_count": null,
      "outputs": []
    },
    {
      "cell_type": "code",
      "source": [],
      "metadata": {
        "id": "kDytgatK4Pni"
      },
      "execution_count": null,
      "outputs": []
    },
    {
      "cell_type": "code",
      "source": [],
      "metadata": {
        "id": "W8JgjQcF4PlT"
      },
      "execution_count": null,
      "outputs": []
    },
    {
      "cell_type": "code",
      "source": [],
      "metadata": {
        "id": "KzCG9O1Y4Pi4"
      },
      "execution_count": null,
      "outputs": []
    },
    {
      "cell_type": "code",
      "source": [],
      "metadata": {
        "id": "sUwyZQ6a4Pgy"
      },
      "execution_count": null,
      "outputs": []
    },
    {
      "cell_type": "code",
      "source": [],
      "metadata": {
        "id": "0b_lYHY74PeR"
      },
      "execution_count": null,
      "outputs": []
    },
    {
      "cell_type": "code",
      "source": [],
      "metadata": {
        "id": "1O6uI9Nk4PcK"
      },
      "execution_count": null,
      "outputs": []
    },
    {
      "cell_type": "code",
      "source": [],
      "metadata": {
        "id": "lar9-LoH4PZy"
      },
      "execution_count": null,
      "outputs": []
    },
    {
      "cell_type": "code",
      "source": [],
      "metadata": {
        "id": "OeUwKy9i4PXJ"
      },
      "execution_count": null,
      "outputs": []
    },
    {
      "cell_type": "code",
      "source": [],
      "metadata": {
        "id": "SDofvkls4PUy"
      },
      "execution_count": null,
      "outputs": []
    },
    {
      "cell_type": "code",
      "source": [],
      "metadata": {
        "id": "ej7s8_mz4PSH"
      },
      "execution_count": null,
      "outputs": []
    },
    {
      "cell_type": "code",
      "source": [],
      "metadata": {
        "id": "SmX9zdOx4PPj"
      },
      "execution_count": null,
      "outputs": []
    },
    {
      "cell_type": "code",
      "source": [],
      "metadata": {
        "id": "g0xvVX8G3oxI"
      },
      "execution_count": null,
      "outputs": []
    },
    {
      "cell_type": "code",
      "source": [],
      "metadata": {
        "id": "CAbQq6ya3r0O"
      },
      "execution_count": null,
      "outputs": []
    },
    {
      "cell_type": "code",
      "source": [],
      "metadata": {
        "id": "ySAepCRH3rw3"
      },
      "execution_count": null,
      "outputs": []
    },
    {
      "cell_type": "code",
      "source": [],
      "metadata": {
        "id": "exPOZBOn3rvJ"
      },
      "execution_count": null,
      "outputs": []
    },
    {
      "cell_type": "code",
      "source": [],
      "metadata": {
        "id": "voc71qDn3rst"
      },
      "execution_count": null,
      "outputs": []
    },
    {
      "cell_type": "code",
      "source": [],
      "metadata": {
        "id": "GY2dPKFs3rqN"
      },
      "execution_count": null,
      "outputs": []
    },
    {
      "cell_type": "code",
      "source": [],
      "metadata": {
        "id": "SCSHDIj23rns"
      },
      "execution_count": null,
      "outputs": []
    },
    {
      "cell_type": "code",
      "source": [],
      "metadata": {
        "id": "WUzKEkQC3rk6"
      },
      "execution_count": null,
      "outputs": []
    },
    {
      "cell_type": "code",
      "source": [],
      "metadata": {
        "id": "7eQ9Q5Yn3ris"
      },
      "execution_count": null,
      "outputs": []
    },
    {
      "cell_type": "code",
      "source": [],
      "metadata": {
        "id": "MGP-QoOg3rfw"
      },
      "execution_count": null,
      "outputs": []
    },
    {
      "cell_type": "code",
      "source": [],
      "metadata": {
        "id": "qr6fsmQt3rc5"
      },
      "execution_count": null,
      "outputs": []
    },
    {
      "cell_type": "code",
      "source": [],
      "metadata": {
        "id": "CR30yP9m3rZ2"
      },
      "execution_count": null,
      "outputs": []
    },
    {
      "cell_type": "code",
      "source": [],
      "metadata": {
        "id": "9fZBiF1x3rW9"
      },
      "execution_count": null,
      "outputs": []
    },
    {
      "cell_type": "code",
      "source": [],
      "metadata": {
        "id": "nP5tFnNN3rT7"
      },
      "execution_count": null,
      "outputs": []
    }
  ]
}